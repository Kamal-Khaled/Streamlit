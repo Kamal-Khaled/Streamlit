{
 "cells": [
  {
   "cell_type": "code",
   "execution_count": 220,
   "metadata": {},
   "outputs": [],
   "source": [
    "import numpy as np\n",
    "import pandas as pd"
   ]
  },
  {
   "cell_type": "code",
   "execution_count": 221,
   "metadata": {},
   "outputs": [
    {
     "data": {
      "text/html": [
       "<div>\n",
       "<style scoped>\n",
       "    .dataframe tbody tr th:only-of-type {\n",
       "        vertical-align: middle;\n",
       "    }\n",
       "\n",
       "    .dataframe tbody tr th {\n",
       "        vertical-align: top;\n",
       "    }\n",
       "\n",
       "    .dataframe thead th {\n",
       "        text-align: right;\n",
       "    }\n",
       "</style>\n",
       "<table border=\"1\" class=\"dataframe\">\n",
       "  <thead>\n",
       "    <tr style=\"text-align: right;\">\n",
       "      <th></th>\n",
       "      <th>id</th>\n",
       "      <th>gender</th>\n",
       "      <th>age</th>\n",
       "      <th>hypertension</th>\n",
       "      <th>heart_disease</th>\n",
       "      <th>ever_married</th>\n",
       "      <th>work_type</th>\n",
       "      <th>Residence_type</th>\n",
       "      <th>avg_glucose_level</th>\n",
       "      <th>bmi</th>\n",
       "      <th>smoking_status</th>\n",
       "      <th>stroke</th>\n",
       "    </tr>\n",
       "  </thead>\n",
       "  <tbody>\n",
       "    <tr>\n",
       "      <th>0</th>\n",
       "      <td>9046</td>\n",
       "      <td>Male</td>\n",
       "      <td>67.0</td>\n",
       "      <td>0</td>\n",
       "      <td>1</td>\n",
       "      <td>Yes</td>\n",
       "      <td>Private</td>\n",
       "      <td>Urban</td>\n",
       "      <td>228.69</td>\n",
       "      <td>36.6</td>\n",
       "      <td>formerly smoked</td>\n",
       "      <td>1</td>\n",
       "    </tr>\n",
       "    <tr>\n",
       "      <th>1</th>\n",
       "      <td>51676</td>\n",
       "      <td>Female</td>\n",
       "      <td>61.0</td>\n",
       "      <td>0</td>\n",
       "      <td>0</td>\n",
       "      <td>Yes</td>\n",
       "      <td>Self-employed</td>\n",
       "      <td>Rural</td>\n",
       "      <td>202.21</td>\n",
       "      <td>NaN</td>\n",
       "      <td>never smoked</td>\n",
       "      <td>1</td>\n",
       "    </tr>\n",
       "    <tr>\n",
       "      <th>2</th>\n",
       "      <td>31112</td>\n",
       "      <td>Male</td>\n",
       "      <td>80.0</td>\n",
       "      <td>0</td>\n",
       "      <td>1</td>\n",
       "      <td>Yes</td>\n",
       "      <td>Private</td>\n",
       "      <td>Rural</td>\n",
       "      <td>105.92</td>\n",
       "      <td>32.5</td>\n",
       "      <td>never smoked</td>\n",
       "      <td>1</td>\n",
       "    </tr>\n",
       "    <tr>\n",
       "      <th>3</th>\n",
       "      <td>60182</td>\n",
       "      <td>Female</td>\n",
       "      <td>49.0</td>\n",
       "      <td>0</td>\n",
       "      <td>0</td>\n",
       "      <td>Yes</td>\n",
       "      <td>Private</td>\n",
       "      <td>Urban</td>\n",
       "      <td>171.23</td>\n",
       "      <td>34.4</td>\n",
       "      <td>smokes</td>\n",
       "      <td>1</td>\n",
       "    </tr>\n",
       "    <tr>\n",
       "      <th>4</th>\n",
       "      <td>1665</td>\n",
       "      <td>Female</td>\n",
       "      <td>79.0</td>\n",
       "      <td>1</td>\n",
       "      <td>0</td>\n",
       "      <td>Yes</td>\n",
       "      <td>Self-employed</td>\n",
       "      <td>Rural</td>\n",
       "      <td>174.12</td>\n",
       "      <td>24.0</td>\n",
       "      <td>never smoked</td>\n",
       "      <td>1</td>\n",
       "    </tr>\n",
       "  </tbody>\n",
       "</table>\n",
       "</div>"
      ],
      "text/plain": [
       "      id  gender   age  hypertension  heart_disease ever_married  \\\n",
       "0   9046    Male  67.0             0              1          Yes   \n",
       "1  51676  Female  61.0             0              0          Yes   \n",
       "2  31112    Male  80.0             0              1          Yes   \n",
       "3  60182  Female  49.0             0              0          Yes   \n",
       "4   1665  Female  79.0             1              0          Yes   \n",
       "\n",
       "       work_type Residence_type  avg_glucose_level   bmi   smoking_status  \\\n",
       "0        Private          Urban             228.69  36.6  formerly smoked   \n",
       "1  Self-employed          Rural             202.21   NaN     never smoked   \n",
       "2        Private          Rural             105.92  32.5     never smoked   \n",
       "3        Private          Urban             171.23  34.4           smokes   \n",
       "4  Self-employed          Rural             174.12  24.0     never smoked   \n",
       "\n",
       "   stroke  \n",
       "0       1  \n",
       "1       1  \n",
       "2       1  \n",
       "3       1  \n",
       "4       1  "
      ]
     },
     "execution_count": 221,
     "metadata": {},
     "output_type": "execute_result"
    }
   ],
   "source": [
    "df = pd.read_csv('healthcare-dataset-stroke-data.csv')\n",
    "df.head()"
   ]
  },
  {
   "cell_type": "code",
   "execution_count": 222,
   "metadata": {},
   "outputs": [],
   "source": [
    "df.drop('id', axis=1, inplace=True)"
   ]
  },
  {
   "cell_type": "code",
   "execution_count": 223,
   "metadata": {},
   "outputs": [
    {
     "name": "stdout",
     "output_type": "stream",
     "text": [
      "<class 'pandas.core.frame.DataFrame'>\n",
      "RangeIndex: 5110 entries, 0 to 5109\n",
      "Data columns (total 11 columns):\n",
      " #   Column             Non-Null Count  Dtype  \n",
      "---  ------             --------------  -----  \n",
      " 0   gender             5110 non-null   object \n",
      " 1   age                5110 non-null   float64\n",
      " 2   hypertension       5110 non-null   int64  \n",
      " 3   heart_disease      5110 non-null   int64  \n",
      " 4   ever_married       5110 non-null   object \n",
      " 5   work_type          5110 non-null   object \n",
      " 6   Residence_type     5110 non-null   object \n",
      " 7   avg_glucose_level  5110 non-null   float64\n",
      " 8   bmi                4909 non-null   float64\n",
      " 9   smoking_status     5110 non-null   object \n",
      " 10  stroke             5110 non-null   int64  \n",
      "dtypes: float64(3), int64(3), object(5)\n",
      "memory usage: 439.3+ KB\n"
     ]
    }
   ],
   "source": [
    "df.info()"
   ]
  },
  {
   "cell_type": "markdown",
   "metadata": {},
   "source": [
    "---\n",
    "---"
   ]
  },
  {
   "cell_type": "markdown",
   "metadata": {},
   "source": [
    "##### **Feature Engineering**\n",
    "We create age groups by splitting ages into bins:\n",
    "- Child: 0-18\n",
    "- Adult: 19-45\n",
    "- Senior: 46-60\n",
    "- Elderly: 61-100"
   ]
  },
  {
   "cell_type": "markdown",
   "metadata": {},
   "source": [
    "- **The data before doing Feature Engineering**"
   ]
  },
  {
   "cell_type": "code",
   "execution_count": 224,
   "metadata": {},
   "outputs": [
    {
     "data": {
      "text/html": [
       "<div>\n",
       "<style scoped>\n",
       "    .dataframe tbody tr th:only-of-type {\n",
       "        vertical-align: middle;\n",
       "    }\n",
       "\n",
       "    .dataframe tbody tr th {\n",
       "        vertical-align: top;\n",
       "    }\n",
       "\n",
       "    .dataframe thead th {\n",
       "        text-align: right;\n",
       "    }\n",
       "</style>\n",
       "<table border=\"1\" class=\"dataframe\">\n",
       "  <thead>\n",
       "    <tr style=\"text-align: right;\">\n",
       "      <th></th>\n",
       "      <th>gender</th>\n",
       "      <th>age</th>\n",
       "      <th>hypertension</th>\n",
       "      <th>heart_disease</th>\n",
       "      <th>ever_married</th>\n",
       "      <th>work_type</th>\n",
       "      <th>Residence_type</th>\n",
       "      <th>avg_glucose_level</th>\n",
       "      <th>bmi</th>\n",
       "      <th>smoking_status</th>\n",
       "      <th>stroke</th>\n",
       "    </tr>\n",
       "  </thead>\n",
       "  <tbody>\n",
       "    <tr>\n",
       "      <th>0</th>\n",
       "      <td>Male</td>\n",
       "      <td>67.0</td>\n",
       "      <td>0</td>\n",
       "      <td>1</td>\n",
       "      <td>Yes</td>\n",
       "      <td>Private</td>\n",
       "      <td>Urban</td>\n",
       "      <td>228.69</td>\n",
       "      <td>36.6</td>\n",
       "      <td>formerly smoked</td>\n",
       "      <td>1</td>\n",
       "    </tr>\n",
       "    <tr>\n",
       "      <th>1</th>\n",
       "      <td>Female</td>\n",
       "      <td>61.0</td>\n",
       "      <td>0</td>\n",
       "      <td>0</td>\n",
       "      <td>Yes</td>\n",
       "      <td>Self-employed</td>\n",
       "      <td>Rural</td>\n",
       "      <td>202.21</td>\n",
       "      <td>NaN</td>\n",
       "      <td>never smoked</td>\n",
       "      <td>1</td>\n",
       "    </tr>\n",
       "    <tr>\n",
       "      <th>2</th>\n",
       "      <td>Male</td>\n",
       "      <td>80.0</td>\n",
       "      <td>0</td>\n",
       "      <td>1</td>\n",
       "      <td>Yes</td>\n",
       "      <td>Private</td>\n",
       "      <td>Rural</td>\n",
       "      <td>105.92</td>\n",
       "      <td>32.5</td>\n",
       "      <td>never smoked</td>\n",
       "      <td>1</td>\n",
       "    </tr>\n",
       "  </tbody>\n",
       "</table>\n",
       "</div>"
      ],
      "text/plain": [
       "   gender   age  hypertension  heart_disease ever_married      work_type  \\\n",
       "0    Male  67.0             0              1          Yes        Private   \n",
       "1  Female  61.0             0              0          Yes  Self-employed   \n",
       "2    Male  80.0             0              1          Yes        Private   \n",
       "\n",
       "  Residence_type  avg_glucose_level   bmi   smoking_status  stroke  \n",
       "0          Urban             228.69  36.6  formerly smoked       1  \n",
       "1          Rural             202.21   NaN     never smoked       1  \n",
       "2          Rural             105.92  32.5     never smoked       1  "
      ]
     },
     "execution_count": 224,
     "metadata": {},
     "output_type": "execute_result"
    }
   ],
   "source": [
    "df.head(3)"
   ]
  },
  {
   "cell_type": "code",
   "execution_count": 225,
   "metadata": {},
   "outputs": [],
   "source": [
    "age_bins = [0, 18, 45, 60, 100]\n",
    "age_labels = ['Child', 'Adult', 'Senior', 'Elderly']\n",
    "df['age_group'] = pd.cut(df['age'], bins=age_bins, labels=age_labels)\n"
   ]
  },
  {
   "cell_type": "markdown",
   "metadata": {},
   "source": [
    "- **The data After doing Feature Engineering**"
   ]
  },
  {
   "cell_type": "code",
   "execution_count": 226,
   "metadata": {},
   "outputs": [
    {
     "data": {
      "text/html": [
       "<div>\n",
       "<style scoped>\n",
       "    .dataframe tbody tr th:only-of-type {\n",
       "        vertical-align: middle;\n",
       "    }\n",
       "\n",
       "    .dataframe tbody tr th {\n",
       "        vertical-align: top;\n",
       "    }\n",
       "\n",
       "    .dataframe thead th {\n",
       "        text-align: right;\n",
       "    }\n",
       "</style>\n",
       "<table border=\"1\" class=\"dataframe\">\n",
       "  <thead>\n",
       "    <tr style=\"text-align: right;\">\n",
       "      <th></th>\n",
       "      <th>gender</th>\n",
       "      <th>age</th>\n",
       "      <th>hypertension</th>\n",
       "      <th>heart_disease</th>\n",
       "      <th>ever_married</th>\n",
       "      <th>work_type</th>\n",
       "      <th>Residence_type</th>\n",
       "      <th>avg_glucose_level</th>\n",
       "      <th>bmi</th>\n",
       "      <th>smoking_status</th>\n",
       "      <th>stroke</th>\n",
       "      <th>age_group</th>\n",
       "    </tr>\n",
       "  </thead>\n",
       "  <tbody>\n",
       "    <tr>\n",
       "      <th>0</th>\n",
       "      <td>Male</td>\n",
       "      <td>67.0</td>\n",
       "      <td>0</td>\n",
       "      <td>1</td>\n",
       "      <td>Yes</td>\n",
       "      <td>Private</td>\n",
       "      <td>Urban</td>\n",
       "      <td>228.69</td>\n",
       "      <td>36.6</td>\n",
       "      <td>formerly smoked</td>\n",
       "      <td>1</td>\n",
       "      <td>Elderly</td>\n",
       "    </tr>\n",
       "    <tr>\n",
       "      <th>1</th>\n",
       "      <td>Female</td>\n",
       "      <td>61.0</td>\n",
       "      <td>0</td>\n",
       "      <td>0</td>\n",
       "      <td>Yes</td>\n",
       "      <td>Self-employed</td>\n",
       "      <td>Rural</td>\n",
       "      <td>202.21</td>\n",
       "      <td>NaN</td>\n",
       "      <td>never smoked</td>\n",
       "      <td>1</td>\n",
       "      <td>Elderly</td>\n",
       "    </tr>\n",
       "    <tr>\n",
       "      <th>2</th>\n",
       "      <td>Male</td>\n",
       "      <td>80.0</td>\n",
       "      <td>0</td>\n",
       "      <td>1</td>\n",
       "      <td>Yes</td>\n",
       "      <td>Private</td>\n",
       "      <td>Rural</td>\n",
       "      <td>105.92</td>\n",
       "      <td>32.5</td>\n",
       "      <td>never smoked</td>\n",
       "      <td>1</td>\n",
       "      <td>Elderly</td>\n",
       "    </tr>\n",
       "  </tbody>\n",
       "</table>\n",
       "</div>"
      ],
      "text/plain": [
       "   gender   age  hypertension  heart_disease ever_married      work_type  \\\n",
       "0    Male  67.0             0              1          Yes        Private   \n",
       "1  Female  61.0             0              0          Yes  Self-employed   \n",
       "2    Male  80.0             0              1          Yes        Private   \n",
       "\n",
       "  Residence_type  avg_glucose_level   bmi   smoking_status  stroke age_group  \n",
       "0          Urban             228.69  36.6  formerly smoked       1   Elderly  \n",
       "1          Rural             202.21   NaN     never smoked       1   Elderly  \n",
       "2          Rural             105.92  32.5     never smoked       1   Elderly  "
      ]
     },
     "execution_count": 226,
     "metadata": {},
     "output_type": "execute_result"
    }
   ],
   "source": [
    "df.head(3)"
   ]
  },
  {
   "cell_type": "markdown",
   "metadata": {},
   "source": [
    "- **then we will drop the `age` column and show the data**"
   ]
  },
  {
   "cell_type": "code",
   "execution_count": 227,
   "metadata": {},
   "outputs": [],
   "source": [
    "df.drop('age', axis = 1, inplace = True)"
   ]
  },
  {
   "cell_type": "code",
   "execution_count": 228,
   "metadata": {},
   "outputs": [
    {
     "data": {
      "text/html": [
       "<div>\n",
       "<style scoped>\n",
       "    .dataframe tbody tr th:only-of-type {\n",
       "        vertical-align: middle;\n",
       "    }\n",
       "\n",
       "    .dataframe tbody tr th {\n",
       "        vertical-align: top;\n",
       "    }\n",
       "\n",
       "    .dataframe thead th {\n",
       "        text-align: right;\n",
       "    }\n",
       "</style>\n",
       "<table border=\"1\" class=\"dataframe\">\n",
       "  <thead>\n",
       "    <tr style=\"text-align: right;\">\n",
       "      <th></th>\n",
       "      <th>gender</th>\n",
       "      <th>hypertension</th>\n",
       "      <th>heart_disease</th>\n",
       "      <th>ever_married</th>\n",
       "      <th>work_type</th>\n",
       "      <th>Residence_type</th>\n",
       "      <th>avg_glucose_level</th>\n",
       "      <th>bmi</th>\n",
       "      <th>smoking_status</th>\n",
       "      <th>stroke</th>\n",
       "      <th>age_group</th>\n",
       "    </tr>\n",
       "  </thead>\n",
       "  <tbody>\n",
       "    <tr>\n",
       "      <th>0</th>\n",
       "      <td>Male</td>\n",
       "      <td>0</td>\n",
       "      <td>1</td>\n",
       "      <td>Yes</td>\n",
       "      <td>Private</td>\n",
       "      <td>Urban</td>\n",
       "      <td>228.69</td>\n",
       "      <td>36.6</td>\n",
       "      <td>formerly smoked</td>\n",
       "      <td>1</td>\n",
       "      <td>Elderly</td>\n",
       "    </tr>\n",
       "    <tr>\n",
       "      <th>1</th>\n",
       "      <td>Female</td>\n",
       "      <td>0</td>\n",
       "      <td>0</td>\n",
       "      <td>Yes</td>\n",
       "      <td>Self-employed</td>\n",
       "      <td>Rural</td>\n",
       "      <td>202.21</td>\n",
       "      <td>NaN</td>\n",
       "      <td>never smoked</td>\n",
       "      <td>1</td>\n",
       "      <td>Elderly</td>\n",
       "    </tr>\n",
       "    <tr>\n",
       "      <th>2</th>\n",
       "      <td>Male</td>\n",
       "      <td>0</td>\n",
       "      <td>1</td>\n",
       "      <td>Yes</td>\n",
       "      <td>Private</td>\n",
       "      <td>Rural</td>\n",
       "      <td>105.92</td>\n",
       "      <td>32.5</td>\n",
       "      <td>never smoked</td>\n",
       "      <td>1</td>\n",
       "      <td>Elderly</td>\n",
       "    </tr>\n",
       "  </tbody>\n",
       "</table>\n",
       "</div>"
      ],
      "text/plain": [
       "   gender  hypertension  heart_disease ever_married      work_type  \\\n",
       "0    Male             0              1          Yes        Private   \n",
       "1  Female             0              0          Yes  Self-employed   \n",
       "2    Male             0              1          Yes        Private   \n",
       "\n",
       "  Residence_type  avg_glucose_level   bmi   smoking_status  stroke age_group  \n",
       "0          Urban             228.69  36.6  formerly smoked       1   Elderly  \n",
       "1          Rural             202.21   NaN     never smoked       1   Elderly  \n",
       "2          Rural             105.92  32.5     never smoked       1   Elderly  "
      ]
     },
     "execution_count": 228,
     "metadata": {},
     "output_type": "execute_result"
    }
   ],
   "source": [
    "df.head(3)"
   ]
  },
  {
   "cell_type": "code",
   "execution_count": 229,
   "metadata": {},
   "outputs": [
    {
     "name": "stdout",
     "output_type": "stream",
     "text": [
      "<class 'pandas.core.frame.DataFrame'>\n",
      "RangeIndex: 5110 entries, 0 to 5109\n",
      "Data columns (total 11 columns):\n",
      " #   Column             Non-Null Count  Dtype   \n",
      "---  ------             --------------  -----   \n",
      " 0   gender             5110 non-null   object  \n",
      " 1   hypertension       5110 non-null   int64   \n",
      " 2   heart_disease      5110 non-null   int64   \n",
      " 3   ever_married       5110 non-null   object  \n",
      " 4   work_type          5110 non-null   object  \n",
      " 5   Residence_type     5110 non-null   object  \n",
      " 6   avg_glucose_level  5110 non-null   float64 \n",
      " 7   bmi                4909 non-null   float64 \n",
      " 8   smoking_status     5110 non-null   object  \n",
      " 9   stroke             5110 non-null   int64   \n",
      " 10  age_group          5110 non-null   category\n",
      "dtypes: category(1), float64(2), int64(3), object(5)\n",
      "memory usage: 404.5+ KB\n"
     ]
    }
   ],
   "source": [
    "df.info()"
   ]
  },
  {
   "cell_type": "markdown",
   "metadata": {},
   "source": [
    "- **rename the `age_group` column to `age` column and convert it's data type from `category` to `object`**"
   ]
  },
  {
   "cell_type": "code",
   "execution_count": 230,
   "metadata": {},
   "outputs": [],
   "source": [
    "# rename `age_group` column to `age` column\n",
    "df.rename(columns={'age_group': 'age'}, inplace=True)\n",
    "\n",
    "# convert it's data type from `category` to `object`\n",
    "df['age'] = df['age'].astype(object)"
   ]
  },
  {
   "cell_type": "code",
   "execution_count": 231,
   "metadata": {},
   "outputs": [
    {
     "data": {
      "text/html": [
       "<div>\n",
       "<style scoped>\n",
       "    .dataframe tbody tr th:only-of-type {\n",
       "        vertical-align: middle;\n",
       "    }\n",
       "\n",
       "    .dataframe tbody tr th {\n",
       "        vertical-align: top;\n",
       "    }\n",
       "\n",
       "    .dataframe thead th {\n",
       "        text-align: right;\n",
       "    }\n",
       "</style>\n",
       "<table border=\"1\" class=\"dataframe\">\n",
       "  <thead>\n",
       "    <tr style=\"text-align: right;\">\n",
       "      <th></th>\n",
       "      <th>gender</th>\n",
       "      <th>hypertension</th>\n",
       "      <th>heart_disease</th>\n",
       "      <th>ever_married</th>\n",
       "      <th>work_type</th>\n",
       "      <th>Residence_type</th>\n",
       "      <th>avg_glucose_level</th>\n",
       "      <th>bmi</th>\n",
       "      <th>smoking_status</th>\n",
       "      <th>stroke</th>\n",
       "      <th>age</th>\n",
       "    </tr>\n",
       "  </thead>\n",
       "  <tbody>\n",
       "    <tr>\n",
       "      <th>0</th>\n",
       "      <td>Male</td>\n",
       "      <td>0</td>\n",
       "      <td>1</td>\n",
       "      <td>Yes</td>\n",
       "      <td>Private</td>\n",
       "      <td>Urban</td>\n",
       "      <td>228.69</td>\n",
       "      <td>36.6</td>\n",
       "      <td>formerly smoked</td>\n",
       "      <td>1</td>\n",
       "      <td>Elderly</td>\n",
       "    </tr>\n",
       "    <tr>\n",
       "      <th>1</th>\n",
       "      <td>Female</td>\n",
       "      <td>0</td>\n",
       "      <td>0</td>\n",
       "      <td>Yes</td>\n",
       "      <td>Self-employed</td>\n",
       "      <td>Rural</td>\n",
       "      <td>202.21</td>\n",
       "      <td>NaN</td>\n",
       "      <td>never smoked</td>\n",
       "      <td>1</td>\n",
       "      <td>Elderly</td>\n",
       "    </tr>\n",
       "    <tr>\n",
       "      <th>2</th>\n",
       "      <td>Male</td>\n",
       "      <td>0</td>\n",
       "      <td>1</td>\n",
       "      <td>Yes</td>\n",
       "      <td>Private</td>\n",
       "      <td>Rural</td>\n",
       "      <td>105.92</td>\n",
       "      <td>32.5</td>\n",
       "      <td>never smoked</td>\n",
       "      <td>1</td>\n",
       "      <td>Elderly</td>\n",
       "    </tr>\n",
       "  </tbody>\n",
       "</table>\n",
       "</div>"
      ],
      "text/plain": [
       "   gender  hypertension  heart_disease ever_married      work_type  \\\n",
       "0    Male             0              1          Yes        Private   \n",
       "1  Female             0              0          Yes  Self-employed   \n",
       "2    Male             0              1          Yes        Private   \n",
       "\n",
       "  Residence_type  avg_glucose_level   bmi   smoking_status  stroke      age  \n",
       "0          Urban             228.69  36.6  formerly smoked       1  Elderly  \n",
       "1          Rural             202.21   NaN     never smoked       1  Elderly  \n",
       "2          Rural             105.92  32.5     never smoked       1  Elderly  "
      ]
     },
     "execution_count": 231,
     "metadata": {},
     "output_type": "execute_result"
    }
   ],
   "source": [
    "df.head(3)"
   ]
  },
  {
   "cell_type": "markdown",
   "metadata": {},
   "source": [
    "---\n",
    "---"
   ]
  },
  {
   "cell_type": "markdown",
   "metadata": {},
   "source": [
    "### **Categorical Columns**"
   ]
  },
  {
   "cell_type": "code",
   "execution_count": 232,
   "metadata": {},
   "outputs": [
    {
     "data": {
      "text/plain": [
       "['gender',\n",
       " 'ever_married',\n",
       " 'work_type',\n",
       " 'Residence_type',\n",
       " 'smoking_status',\n",
       " 'age']"
      ]
     },
     "execution_count": 232,
     "metadata": {},
     "output_type": "execute_result"
    }
   ],
   "source": [
    "cate_columns = df.select_dtypes(include='object').columns.to_list()\n",
    "\n",
    "cate_columns"
   ]
  },
  {
   "cell_type": "code",
   "execution_count": 233,
   "metadata": {},
   "outputs": [
    {
     "data": {
      "text/plain": [
       "{'gender': array(['Male', 'Female', 'Other'], dtype=object),\n",
       " 'ever_married': array(['Yes', 'No'], dtype=object),\n",
       " 'work_type': array(['Private', 'Self-employed', 'Govt_job', 'children', 'Never_worked'],\n",
       "       dtype=object),\n",
       " 'Residence_type': array(['Urban', 'Rural'], dtype=object),\n",
       " 'smoking_status': array(['formerly smoked', 'never smoked', 'smokes', 'Unknown'],\n",
       "       dtype=object),\n",
       " 'age': array(['Elderly', 'Senior', 'Adult', 'Child'], dtype=object)}"
      ]
     },
     "execution_count": 233,
     "metadata": {},
     "output_type": "execute_result"
    }
   ],
   "source": [
    "unique_values = {col: df[col].unique() for col in cate_columns}\n",
    "unique_values"
   ]
  },
  {
   "cell_type": "code",
   "execution_count": 234,
   "metadata": {},
   "outputs": [
    {
     "name": "stdout",
     "output_type": "stream",
     "text": [
      "gender: ['Male' 'Female' 'Other']\n",
      "ever_married: ['Yes' 'No']\n",
      "work_type: ['Private' 'Self-employed' 'Govt_job' 'children' 'Never_worked']\n",
      "Residence_type: ['Urban' 'Rural']\n",
      "smoking_status: ['formerly smoked' 'never smoked' 'smokes' 'Unknown']\n",
      "age: ['Elderly' 'Senior' 'Adult' 'Child']\n"
     ]
    }
   ],
   "source": [
    "for col, values in unique_values.items():\n",
    "    print(f\"{col}: {values}\")"
   ]
  },
  {
   "cell_type": "code",
   "execution_count": 235,
   "metadata": {},
   "outputs": [
    {
     "data": {
      "text/html": [
       "<div>\n",
       "<style scoped>\n",
       "    .dataframe tbody tr th:only-of-type {\n",
       "        vertical-align: middle;\n",
       "    }\n",
       "\n",
       "    .dataframe tbody tr th {\n",
       "        vertical-align: top;\n",
       "    }\n",
       "\n",
       "    .dataframe thead th {\n",
       "        text-align: right;\n",
       "    }\n",
       "</style>\n",
       "<table border=\"1\" class=\"dataframe\">\n",
       "  <thead>\n",
       "    <tr style=\"text-align: right;\">\n",
       "      <th></th>\n",
       "      <th>gender</th>\n",
       "      <th>ever_married</th>\n",
       "      <th>work_type</th>\n",
       "      <th>Residence_type</th>\n",
       "      <th>smoking_status</th>\n",
       "      <th>age</th>\n",
       "    </tr>\n",
       "  </thead>\n",
       "  <tbody>\n",
       "    <tr>\n",
       "      <th>0</th>\n",
       "      <td>Male</td>\n",
       "      <td>Yes</td>\n",
       "      <td>Private</td>\n",
       "      <td>Urban</td>\n",
       "      <td>formerly smoked</td>\n",
       "      <td>Elderly</td>\n",
       "    </tr>\n",
       "    <tr>\n",
       "      <th>1</th>\n",
       "      <td>Female</td>\n",
       "      <td>Yes</td>\n",
       "      <td>Self-employed</td>\n",
       "      <td>Rural</td>\n",
       "      <td>never smoked</td>\n",
       "      <td>Elderly</td>\n",
       "    </tr>\n",
       "    <tr>\n",
       "      <th>2</th>\n",
       "      <td>Male</td>\n",
       "      <td>Yes</td>\n",
       "      <td>Private</td>\n",
       "      <td>Rural</td>\n",
       "      <td>never smoked</td>\n",
       "      <td>Elderly</td>\n",
       "    </tr>\n",
       "    <tr>\n",
       "      <th>3</th>\n",
       "      <td>Female</td>\n",
       "      <td>Yes</td>\n",
       "      <td>Private</td>\n",
       "      <td>Urban</td>\n",
       "      <td>smokes</td>\n",
       "      <td>Senior</td>\n",
       "    </tr>\n",
       "    <tr>\n",
       "      <th>4</th>\n",
       "      <td>Female</td>\n",
       "      <td>Yes</td>\n",
       "      <td>Self-employed</td>\n",
       "      <td>Rural</td>\n",
       "      <td>never smoked</td>\n",
       "      <td>Elderly</td>\n",
       "    </tr>\n",
       "  </tbody>\n",
       "</table>\n",
       "</div>"
      ],
      "text/plain": [
       "   gender ever_married      work_type Residence_type   smoking_status      age\n",
       "0    Male          Yes        Private          Urban  formerly smoked  Elderly\n",
       "1  Female          Yes  Self-employed          Rural     never smoked  Elderly\n",
       "2    Male          Yes        Private          Rural     never smoked  Elderly\n",
       "3  Female          Yes        Private          Urban           smokes   Senior\n",
       "4  Female          Yes  Self-employed          Rural     never smoked  Elderly"
      ]
     },
     "execution_count": 235,
     "metadata": {},
     "output_type": "execute_result"
    }
   ],
   "source": [
    "df[cate_columns].head()"
   ]
  },
  {
   "cell_type": "code",
   "execution_count": 236,
   "metadata": {},
   "outputs": [
    {
     "data": {
      "text/plain": [
       "array(['formerly smoked', 'never smoked', 'smokes', 'Unknown'],\n",
       "      dtype=object)"
      ]
     },
     "execution_count": 236,
     "metadata": {},
     "output_type": "execute_result"
    }
   ],
   "source": [
    "df['smoking_status'].unique()"
   ]
  },
  {
   "cell_type": "code",
   "execution_count": 237,
   "metadata": {},
   "outputs": [],
   "source": [
    "df['smoking_status'].replace('Unknown', np.nan, inplace=True)\n",
    "df['smoking_status'].fillna(df['smoking_status'].mode()[0], inplace=True)\n"
   ]
  },
  {
   "cell_type": "markdown",
   "metadata": {},
   "source": [
    "**Replce Unknown Values with NaN to can fill this NaN Values with mode**"
   ]
  },
  {
   "cell_type": "markdown",
   "metadata": {},
   "source": [
    "---\n",
    "---"
   ]
  },
  {
   "cell_type": "markdown",
   "metadata": {},
   "source": [
    "### **Numerical Columns**"
   ]
  },
  {
   "cell_type": "code",
   "execution_count": 238,
   "metadata": {},
   "outputs": [],
   "source": [
    "num_columns = df.select_dtypes(exclude='object').columns.to_list()\n",
    "num_columns.remove('stroke')"
   ]
  },
  {
   "cell_type": "code",
   "execution_count": 239,
   "metadata": {},
   "outputs": [
    {
     "data": {
      "text/plain": [
       "['hypertension', 'heart_disease', 'avg_glucose_level', 'bmi']"
      ]
     },
     "execution_count": 239,
     "metadata": {},
     "output_type": "execute_result"
    }
   ],
   "source": [
    "num_columns"
   ]
  },
  {
   "cell_type": "markdown",
   "metadata": {},
   "source": [
    "---\n",
    "---"
   ]
  },
  {
   "cell_type": "code",
   "execution_count": 240,
   "metadata": {},
   "outputs": [
    {
     "data": {
      "text/html": [
       "<div>\n",
       "<style scoped>\n",
       "    .dataframe tbody tr th:only-of-type {\n",
       "        vertical-align: middle;\n",
       "    }\n",
       "\n",
       "    .dataframe tbody tr th {\n",
       "        vertical-align: top;\n",
       "    }\n",
       "\n",
       "    .dataframe thead th {\n",
       "        text-align: right;\n",
       "    }\n",
       "</style>\n",
       "<table border=\"1\" class=\"dataframe\">\n",
       "  <thead>\n",
       "    <tr style=\"text-align: right;\">\n",
       "      <th></th>\n",
       "      <th>gender</th>\n",
       "      <th>ever_married</th>\n",
       "      <th>work_type</th>\n",
       "      <th>Residence_type</th>\n",
       "      <th>smoking_status</th>\n",
       "      <th>age</th>\n",
       "    </tr>\n",
       "  </thead>\n",
       "  <tbody>\n",
       "    <tr>\n",
       "      <th>count</th>\n",
       "      <td>5110</td>\n",
       "      <td>5110</td>\n",
       "      <td>5110</td>\n",
       "      <td>5110</td>\n",
       "      <td>5110</td>\n",
       "      <td>5110</td>\n",
       "    </tr>\n",
       "    <tr>\n",
       "      <th>unique</th>\n",
       "      <td>3</td>\n",
       "      <td>2</td>\n",
       "      <td>5</td>\n",
       "      <td>2</td>\n",
       "      <td>3</td>\n",
       "      <td>4</td>\n",
       "    </tr>\n",
       "    <tr>\n",
       "      <th>top</th>\n",
       "      <td>Female</td>\n",
       "      <td>Yes</td>\n",
       "      <td>Private</td>\n",
       "      <td>Urban</td>\n",
       "      <td>never smoked</td>\n",
       "      <td>Adult</td>\n",
       "    </tr>\n",
       "    <tr>\n",
       "      <th>freq</th>\n",
       "      <td>2994</td>\n",
       "      <td>3353</td>\n",
       "      <td>2925</td>\n",
       "      <td>2596</td>\n",
       "      <td>3436</td>\n",
       "      <td>1702</td>\n",
       "    </tr>\n",
       "  </tbody>\n",
       "</table>\n",
       "</div>"
      ],
      "text/plain": [
       "        gender ever_married work_type Residence_type smoking_status    age\n",
       "count     5110         5110      5110           5110           5110   5110\n",
       "unique       3            2         5              2              3      4\n",
       "top     Female          Yes   Private          Urban   never smoked  Adult\n",
       "freq      2994         3353      2925           2596           3436   1702"
      ]
     },
     "execution_count": 240,
     "metadata": {},
     "output_type": "execute_result"
    }
   ],
   "source": [
    "df[cate_columns].describe()"
   ]
  },
  {
   "cell_type": "code",
   "execution_count": 241,
   "metadata": {},
   "outputs": [
    {
     "data": {
      "text/html": [
       "<div>\n",
       "<style scoped>\n",
       "    .dataframe tbody tr th:only-of-type {\n",
       "        vertical-align: middle;\n",
       "    }\n",
       "\n",
       "    .dataframe tbody tr th {\n",
       "        vertical-align: top;\n",
       "    }\n",
       "\n",
       "    .dataframe thead th {\n",
       "        text-align: right;\n",
       "    }\n",
       "</style>\n",
       "<table border=\"1\" class=\"dataframe\">\n",
       "  <thead>\n",
       "    <tr style=\"text-align: right;\">\n",
       "      <th></th>\n",
       "      <th>hypertension</th>\n",
       "      <th>heart_disease</th>\n",
       "      <th>avg_glucose_level</th>\n",
       "      <th>bmi</th>\n",
       "    </tr>\n",
       "  </thead>\n",
       "  <tbody>\n",
       "    <tr>\n",
       "      <th>count</th>\n",
       "      <td>5110.000000</td>\n",
       "      <td>5110.000000</td>\n",
       "      <td>5110.000000</td>\n",
       "      <td>4909.000000</td>\n",
       "    </tr>\n",
       "    <tr>\n",
       "      <th>mean</th>\n",
       "      <td>0.097456</td>\n",
       "      <td>0.054012</td>\n",
       "      <td>106.147677</td>\n",
       "      <td>28.893237</td>\n",
       "    </tr>\n",
       "    <tr>\n",
       "      <th>std</th>\n",
       "      <td>0.296607</td>\n",
       "      <td>0.226063</td>\n",
       "      <td>45.283560</td>\n",
       "      <td>7.854067</td>\n",
       "    </tr>\n",
       "    <tr>\n",
       "      <th>min</th>\n",
       "      <td>0.000000</td>\n",
       "      <td>0.000000</td>\n",
       "      <td>55.120000</td>\n",
       "      <td>10.300000</td>\n",
       "    </tr>\n",
       "    <tr>\n",
       "      <th>25%</th>\n",
       "      <td>0.000000</td>\n",
       "      <td>0.000000</td>\n",
       "      <td>77.245000</td>\n",
       "      <td>23.500000</td>\n",
       "    </tr>\n",
       "    <tr>\n",
       "      <th>50%</th>\n",
       "      <td>0.000000</td>\n",
       "      <td>0.000000</td>\n",
       "      <td>91.885000</td>\n",
       "      <td>28.100000</td>\n",
       "    </tr>\n",
       "    <tr>\n",
       "      <th>75%</th>\n",
       "      <td>0.000000</td>\n",
       "      <td>0.000000</td>\n",
       "      <td>114.090000</td>\n",
       "      <td>33.100000</td>\n",
       "    </tr>\n",
       "    <tr>\n",
       "      <th>max</th>\n",
       "      <td>1.000000</td>\n",
       "      <td>1.000000</td>\n",
       "      <td>271.740000</td>\n",
       "      <td>97.600000</td>\n",
       "    </tr>\n",
       "  </tbody>\n",
       "</table>\n",
       "</div>"
      ],
      "text/plain": [
       "       hypertension  heart_disease  avg_glucose_level          bmi\n",
       "count   5110.000000    5110.000000        5110.000000  4909.000000\n",
       "mean       0.097456       0.054012         106.147677    28.893237\n",
       "std        0.296607       0.226063          45.283560     7.854067\n",
       "min        0.000000       0.000000          55.120000    10.300000\n",
       "25%        0.000000       0.000000          77.245000    23.500000\n",
       "50%        0.000000       0.000000          91.885000    28.100000\n",
       "75%        0.000000       0.000000         114.090000    33.100000\n",
       "max        1.000000       1.000000         271.740000    97.600000"
      ]
     },
     "execution_count": 241,
     "metadata": {},
     "output_type": "execute_result"
    }
   ],
   "source": [
    "df[num_columns].describe()"
   ]
  },
  {
   "cell_type": "markdown",
   "metadata": {},
   "source": [
    "---\n",
    "---"
   ]
  },
  {
   "cell_type": "markdown",
   "metadata": {},
   "source": [
    "### **Checking for null values**"
   ]
  },
  {
   "cell_type": "code",
   "execution_count": 242,
   "metadata": {},
   "outputs": [
    {
     "data": {
      "text/plain": [
       "gender                 0\n",
       "hypertension           0\n",
       "heart_disease          0\n",
       "ever_married           0\n",
       "work_type              0\n",
       "Residence_type         0\n",
       "avg_glucose_level      0\n",
       "bmi                  201\n",
       "smoking_status         0\n",
       "stroke                 0\n",
       "age                    0\n",
       "dtype: int64"
      ]
     },
     "execution_count": 242,
     "metadata": {},
     "output_type": "execute_result"
    }
   ],
   "source": [
    "df.isnull().sum()"
   ]
  },
  {
   "cell_type": "markdown",
   "metadata": {},
   "source": [
    "**There is a null values and we will impute these null values next in the pipeline**"
   ]
  },
  {
   "cell_type": "markdown",
   "metadata": {},
   "source": [
    "---\n",
    "---"
   ]
  },
  {
   "cell_type": "markdown",
   "metadata": {},
   "source": [
    "### **Checking for duplicated  rows**"
   ]
  },
  {
   "cell_type": "code",
   "execution_count": 243,
   "metadata": {},
   "outputs": [
    {
     "data": {
      "text/plain": [
       "0"
      ]
     },
     "execution_count": 243,
     "metadata": {},
     "output_type": "execute_result"
    }
   ],
   "source": [
    "df.duplicated().sum()"
   ]
  },
  {
   "cell_type": "markdown",
   "metadata": {},
   "source": [
    "---\n",
    "---"
   ]
  },
  {
   "cell_type": "code",
   "execution_count": 244,
   "metadata": {},
   "outputs": [
    {
     "data": {
      "text/plain": [
       "stroke\n",
       "0    0.951272\n",
       "1    0.048728\n",
       "Name: proportion, dtype: float64"
      ]
     },
     "execution_count": 244,
     "metadata": {},
     "output_type": "execute_result"
    }
   ],
   "source": [
    "df['stroke'].value_counts(normalize=True)"
   ]
  },
  {
   "cell_type": "markdown",
   "metadata": {},
   "source": [
    "**The data is not balanced and we will fix that next in the pipeline using `SMOTE`**"
   ]
  },
  {
   "cell_type": "markdown",
   "metadata": {},
   "source": [
    "---\n",
    "---"
   ]
  },
  {
   "cell_type": "code",
   "execution_count": 245,
   "metadata": {},
   "outputs": [],
   "source": [
    "import matplotlib.pyplot as plt\n",
    "import seaborn as sns"
   ]
  },
  {
   "cell_type": "code",
   "execution_count": 246,
   "metadata": {},
   "outputs": [
    {
     "data": {
      "image/png": "[encoded data removed]",
      "text/plain": [
       "<Figure size 1500x1000 with 5 Axes>"
      ]
     },
     "metadata": {},
     "output_type": "display_data"
    }
   ],
   "source": [
    "import matplotlib.pyplot as plt\n",
    "import seaborn as sns\n",
    "\n",
    "# Plotting the distribution of numerical features\n",
    "numerical_columns = df.select_dtypes(exclude='object').columns.tolist()\n",
    "\n",
    "plt.figure(figsize=(15, 10))\n",
    "for i, col in enumerate(numerical_columns):\n",
    "    plt.subplot(3, 3, i+1)\n",
    "    sns.histplot(df[col], bins=30, kde=True)\n",
    "    plt.title(f'Distribution of {col}')\n",
    "plt.tight_layout()\n",
    "plt.show()\n"
   ]
  },
  {
   "cell_type": "code",
   "execution_count": 247,
   "metadata": {},
   "outputs": [
    {
     "data": {
      "image/png": "[encoded data removed]",
      "text/plain": [
       "<Figure size 1500x1000 with 4 Axes>"
      ]
     },
     "metadata": {},
     "output_type": "display_data"
    }
   ],
   "source": [
    "plt.figure(figsize=(15, 10))\n",
    "for i, col in enumerate(num_columns):\n",
    "    plt.subplot(3, 3, i+1)\n",
    "    sns.boxplot(x=df[col])\n",
    "    plt.title(f'Box plot of {col}')\n",
    "plt.tight_layout()\n",
    "plt.show()\n"
   ]
  },
  {
   "cell_type": "markdown",
   "metadata": {},
   "source": [
    "---\n",
    "---"
   ]
  },
  {
   "cell_type": "markdown",
   "metadata": {},
   "source": [
    "## **Preparation**"
   ]
  },
  {
   "cell_type": "code",
   "execution_count": 248,
   "metadata": {},
   "outputs": [
    {
     "data": {
      "text/html": [
       "<div>\n",
       "<style scoped>\n",
       "    .dataframe tbody tr th:only-of-type {\n",
       "        vertical-align: middle;\n",
       "    }\n",
       "\n",
       "    .dataframe tbody tr th {\n",
       "        vertical-align: top;\n",
       "    }\n",
       "\n",
       "    .dataframe thead th {\n",
       "        text-align: right;\n",
       "    }\n",
       "</style>\n",
       "<table border=\"1\" class=\"dataframe\">\n",
       "  <thead>\n",
       "    <tr style=\"text-align: right;\">\n",
       "      <th></th>\n",
       "      <th>hypertension</th>\n",
       "      <th>heart_disease</th>\n",
       "      <th>avg_glucose_level</th>\n",
       "      <th>bmi</th>\n",
       "    </tr>\n",
       "  </thead>\n",
       "  <tbody>\n",
       "    <tr>\n",
       "      <th>0</th>\n",
       "      <td>0</td>\n",
       "      <td>1</td>\n",
       "      <td>228.69</td>\n",
       "      <td>36.6</td>\n",
       "    </tr>\n",
       "    <tr>\n",
       "      <th>1</th>\n",
       "      <td>0</td>\n",
       "      <td>0</td>\n",
       "      <td>202.21</td>\n",
       "      <td>NaN</td>\n",
       "    </tr>\n",
       "    <tr>\n",
       "      <th>2</th>\n",
       "      <td>0</td>\n",
       "      <td>1</td>\n",
       "      <td>105.92</td>\n",
       "      <td>32.5</td>\n",
       "    </tr>\n",
       "    <tr>\n",
       "      <th>3</th>\n",
       "      <td>0</td>\n",
       "      <td>0</td>\n",
       "      <td>171.23</td>\n",
       "      <td>34.4</td>\n",
       "    </tr>\n",
       "    <tr>\n",
       "      <th>4</th>\n",
       "      <td>1</td>\n",
       "      <td>0</td>\n",
       "      <td>174.12</td>\n",
       "      <td>24.0</td>\n",
       "    </tr>\n",
       "    <tr>\n",
       "      <th>...</th>\n",
       "      <td>...</td>\n",
       "      <td>...</td>\n",
       "      <td>...</td>\n",
       "      <td>...</td>\n",
       "    </tr>\n",
       "    <tr>\n",
       "      <th>5105</th>\n",
       "      <td>1</td>\n",
       "      <td>0</td>\n",
       "      <td>83.75</td>\n",
       "      <td>NaN</td>\n",
       "    </tr>\n",
       "    <tr>\n",
       "      <th>5106</th>\n",
       "      <td>0</td>\n",
       "      <td>0</td>\n",
       "      <td>125.20</td>\n",
       "      <td>40.0</td>\n",
       "    </tr>\n",
       "    <tr>\n",
       "      <th>5107</th>\n",
       "      <td>0</td>\n",
       "      <td>0</td>\n",
       "      <td>82.99</td>\n",
       "      <td>30.6</td>\n",
       "    </tr>\n",
       "    <tr>\n",
       "      <th>5108</th>\n",
       "      <td>0</td>\n",
       "      <td>0</td>\n",
       "      <td>166.29</td>\n",
       "      <td>25.6</td>\n",
       "    </tr>\n",
       "    <tr>\n",
       "      <th>5109</th>\n",
       "      <td>0</td>\n",
       "      <td>0</td>\n",
       "      <td>85.28</td>\n",
       "      <td>26.2</td>\n",
       "    </tr>\n",
       "  </tbody>\n",
       "</table>\n",
       "<p>5110 rows × 4 columns</p>\n",
       "</div>"
      ],
      "text/plain": [
       "      hypertension  heart_disease  avg_glucose_level   bmi\n",
       "0                0              1             228.69  36.6\n",
       "1                0              0             202.21   NaN\n",
       "2                0              1             105.92  32.5\n",
       "3                0              0             171.23  34.4\n",
       "4                1              0             174.12  24.0\n",
       "...            ...            ...                ...   ...\n",
       "5105             1              0              83.75   NaN\n",
       "5106             0              0             125.20  40.0\n",
       "5107             0              0              82.99  30.6\n",
       "5108             0              0             166.29  25.6\n",
       "5109             0              0              85.28  26.2\n",
       "\n",
       "[5110 rows x 4 columns]"
      ]
     },
     "execution_count": 248,
     "metadata": {},
     "output_type": "execute_result"
    }
   ],
   "source": [
    "df[num_columns]"
   ]
  },
  {
   "cell_type": "code",
   "execution_count": 249,
   "metadata": {},
   "outputs": [
    {
     "data": {
      "text/plain": [
       "['hypertension', 'heart_disease', 'avg_glucose_level', 'bmi']"
      ]
     },
     "execution_count": 249,
     "metadata": {},
     "output_type": "execute_result"
    }
   ],
   "source": [
    "num_columns\n"
   ]
  },
  {
   "cell_type": "code",
   "execution_count": 250,
   "metadata": {},
   "outputs": [
    {
     "data": {
      "text/plain": [
       "['gender',\n",
       " 'ever_married',\n",
       " 'work_type',\n",
       " 'Residence_type',\n",
       " 'smoking_status',\n",
       " 'age']"
      ]
     },
     "execution_count": 250,
     "metadata": {},
     "output_type": "execute_result"
    }
   ],
   "source": [
    "cate_columns"
   ]
  },
  {
   "cell_type": "code",
   "execution_count": 251,
   "metadata": {},
   "outputs": [],
   "source": [
    "x = df.drop('stroke', axis=1)\n",
    "y = df['stroke']"
   ]
  },
  {
   "cell_type": "markdown",
   "metadata": {},
   "source": [
    "---\n",
    "---"
   ]
  },
  {
   "cell_type": "markdown",
   "metadata": {},
   "source": [
    "## **Pipeline**"
   ]
  },
  {
   "cell_type": "code",
   "execution_count": 252,
   "metadata": {},
   "outputs": [],
   "source": [
    "import numpy as np\n",
    "import pandas as pd\n",
    "import seaborn as sns\n",
    "import matplotlib.pyplot as plt\n",
    "from sklearn.model_selection import train_test_split\n",
    "from sklearn.preprocessing import OneHotEncoder,  RobustScaler\n",
    "from sklearn.impute import KNNImputer\n",
    "from sklearn.compose import ColumnTransformer\n",
    "from sklearn.pipeline import Pipeline\n",
    "from imblearn.combine import SMOTETomek\n",
    "from imblearn.over_sampling import ADASYN\n",
    "from imblearn.pipeline import Pipeline as ImbPipeline\n",
    "\n",
    "# Split the data\n",
    "x_train, x_test, y_train, y_test = train_test_split(x, y, test_size=0.2, random_state=42)\n",
    "\n",
    "# Numerical pipeline\n",
    "num_pipeline = Pipeline([\n",
    "    ('numerical_inputer', KNNImputer(n_neighbors=5)),\n",
    "    ('scaler', RobustScaler())\n",
    "])\n",
    "\n",
    "# Categorical pipeline\n",
    "cate_pipeline = Pipeline([\n",
    "    ('one_hot_encoder', OneHotEncoder(sparse_output=False, handle_unknown='ignore'))\n",
    "])\n",
    "\n",
    "# Preprocessing: combining both numerical and categorical pipelines\n",
    "preprocessor = ColumnTransformer([\n",
    "    ('num_pipeline', num_pipeline, num_columns),\n",
    "    ('cate_pipeline', cate_pipeline, cate_columns)\n",
    "]).set_output(transform='pandas')\n",
    "\n",
    "\n",
    "# Full pipeline with SMOTE\n",
    "model_pipeline = ImbPipeline([\n",
    "    ('preprocessing', preprocessor),  # Step 1: Apply preprocessing (scaling, encoding, etc.)\n",
    "    ('smote', ADASYN(random_state=42)),  # Step 2: Apply SMOTE to resample the training data\n",
    "    \n",
    "])\n",
    "\n",
    "# Fit and resample the training data using the full pipeline\n",
    "x_train_resampled, y_train_resampled = model_pipeline.fit_resample(x_train, y_train)\n",
    "\n",
    "# Transform the test data (without applying SMOTE to test data)\n",
    "x_test_preprocessed = preprocessor.transform(x_test)\n",
    "\n",
    "# At this point, you can train your model using x_train_resampled and y_train_resampled.\n"
   ]
  },
  {
   "cell_type": "code",
   "execution_count": 253,
   "metadata": {},
   "outputs": [
    {
     "name": "stdout",
     "output_type": "stream",
     "text": [
      "Original data shape: (4088, 10), Resampled data shape: (7841, 22)\n"
     ]
    }
   ],
   "source": [
    "# Display resampled data info\n",
    "print(f\"Original data shape: {x_train.shape}, Resampled data shape: {x_train_resampled.shape}\")\n"
   ]
  },
  {
   "cell_type": "code",
   "execution_count": 254,
   "metadata": {},
   "outputs": [
    {
     "data": {
      "image/png": "[encoded data removed]",
      "text/plain": [
       "<Figure size 640x480 with 1 Axes>"
      ]
     },
     "metadata": {},
     "output_type": "display_data"
    }
   ],
   "source": [
    "# Check for class distribution after resampling\n",
    "sns.countplot(x=y_train_resampled)\n",
    "plt.title('Class Distribution after Resampling')\n",
    "plt.show()"
   ]
  },
  {
   "cell_type": "code",
   "execution_count": 255,
   "metadata": {},
   "outputs": [
    {
     "name": "stdout",
     "output_type": "stream",
     "text": [
      "stroke\n",
      "1    3940\n",
      "0    3901\n",
      "Name: count, dtype: int64\n"
     ]
    }
   ],
   "source": [
    "print(y_train_resampled.value_counts())\n"
   ]
  },
  {
   "cell_type": "code",
   "execution_count": 256,
   "metadata": {},
   "outputs": [
    {
     "data": {
      "text/plain": [
       "stroke\n",
       "0    4861\n",
       "1     249\n",
       "Name: count, dtype: int64"
      ]
     },
     "execution_count": 256,
     "metadata": {},
     "output_type": "execute_result"
    }
   ],
   "source": [
    "df['stroke'].value_counts()"
   ]
  },
  {
   "cell_type": "code",
   "execution_count": 257,
   "metadata": {},
   "outputs": [
    {
     "data": {
      "text/html": [
       "<div>\n",
       "<style scoped>\n",
       "    .dataframe tbody tr th:only-of-type {\n",
       "        vertical-align: middle;\n",
       "    }\n",
       "\n",
       "    .dataframe tbody tr th {\n",
       "        vertical-align: top;\n",
       "    }\n",
       "\n",
       "    .dataframe thead th {\n",
       "        text-align: right;\n",
       "    }\n",
       "</style>\n",
       "<table border=\"1\" class=\"dataframe\">\n",
       "  <thead>\n",
       "    <tr style=\"text-align: right;\">\n",
       "      <th></th>\n",
       "      <th>num_pipeline__hypertension</th>\n",
       "      <th>num_pipeline__heart_disease</th>\n",
       "      <th>num_pipeline__avg_glucose_level</th>\n",
       "      <th>num_pipeline__bmi</th>\n",
       "      <th>cate_pipeline__gender_Female</th>\n",
       "      <th>cate_pipeline__gender_Male</th>\n",
       "      <th>cate_pipeline__ever_married_No</th>\n",
       "      <th>cate_pipeline__ever_married_Yes</th>\n",
       "      <th>cate_pipeline__work_type_Govt_job</th>\n",
       "      <th>cate_pipeline__work_type_Never_worked</th>\n",
       "      <th>...</th>\n",
       "      <th>cate_pipeline__work_type_children</th>\n",
       "      <th>cate_pipeline__Residence_type_Rural</th>\n",
       "      <th>cate_pipeline__Residence_type_Urban</th>\n",
       "      <th>cate_pipeline__smoking_status_formerly smoked</th>\n",
       "      <th>cate_pipeline__smoking_status_never smoked</th>\n",
       "      <th>cate_pipeline__smoking_status_smokes</th>\n",
       "      <th>cate_pipeline__age_Adult</th>\n",
       "      <th>cate_pipeline__age_Child</th>\n",
       "      <th>cate_pipeline__age_Elderly</th>\n",
       "      <th>cate_pipeline__age_Senior</th>\n",
       "    </tr>\n",
       "  </thead>\n",
       "  <tbody>\n",
       "    <tr>\n",
       "      <th>0</th>\n",
       "      <td>0.000000</td>\n",
       "      <td>0.0</td>\n",
       "      <td>0.552905</td>\n",
       "      <td>0.043478</td>\n",
       "      <td>0.0</td>\n",
       "      <td>1.0</td>\n",
       "      <td>0.0</td>\n",
       "      <td>1.0</td>\n",
       "      <td>0.0</td>\n",
       "      <td>0.0</td>\n",
       "      <td>...</td>\n",
       "      <td>0.0</td>\n",
       "      <td>1.0</td>\n",
       "      <td>0.0</td>\n",
       "      <td>1.0</td>\n",
       "      <td>0.0</td>\n",
       "      <td>0.0</td>\n",
       "      <td>0.0</td>\n",
       "      <td>0.0</td>\n",
       "      <td>1.0</td>\n",
       "      <td>0.0</td>\n",
       "    </tr>\n",
       "    <tr>\n",
       "      <th>1</th>\n",
       "      <td>0.000000</td>\n",
       "      <td>0.0</td>\n",
       "      <td>-0.095283</td>\n",
       "      <td>0.891304</td>\n",
       "      <td>1.0</td>\n",
       "      <td>0.0</td>\n",
       "      <td>0.0</td>\n",
       "      <td>1.0</td>\n",
       "      <td>0.0</td>\n",
       "      <td>0.0</td>\n",
       "      <td>...</td>\n",
       "      <td>0.0</td>\n",
       "      <td>0.0</td>\n",
       "      <td>1.0</td>\n",
       "      <td>0.0</td>\n",
       "      <td>1.0</td>\n",
       "      <td>0.0</td>\n",
       "      <td>0.0</td>\n",
       "      <td>0.0</td>\n",
       "      <td>1.0</td>\n",
       "      <td>0.0</td>\n",
       "    </tr>\n",
       "    <tr>\n",
       "      <th>2</th>\n",
       "      <td>0.000000</td>\n",
       "      <td>0.0</td>\n",
       "      <td>-0.862873</td>\n",
       "      <td>0.608696</td>\n",
       "      <td>1.0</td>\n",
       "      <td>0.0</td>\n",
       "      <td>1.0</td>\n",
       "      <td>0.0</td>\n",
       "      <td>0.0</td>\n",
       "      <td>0.0</td>\n",
       "      <td>...</td>\n",
       "      <td>0.0</td>\n",
       "      <td>1.0</td>\n",
       "      <td>0.0</td>\n",
       "      <td>0.0</td>\n",
       "      <td>1.0</td>\n",
       "      <td>0.0</td>\n",
       "      <td>1.0</td>\n",
       "      <td>0.0</td>\n",
       "      <td>0.0</td>\n",
       "      <td>0.0</td>\n",
       "    </tr>\n",
       "    <tr>\n",
       "      <th>3</th>\n",
       "      <td>0.000000</td>\n",
       "      <td>0.0</td>\n",
       "      <td>-0.698161</td>\n",
       "      <td>0.250000</td>\n",
       "      <td>0.0</td>\n",
       "      <td>1.0</td>\n",
       "      <td>0.0</td>\n",
       "      <td>1.0</td>\n",
       "      <td>1.0</td>\n",
       "      <td>0.0</td>\n",
       "      <td>...</td>\n",
       "      <td>0.0</td>\n",
       "      <td>0.0</td>\n",
       "      <td>1.0</td>\n",
       "      <td>1.0</td>\n",
       "      <td>0.0</td>\n",
       "      <td>0.0</td>\n",
       "      <td>1.0</td>\n",
       "      <td>0.0</td>\n",
       "      <td>0.0</td>\n",
       "      <td>0.0</td>\n",
       "    </tr>\n",
       "    <tr>\n",
       "      <th>4</th>\n",
       "      <td>0.000000</td>\n",
       "      <td>0.0</td>\n",
       "      <td>-0.859941</td>\n",
       "      <td>-0.891304</td>\n",
       "      <td>1.0</td>\n",
       "      <td>0.0</td>\n",
       "      <td>1.0</td>\n",
       "      <td>0.0</td>\n",
       "      <td>0.0</td>\n",
       "      <td>0.0</td>\n",
       "      <td>...</td>\n",
       "      <td>0.0</td>\n",
       "      <td>1.0</td>\n",
       "      <td>0.0</td>\n",
       "      <td>0.0</td>\n",
       "      <td>1.0</td>\n",
       "      <td>0.0</td>\n",
       "      <td>1.0</td>\n",
       "      <td>0.0</td>\n",
       "      <td>0.0</td>\n",
       "      <td>0.0</td>\n",
       "    </tr>\n",
       "    <tr>\n",
       "      <th>...</th>\n",
       "      <td>...</td>\n",
       "      <td>...</td>\n",
       "      <td>...</td>\n",
       "      <td>...</td>\n",
       "      <td>...</td>\n",
       "      <td>...</td>\n",
       "      <td>...</td>\n",
       "      <td>...</td>\n",
       "      <td>...</td>\n",
       "      <td>...</td>\n",
       "      <td>...</td>\n",
       "      <td>...</td>\n",
       "      <td>...</td>\n",
       "      <td>...</td>\n",
       "      <td>...</td>\n",
       "      <td>...</td>\n",
       "      <td>...</td>\n",
       "      <td>...</td>\n",
       "      <td>...</td>\n",
       "      <td>...</td>\n",
       "      <td>...</td>\n",
       "    </tr>\n",
       "    <tr>\n",
       "      <th>7836</th>\n",
       "      <td>0.755460</td>\n",
       "      <td>0.0</td>\n",
       "      <td>2.697138</td>\n",
       "      <td>0.830644</td>\n",
       "      <td>1.0</td>\n",
       "      <td>0.0</td>\n",
       "      <td>0.0</td>\n",
       "      <td>1.0</td>\n",
       "      <td>0.0</td>\n",
       "      <td>0.0</td>\n",
       "      <td>...</td>\n",
       "      <td>0.0</td>\n",
       "      <td>1.0</td>\n",
       "      <td>0.0</td>\n",
       "      <td>0.0</td>\n",
       "      <td>1.0</td>\n",
       "      <td>0.0</td>\n",
       "      <td>0.0</td>\n",
       "      <td>0.0</td>\n",
       "      <td>1.0</td>\n",
       "      <td>0.0</td>\n",
       "    </tr>\n",
       "    <tr>\n",
       "      <th>7837</th>\n",
       "      <td>0.772678</td>\n",
       "      <td>0.0</td>\n",
       "      <td>2.745218</td>\n",
       "      <td>0.982228</td>\n",
       "      <td>1.0</td>\n",
       "      <td>0.0</td>\n",
       "      <td>0.0</td>\n",
       "      <td>1.0</td>\n",
       "      <td>0.0</td>\n",
       "      <td>0.0</td>\n",
       "      <td>...</td>\n",
       "      <td>0.0</td>\n",
       "      <td>1.0</td>\n",
       "      <td>0.0</td>\n",
       "      <td>0.0</td>\n",
       "      <td>1.0</td>\n",
       "      <td>0.0</td>\n",
       "      <td>0.0</td>\n",
       "      <td>0.0</td>\n",
       "      <td>1.0</td>\n",
       "      <td>0.0</td>\n",
       "    </tr>\n",
       "    <tr>\n",
       "      <th>7838</th>\n",
       "      <td>0.660763</td>\n",
       "      <td>0.0</td>\n",
       "      <td>2.807618</td>\n",
       "      <td>1.016290</td>\n",
       "      <td>1.0</td>\n",
       "      <td>0.0</td>\n",
       "      <td>0.0</td>\n",
       "      <td>1.0</td>\n",
       "      <td>0.0</td>\n",
       "      <td>0.0</td>\n",
       "      <td>...</td>\n",
       "      <td>0.0</td>\n",
       "      <td>1.0</td>\n",
       "      <td>0.0</td>\n",
       "      <td>0.0</td>\n",
       "      <td>1.0</td>\n",
       "      <td>0.0</td>\n",
       "      <td>0.0</td>\n",
       "      <td>0.0</td>\n",
       "      <td>1.0</td>\n",
       "      <td>0.0</td>\n",
       "    </tr>\n",
       "    <tr>\n",
       "      <th>7839</th>\n",
       "      <td>0.501801</td>\n",
       "      <td>0.0</td>\n",
       "      <td>2.542253</td>\n",
       "      <td>0.425675</td>\n",
       "      <td>1.0</td>\n",
       "      <td>0.0</td>\n",
       "      <td>0.0</td>\n",
       "      <td>1.0</td>\n",
       "      <td>0.0</td>\n",
       "      <td>0.0</td>\n",
       "      <td>...</td>\n",
       "      <td>0.0</td>\n",
       "      <td>1.0</td>\n",
       "      <td>0.0</td>\n",
       "      <td>0.0</td>\n",
       "      <td>1.0</td>\n",
       "      <td>0.0</td>\n",
       "      <td>0.0</td>\n",
       "      <td>0.0</td>\n",
       "      <td>1.0</td>\n",
       "      <td>0.0</td>\n",
       "    </tr>\n",
       "    <tr>\n",
       "      <th>7840</th>\n",
       "      <td>0.561332</td>\n",
       "      <td>0.0</td>\n",
       "      <td>2.724396</td>\n",
       "      <td>0.440999</td>\n",
       "      <td>1.0</td>\n",
       "      <td>0.0</td>\n",
       "      <td>0.0</td>\n",
       "      <td>1.0</td>\n",
       "      <td>0.0</td>\n",
       "      <td>0.0</td>\n",
       "      <td>...</td>\n",
       "      <td>0.0</td>\n",
       "      <td>1.0</td>\n",
       "      <td>0.0</td>\n",
       "      <td>0.0</td>\n",
       "      <td>1.0</td>\n",
       "      <td>0.0</td>\n",
       "      <td>0.0</td>\n",
       "      <td>0.0</td>\n",
       "      <td>1.0</td>\n",
       "      <td>0.0</td>\n",
       "    </tr>\n",
       "  </tbody>\n",
       "</table>\n",
       "<p>7841 rows × 22 columns</p>\n",
       "</div>"
      ],
      "text/plain": [
       "      num_pipeline__hypertension  num_pipeline__heart_disease  \\\n",
       "0                       0.000000                          0.0   \n",
       "1                       0.000000                          0.0   \n",
       "2                       0.000000                          0.0   \n",
       "3                       0.000000                          0.0   \n",
       "4                       0.000000                          0.0   \n",
       "...                          ...                          ...   \n",
       "7836                    0.755460                          0.0   \n",
       "7837                    0.772678                          0.0   \n",
       "7838                    0.660763                          0.0   \n",
       "7839                    0.501801                          0.0   \n",
       "7840                    0.561332                          0.0   \n",
       "\n",
       "      num_pipeline__avg_glucose_level  num_pipeline__bmi  \\\n",
       "0                            0.552905           0.043478   \n",
       "1                           -0.095283           0.891304   \n",
       "2                           -0.862873           0.608696   \n",
       "3                           -0.698161           0.250000   \n",
       "4                           -0.859941          -0.891304   \n",
       "...                               ...                ...   \n",
       "7836                         2.697138           0.830644   \n",
       "7837                         2.745218           0.982228   \n",
       "7838                         2.807618           1.016290   \n",
       "7839                         2.542253           0.425675   \n",
       "7840                         2.724396           0.440999   \n",
       "\n",
       "      cate_pipeline__gender_Female  cate_pipeline__gender_Male  \\\n",
       "0                              0.0                         1.0   \n",
       "1                              1.0                         0.0   \n",
       "2                              1.0                         0.0   \n",
       "3                              0.0                         1.0   \n",
       "4                              1.0                         0.0   \n",
       "...                            ...                         ...   \n",
       "7836                           1.0                         0.0   \n",
       "7837                           1.0                         0.0   \n",
       "7838                           1.0                         0.0   \n",
       "7839                           1.0                         0.0   \n",
       "7840                           1.0                         0.0   \n",
       "\n",
       "      cate_pipeline__ever_married_No  cate_pipeline__ever_married_Yes  \\\n",
       "0                                0.0                              1.0   \n",
       "1                                0.0                              1.0   \n",
       "2                                1.0                              0.0   \n",
       "3                                0.0                              1.0   \n",
       "4                                1.0                              0.0   \n",
       "...                              ...                              ...   \n",
       "7836                             0.0                              1.0   \n",
       "7837                             0.0                              1.0   \n",
       "7838                             0.0                              1.0   \n",
       "7839                             0.0                              1.0   \n",
       "7840                             0.0                              1.0   \n",
       "\n",
       "      cate_pipeline__work_type_Govt_job  \\\n",
       "0                                   0.0   \n",
       "1                                   0.0   \n",
       "2                                   0.0   \n",
       "3                                   1.0   \n",
       "4                                   0.0   \n",
       "...                                 ...   \n",
       "7836                                0.0   \n",
       "7837                                0.0   \n",
       "7838                                0.0   \n",
       "7839                                0.0   \n",
       "7840                                0.0   \n",
       "\n",
       "      cate_pipeline__work_type_Never_worked  ...  \\\n",
       "0                                       0.0  ...   \n",
       "1                                       0.0  ...   \n",
       "2                                       0.0  ...   \n",
       "3                                       0.0  ...   \n",
       "4                                       0.0  ...   \n",
       "...                                     ...  ...   \n",
       "7836                                    0.0  ...   \n",
       "7837                                    0.0  ...   \n",
       "7838                                    0.0  ...   \n",
       "7839                                    0.0  ...   \n",
       "7840                                    0.0  ...   \n",
       "\n",
       "      cate_pipeline__work_type_children  cate_pipeline__Residence_type_Rural  \\\n",
       "0                                   0.0                                  1.0   \n",
       "1                                   0.0                                  0.0   \n",
       "2                                   0.0                                  1.0   \n",
       "3                                   0.0                                  0.0   \n",
       "4                                   0.0                                  1.0   \n",
       "...                                 ...                                  ...   \n",
       "7836                                0.0                                  1.0   \n",
       "7837                                0.0                                  1.0   \n",
       "7838                                0.0                                  1.0   \n",
       "7839                                0.0                                  1.0   \n",
       "7840                                0.0                                  1.0   \n",
       "\n",
       "      cate_pipeline__Residence_type_Urban  \\\n",
       "0                                     0.0   \n",
       "1                                     1.0   \n",
       "2                                     0.0   \n",
       "3                                     1.0   \n",
       "4                                     0.0   \n",
       "...                                   ...   \n",
       "7836                                  0.0   \n",
       "7837                                  0.0   \n",
       "7838                                  0.0   \n",
       "7839                                  0.0   \n",
       "7840                                  0.0   \n",
       "\n",
       "      cate_pipeline__smoking_status_formerly smoked  \\\n",
       "0                                               1.0   \n",
       "1                                               0.0   \n",
       "2                                               0.0   \n",
       "3                                               1.0   \n",
       "4                                               0.0   \n",
       "...                                             ...   \n",
       "7836                                            0.0   \n",
       "7837                                            0.0   \n",
       "7838                                            0.0   \n",
       "7839                                            0.0   \n",
       "7840                                            0.0   \n",
       "\n",
       "      cate_pipeline__smoking_status_never smoked  \\\n",
       "0                                            0.0   \n",
       "1                                            1.0   \n",
       "2                                            1.0   \n",
       "3                                            0.0   \n",
       "4                                            1.0   \n",
       "...                                          ...   \n",
       "7836                                         1.0   \n",
       "7837                                         1.0   \n",
       "7838                                         1.0   \n",
       "7839                                         1.0   \n",
       "7840                                         1.0   \n",
       "\n",
       "      cate_pipeline__smoking_status_smokes  cate_pipeline__age_Adult  \\\n",
       "0                                      0.0                       0.0   \n",
       "1                                      0.0                       0.0   \n",
       "2                                      0.0                       1.0   \n",
       "3                                      0.0                       1.0   \n",
       "4                                      0.0                       1.0   \n",
       "...                                    ...                       ...   \n",
       "7836                                   0.0                       0.0   \n",
       "7837                                   0.0                       0.0   \n",
       "7838                                   0.0                       0.0   \n",
       "7839                                   0.0                       0.0   \n",
       "7840                                   0.0                       0.0   \n",
       "\n",
       "      cate_pipeline__age_Child  cate_pipeline__age_Elderly  \\\n",
       "0                          0.0                         1.0   \n",
       "1                          0.0                         1.0   \n",
       "2                          0.0                         0.0   \n",
       "3                          0.0                         0.0   \n",
       "4                          0.0                         0.0   \n",
       "...                        ...                         ...   \n",
       "7836                       0.0                         1.0   \n",
       "7837                       0.0                         1.0   \n",
       "7838                       0.0                         1.0   \n",
       "7839                       0.0                         1.0   \n",
       "7840                       0.0                         1.0   \n",
       "\n",
       "      cate_pipeline__age_Senior  \n",
       "0                           0.0  \n",
       "1                           0.0  \n",
       "2                           0.0  \n",
       "3                           0.0  \n",
       "4                           0.0  \n",
       "...                         ...  \n",
       "7836                        0.0  \n",
       "7837                        0.0  \n",
       "7838                        0.0  \n",
       "7839                        0.0  \n",
       "7840                        0.0  \n",
       "\n",
       "[7841 rows x 22 columns]"
      ]
     },
     "execution_count": 257,
     "metadata": {},
     "output_type": "execute_result"
    }
   ],
   "source": [
    "x_train_resampled"
   ]
  },
  {
   "cell_type": "code",
   "execution_count": 258,
   "metadata": {},
   "outputs": [
    {
     "name": "stdout",
     "output_type": "stream",
     "text": [
      "<class 'pandas.core.frame.DataFrame'>\n",
      "RangeIndex: 7841 entries, 0 to 7840\n",
      "Data columns (total 22 columns):\n",
      " #   Column                                         Non-Null Count  Dtype  \n",
      "---  ------                                         --------------  -----  \n",
      " 0   num_pipeline__hypertension                     7841 non-null   float64\n",
      " 1   num_pipeline__heart_disease                    7841 non-null   float64\n",
      " 2   num_pipeline__avg_glucose_level                7841 non-null   float64\n",
      " 3   num_pipeline__bmi                              7841 non-null   float64\n",
      " 4   cate_pipeline__gender_Female                   7841 non-null   float64\n",
      " 5   cate_pipeline__gender_Male                     7841 non-null   float64\n",
      " 6   cate_pipeline__ever_married_No                 7841 non-null   float64\n",
      " 7   cate_pipeline__ever_married_Yes                7841 non-null   float64\n",
      " 8   cate_pipeline__work_type_Govt_job              7841 non-null   float64\n",
      " 9   cate_pipeline__work_type_Never_worked          7841 non-null   float64\n",
      " 10  cate_pipeline__work_type_Private               7841 non-null   float64\n",
      " 11  cate_pipeline__work_type_Self-employed         7841 non-null   float64\n",
      " 12  cate_pipeline__work_type_children              7841 non-null   float64\n",
      " 13  cate_pipeline__Residence_type_Rural            7841 non-null   float64\n",
      " 14  cate_pipeline__Residence_type_Urban            7841 non-null   float64\n",
      " 15  cate_pipeline__smoking_status_formerly smoked  7841 non-null   float64\n",
      " 16  cate_pipeline__smoking_status_never smoked     7841 non-null   float64\n",
      " 17  cate_pipeline__smoking_status_smokes           7841 non-null   float64\n",
      " 18  cate_pipeline__age_Adult                       7841 non-null   float64\n",
      " 19  cate_pipeline__age_Child                       7841 non-null   float64\n",
      " 20  cate_pipeline__age_Elderly                     7841 non-null   float64\n",
      " 21  cate_pipeline__age_Senior                      7841 non-null   float64\n",
      "dtypes: float64(22)\n",
      "memory usage: 1.3 MB\n"
     ]
    }
   ],
   "source": [
    "x_train_resampled.info()"
   ]
  },
  {
   "cell_type": "markdown",
   "metadata": {},
   "source": [
    "---\n",
    "---"
   ]
  },
  {
   "cell_type": "markdown",
   "metadata": {},
   "source": [
    "### **Neural Network**"
   ]
  },
  {
   "cell_type": "code",
   "execution_count": 259,
   "metadata": {},
   "outputs": [],
   "source": [
    "import numpy as np\n",
    "import pandas as pd\n",
    "import tensorflow as tf\n",
    "from tensorflow import keras\n",
    "from tensorflow.keras import layers\n",
    "from sklearn.model_selection import KFold\n",
    "from tensorflow.keras.callbacks import EarlyStopping\n",
    "\n",
    "# Prepare for K-Fold Cross-Validation\n",
    "kf = KFold(n_splits=5, shuffle=True, random_state=42)\n",
    "\n",
    "# To store validation accuracies and models\n",
    "val_accuracies = []\n",
    "models = []\n",
    "\n",
    "# Loop through each fold in K-Fold Cross-Validation\n",
    "for train_index, val_index in kf.split(x_train_resampled):\n",
    "    x_train_cv, x_val_cv = x_train_resampled.iloc[train_index], x_train_resampled.iloc[val_index]\n",
    "    y_train_cv, y_val_cv = y_train_resampled.iloc[train_index], y_train_resampled.iloc[val_index]\n",
    "\n",
    "    # Define the model\n",
    "    model = keras.Sequential([\n",
    "        layers.Input(shape=(x_train_cv.shape[1],)),\n",
    "        layers.Dense(256, kernel_regularizer=keras.regularizers.l2(0.001)),\n",
    "        layers.LeakyReLU(alpha=0.01),\n",
    "        layers.BatchNormalization(),\n",
    "        layers.Dropout(0.4),\n",
    "        \n",
    "        layers.Dense(128, kernel_regularizer=keras.regularizers.l2(0.001)),\n",
    "        layers.LeakyReLU(alpha=0.01),\n",
    "        layers.BatchNormalization(),\n",
    "        layers.Dropout(0.3),\n",
    "        \n",
    "        layers.Dense(64, kernel_regularizer=keras.regularizers.l2(0.001)),\n",
    "        layers.LeakyReLU(alpha=0.01),\n",
    "        layers.BatchNormalization(),\n",
    "        layers.Dropout(0.3),\n",
    "        \n",
    "        layers.Dense(1, activation='sigmoid')\n",
    "    ])\n",
    "\n",
    "    # Compile the model with a smaller learning rate\n",
    "    model.compile(optimizer=keras.optimizers.Adam(learning_rate=0.0003), \n",
    "                  loss='binary_crossentropy', \n",
    "                  metrics=['accuracy'])\n",
    "\n",
    "    # Set up early stopping, monitoring val_accuracy\n",
    "    early_stopping = EarlyStopping(monitor='val_accuracy', patience=15, restore_best_weights=True)\n",
    "\n",
    "    # Train the model\n",
    "    model.fit(x_train_cv, y_train_cv, epochs=200, batch_size=32, \n",
    "              validation_data=(x_val_cv, y_val_cv), callbacks=[early_stopping])\n",
    "\n",
    "    # Evaluate the model on validation set\n",
    "    val_loss, val_accuracy = model.evaluate(x_val_cv, y_val_cv)\n",
    "    print(f'Validation Accuracy for this fold: {val_accuracy:.4f}')\n",
    "\n",
    "    # Store the model and its validation accuracy\n",
    "    val_accuracies.append(val_accuracy)\n",
    "    models.append(model)\n",
    "\n",
    "# Calculate the average validation accuracy across all folds\n",
    "average_accuracy = np.mean(val_accuracies)\n",
    "print(f'Average Validation Accuracy: {average_accuracy:.4f}')\n",
    "\n",
    "# Find the model closest to the average accuracy\n",
    "closest_index = np.argmin(np.abs(np.array(val_accuracies) - average_accuracy))\n",
    "best_model = models[closest_index]\n",
    "print(f'Model closest to the average accuracy is from fold {closest_index + 1}.')\n",
    "\n",
    "# Train the selected model on the entire resampled training data\n",
    "best_model.fit(x_train_resampled, y_train_resampled, epochs=300, batch_size=32, callbacks=[early_stopping])\n",
    "\n",
    "# Evaluate the best model on the test data\n",
    "test_loss, test_accuracy = best_model.evaluate(x_test_preprocessed, y_test)\n",
    "print(f'Test accuracy: {test_accuracy:.4f}')\n",
    "\n",
    "# Make predictions on test data\n",
    "predictions = best_model.predict(x_test_preprocessed)\n",
    "predicted_classes = (predictions > 0.5).astype(\"int32\")\n"
   ]
  },
  {
   "cell_type": "code",
   "execution_count": 335,
   "metadata": {},
   "outputs": [
    {
     "name": "stdout",
     "output_type": "stream",
     "text": [
      "Confusion Matrix:\n",
      "\n"
     ]
    },
    {
     "data": {
      "image/png": "[encoded data removed]",
      "text/plain": [
       "<Figure size 640x480 with 2 Axes>"
      ]
     },
     "metadata": {},
     "output_type": "display_data"
    }
   ],
   "source": [
    "from sklearn.metrics import confusion_matrix\n",
    "\n",
    "# Make predictions on test data\n",
    "predictions = best_model.predict(x_test_preprocessed)\n",
    "predicted_classes = (predictions > 0.5).astype(\"int32\")\n",
    "\n",
    "# Print confusion matrix\n",
    "print(\"Confusion Matrix:\\n\")\n",
    "\n",
    "sns.heatmap(confusion_matrix(y_test, predicted_classes), annot=True, fmt='d', cmap='Blues')\n",
    "plt.title('Neural Network Confusion Matrix')\n",
    "plt.xlabel('Predicted')\n",
    "plt.ylabel('Actual')\n",
    "plt.show()"
   ]
  },
  {
   "cell_type": "markdown",
   "metadata": {},
   "source": [
    "---\n",
    "---"
   ]
  },
  {
   "cell_type": "code",
   "execution_count": 261,
   "metadata": {},
   "outputs": [],
   "source": [
    "from re import S\n",
    "from sklearn.model_selection import train_test_split\n",
    "from sklearn.linear_model import LogisticRegression\n",
    "from sklearn.metrics import accuracy_score, precision_score, recall_score, f1_score\n",
    "from sklearn.metrics import confusion_matrix\n",
    "from sklearn.metrics import classification_report\n",
    "from sklearn.model_selection import cross_val_score, KFold\n",
    "from sklearn.tree import DecisionTreeClassifier\n",
    "from sklearn.ensemble import RandomForestClassifier\n",
    "from sklearn.svm import SVC\n",
    "from sklearn.neighbors import KNeighborsClassifier\n",
    "from sklearn.naive_bayes import GaussianNB\n",
    "from xgboost import XGBClassifier"
   ]
  },
  {
   "cell_type": "markdown",
   "metadata": {},
   "source": [
    "### **Logistic Regression**"
   ]
  },
  {
   "cell_type": "code",
   "execution_count": 344,
   "metadata": {},
   "outputs": [
    {
     "name": "stdout",
     "output_type": "stream",
     "text": [
      "Fitting 5 folds for each of 60 candidates, totalling 300 fits\n",
      "Best Hyperparameters (Optimized for Recall):\n",
      "{'C': 10, 'max_iter': 500, 'penalty': 'l1', 'solver': 'liblinear'}\n"
     ]
    }
   ],
   "source": [
    "# 1. Import Required Libraries\n",
    "import pandas as pd\n",
    "import numpy as np\n",
    "from sklearn.model_selection import train_test_split, GridSearchCV\n",
    "from sklearn.preprocessing import StandardScaler\n",
    "from sklearn.linear_model import LogisticRegression\n",
    "from sklearn.metrics import (\n",
    "    classification_report,\n",
    "    confusion_matrix,\n",
    "    roc_auc_score,\n",
    "    precision_recall_curve\n",
    ")\n",
    "from imblearn.over_sampling import SMOTE\n",
    "import matplotlib.pyplot as plt\n",
    "import seaborn as sns\n",
    "\n",
    "\n",
    "\n",
    "\n",
    "# 7. Initialize Logistic Regression with Class Weights\n",
    "# Class weights help the model pay more attention to the minority class\n",
    "logreg = LogisticRegression(class_weight='balanced', solver='liblinear', max_iter=300)\n",
    "\n",
    "# 8. Define Hyperparameter Grid\n",
    "param_grid = {\n",
    "    'C': [0.01, 0.1, 1, 10, 100],              # Inverse of regularization strength\n",
    "    'penalty': ['l1', 'l2'],                   # Regularization penalties\n",
    "    'solver': ['liblinear', 'saga'],           # Solvers compatible with penalties\n",
    "    'max_iter': [300, 400, 500]                # Maximum iterations for convergence\n",
    "}\n",
    "\n",
    "# 9. Initialize GridSearchCV\n",
    "# Focus on optimizing recall to reduce False Negatives\n",
    "grid_search = GridSearchCV(\n",
    "    estimator=logreg,\n",
    "    param_grid=param_grid,\n",
    "    scoring='recall',            # Optimize for recall\n",
    "    cv=5,                        # 5-fold cross-validation\n",
    "    n_jobs=-1,                   # Use all available cores\n",
    "    verbose=2\n",
    ")\n",
    "\n",
    "# 10. Fit GridSearchCV on Resampled Training Data\n",
    "grid_search.fit(x_train_resampled, y_train_resampled)\n",
    "\n",
    "# 11. Retrieve Best Parameters and Best Estimator\n",
    "best_params = grid_search.best_params_\n",
    "LRG_Model = grid_search.best_estimator_\n",
    "\n",
    "print(\"Best Hyperparameters (Optimized for Recall):\")\n",
    "print(best_params)\n",
    "\n",
    "# 12. Make Predictions on Test Set\n",
    "y_pred = LRG_Model.predict(x_test_preprocessed)\n",
    "y_prob = LRG_Model.predict_proba(x_test_preprocessed)[:, 1]  # Probability estimates for the positive class\n",
    "\n",
    "# 13. Adjust Classification Threshold to Further Reduce False Negatives\n",
    "# Lowering the threshold increases recall but may affect precision\n",
    "threshold = 0.3  # Example threshold; you can adjust based on the trade-off\n",
    "y_pred_threshold = (y_prob >= threshold).astype(int)\n",
    "\n"
   ]
  },
  {
   "cell_type": "code",
   "execution_count": 294,
   "metadata": {},
   "outputs": [
    {
     "name": "stdout",
     "output_type": "stream",
     "text": [
      "\n",
      "Classification Report:\n",
      "              precision    recall  f1-score   support\n",
      "\n",
      "           0       0.99      0.54      0.70       960\n",
      "           1       0.12      0.94      0.21        62\n",
      "\n",
      "    accuracy                           0.56      1022\n",
      "   macro avg       0.55      0.74      0.45      1022\n",
      "weighted avg       0.94      0.56      0.67      1022\n",
      "\n"
     ]
    }
   ],
   "source": [
    "print(\"\\nClassification Report:\")\n",
    "print(classification_report(y_test, y_pred_threshold))\n"
   ]
  },
  {
   "cell_type": "code",
   "execution_count": 295,
   "metadata": {},
   "outputs": [
    {
     "name": "stdout",
     "output_type": "stream",
     "text": [
      "\n",
      "=== Model Performance with Threshold = 0.3 ===\n",
      "Confusion Matrix:\n"
     ]
    },
    {
     "data": {
      "image/png": "[encoded data removed]",
      "text/plain": [
       "<Figure size 640x480 with 2 Axes>"
      ]
     },
     "metadata": {},
     "output_type": "display_data"
    }
   ],
   "source": [
    "# 14. Evaluate Model Performance After Threshold Adjustment\n",
    "print(f\"\\n=== Model Performance with Threshold = {threshold} ===\")\n",
    "print(\"Confusion Matrix:\")\n",
    "\n",
    "sns.heatmap(confusion_matrix(y_test, y_pred_threshold), annot=True, fmt='d', cmap='Blues')\n",
    "plt.title('Logistic Regression Confusion Matrix')\n",
    "plt.xlabel('Predicted')\n",
    "plt.ylabel('Actual')\n",
    "plt.show()"
   ]
  },
  {
   "cell_type": "markdown",
   "metadata": {},
   "source": [
    "---\n",
    "---"
   ]
  },
  {
   "cell_type": "markdown",
   "metadata": {},
   "source": [
    "### **Decision Tree**"
   ]
  },
  {
   "cell_type": "code",
   "execution_count": 312,
   "metadata": {},
   "outputs": [
    {
     "name": "stdout",
     "output_type": "stream",
     "text": [
      "Fitting 5 folds for each of 72 candidates, totalling 360 fits\n"
     ]
    }
   ],
   "source": [
    "# 1. Import Required Libraries\n",
    "from sklearn.tree import DecisionTreeClassifier\n",
    "from sklearn.model_selection import GridSearchCV, KFold, cross_val_score\n",
    "from sklearn.metrics import (\n",
    "    accuracy_score, classification_report, confusion_matrix, precision_recall_curve\n",
    ")\n",
    "import numpy as np\n",
    "\n",
    "# 2. Define Hyperparameter Grid\n",
    "param_grid = {\n",
    "    'max_depth': [3, 5, 10, None],           # Control tree depth\n",
    "    'min_samples_split': [2, 5, 10],         # Minimum samples to split a node\n",
    "    'min_samples_leaf': [1, 2, 4],           # Minimum samples at leaf node\n",
    "    'class_weight': ['balanced', None]       # Handle imbalanced data\n",
    "}\n",
    "\n",
    "# 3. Initialize GridSearchCV with Decision Tree\n",
    "dt_model = DecisionTreeClassifier(random_state=42)\n",
    "cv = KFold(n_splits=5, shuffle=True, random_state=42)\n",
    "\n",
    "grid_search_dt = GridSearchCV(\n",
    "    estimator=dt_model,\n",
    "    param_grid=param_grid,\n",
    "    scoring='recall',  # Optimize for recall to reduce False Negatives\n",
    "    cv=cv,\n",
    "    n_jobs=-1,\n",
    "    verbose=2\n",
    ")\n",
    "\n",
    "# 4. Fit GridSearchCV on Resampled Data\n",
    "grid_search_dt.fit(x_train_resampled, y_train_resampled)\n",
    "\n",
    "# 5. Retrieve the Best Model and Parameters\n",
    "best_dt_model = grid_search_dt.best_estimator_\n",
    "\n",
    "# 6. Make Predictions on Test Data\n",
    "y_prob_dt = best_dt_model.predict_proba(x_test_preprocessed)[:, 1]  # Probability estimates\n",
    "\n",
    "# 7. Adjust Threshold to Further Reduce False Negatives\n",
    "threshold = 0.3  # Example threshold, can be tuned\n",
    "y_pred_threshold_dt = (y_prob_dt >= threshold).astype(int)\n",
    "\n",
    "\n"
   ]
  },
  {
   "cell_type": "code",
   "execution_count": 313,
   "metadata": {},
   "outputs": [
    {
     "name": "stdout",
     "output_type": "stream",
     "text": [
      "\n",
      "Classification Report:\n",
      "              precision    recall  f1-score   support\n",
      "\n",
      "           0       0.94      0.93      0.93       960\n",
      "           1       0.12      0.16      0.14        62\n",
      "\n",
      "    accuracy                           0.88      1022\n",
      "   macro avg       0.53      0.54      0.54      1022\n",
      "weighted avg       0.89      0.88      0.89      1022\n",
      "\n"
     ]
    }
   ],
   "source": [
    "# 8. Evaluate Model Performance with Threshold Adjustment\n",
    "print(\"\\nClassification Report:\")\n",
    "print(classification_report(y_test, y_pred_threshold_dt))"
   ]
  },
  {
   "cell_type": "code",
   "execution_count": 314,
   "metadata": {},
   "outputs": [
    {
     "name": "stdout",
     "output_type": "stream",
     "text": [
      "\n",
      "=== Performance with Threshold = 0.3 ===\n",
      "Confusion Matrix:\n"
     ]
    },
    {
     "data": {
      "image/png": "[encoded data removed]",
      "text/plain": [
       "<Figure size 640x480 with 2 Axes>"
      ]
     },
     "metadata": {},
     "output_type": "display_data"
    }
   ],
   "source": [
    "print(f\"\\n=== Performance with Threshold = {threshold} ===\")\n",
    "print(\"Confusion Matrix:\")\n",
    "\n",
    "\n",
    "sns.heatmap(confusion_matrix(y_test, y_pred_threshold_dt), annot=True, fmt='d', cmap='Blues')\n",
    "plt.title('Decision Tree Confusion Matrix')\n",
    "plt.xlabel('Predicted')\n",
    "plt.ylabel('Actual')\n",
    "plt.show()"
   ]
  },
  {
   "cell_type": "markdown",
   "metadata": {},
   "source": [
    "---\n",
    "---"
   ]
  },
  {
   "cell_type": "markdown",
   "metadata": {},
   "source": [
    "### **Random Forest**"
   ]
  },
  {
   "cell_type": "code",
   "execution_count": 336,
   "metadata": {},
   "outputs": [
    {
     "name": "stdout",
     "output_type": "stream",
     "text": [
      "Fitting 3 folds for each of 10 candidates, totalling 30 fits\n",
      "Best Hyperparameters (Optimized for Recall):\n",
      "{'n_estimators': 150, 'min_samples_split': 5, 'min_samples_leaf': 1, 'max_features': 'sqrt', 'max_depth': 20}\n",
      "Train Accuracy: 0.9886494069633975\n",
      "Random Forest Cross-validation scores (Recall): [0.95948012 0.97054381 0.95795107]\n",
      "Mean Recall: 0.9626583331023587\n",
      "Standard Deviation: 0.005610705229418849\n"
     ]
    }
   ],
   "source": [
    "import numpy as np\n",
    "from sklearn.ensemble import RandomForestClassifier\n",
    "from sklearn.model_selection import RandomizedSearchCV, KFold, cross_val_score\n",
    "from sklearn.metrics import (\n",
    "    accuracy_score, classification_report, confusion_matrix, roc_auc_score\n",
    ")\n",
    "\n",
    "# 1. Define Hyperparameter Grid (Reduced Search Space)\n",
    "param_grid = {\n",
    "    'n_estimators': [100, 150, 200],  # Fewer values for faster tuning\n",
    "    'max_depth': [10, 20, None],  # Include None for no depth limit\n",
    "    'min_samples_split': [2, 5],  # Reasonable range\n",
    "    'min_samples_leaf': [1, 2],   # Only minimal range\n",
    "    'max_features': ['sqrt', 'log2']  # Avoid None for efficiency\n",
    "}\n",
    "\n",
    "# 2. Initialize Random Forest Classifier\n",
    "rf_model = RandomForestClassifier(random_state=42)\n",
    "\n",
    "# 3. Set up RandomizedSearchCV for Faster Search\n",
    "cv = KFold(n_splits=3, shuffle=True, random_state=42)\n",
    "random_search_rf = RandomizedSearchCV(\n",
    "    estimator=rf_model,\n",
    "    param_distributions=param_grid,\n",
    "    n_iter=10,  # Limit to 10 parameter combinations\n",
    "    scoring='recall',  # Optimize for recall\n",
    "    cv=cv,\n",
    "    n_jobs=-1,  # Use all available CPU cores\n",
    "    verbose=1,\n",
    "    random_state=42\n",
    ")\n",
    "\n",
    "# 4. Fit RandomizedSearchCV on Resampled Data\n",
    "random_search_rf.fit(x_train_resampled, y_train_resampled)\n",
    "\n",
    "# 5. Retrieve Best Model and Parameters\n",
    "best_params_rf = random_search_rf.best_params_\n",
    "best_rf_model = random_search_rf.best_estimator_\n",
    "\n",
    "print(\"Best Hyperparameters (Optimized for Recall):\")\n",
    "print(best_params_rf)\n",
    "\n",
    "# 6. Train Accuracy on Resampled Data\n",
    "train_accuracy = accuracy_score(y_train_resampled, best_rf_model.predict(x_train_resampled))\n",
    "print(f\"Train Accuracy: {train_accuracy}\")\n",
    "\n",
    "# 7. Cross-Validation Performance\n",
    "scores_rf = cross_val_score(best_rf_model, x_train_resampled, y_train_resampled, cv=cv, scoring='recall')\n",
    "print(f\"Random Forest Cross-validation scores (Recall): {scores_rf}\")\n",
    "print(f\"Mean Recall: {np.mean(scores_rf)}\")\n",
    "print(f\"Standard Deviation: {np.std(scores_rf)}\")\n",
    "\n",
    "# 8. Make Predictions on Test Data\n",
    "y_pred_rf = best_rf_model.predict(x_test_preprocessed)\n",
    "\n",
    "\n",
    "\n",
    "\n"
   ]
  },
  {
   "cell_type": "code",
   "execution_count": 337,
   "metadata": {},
   "outputs": [
    {
     "name": "stdout",
     "output_type": "stream",
     "text": [
      "Random Forest Test Accuracy: 0.9148727984344422\n",
      "Validation Error: 0.08512720156555775\n"
     ]
    }
   ],
   "source": [
    "# 9. Evaluate on Test Data\n",
    "accuracy_rf = accuracy_score(y_test, y_pred_rf)\n",
    "print(f\"Random Forest Test Accuracy: {accuracy_rf}\")\n",
    "validation_error = 1 - accuracy_rf\n",
    "print(f\"Validation Error: {validation_error}\")\n"
   ]
  },
  {
   "cell_type": "code",
   "execution_count": 338,
   "metadata": {},
   "outputs": [
    {
     "name": "stdout",
     "output_type": "stream",
     "text": [
      "Classification Report:\n",
      "              precision    recall  f1-score   support\n",
      "\n",
      "           0       0.95      0.96      0.96       960\n",
      "           1       0.21      0.15      0.17        62\n",
      "\n",
      "    accuracy                           0.91      1022\n",
      "   macro avg       0.58      0.55      0.56      1022\n",
      "weighted avg       0.90      0.91      0.91      1022\n",
      "\n"
     ]
    }
   ],
   "source": [
    "print(\"Classification Report:\")\n",
    "print(classification_report(y_test, y_pred_rf))"
   ]
  },
  {
   "cell_type": "code",
   "execution_count": 339,
   "metadata": {},
   "outputs": [
    {
     "name": "stdout",
     "output_type": "stream",
     "text": [
      "Confusion Matrix:\n"
     ]
    },
    {
     "data": {
      "image/png": "[encoded data removed]",
      "text/plain": [
       "<Figure size 640x480 with 2 Axes>"
      ]
     },
     "metadata": {},
     "output_type": "display_data"
    }
   ],
   "source": [
    "# 10. Confusion Matrix\n",
    "conf_matrix = confusion_matrix(y_test, y_pred_rf)\n",
    "print(\"Confusion Matrix:\")\n",
    "\n",
    "sns.heatmap(confusion_matrix(y_test, y_pred_rf), annot=True, fmt='d', cmap='Blues')\n",
    "plt.title('Random Forest Confusion Matrix')\n",
    "plt.xlabel('Predicted')\n",
    "plt.ylabel('Actual')\n",
    "plt.show()\n"
   ]
  },
  {
   "cell_type": "markdown",
   "metadata": {},
   "source": [
    "---\n",
    "---"
   ]
  },
  {
   "cell_type": "markdown",
   "metadata": {},
   "source": [
    "### **xgboost**"
   ]
  },
  {
   "cell_type": "code",
   "execution_count": 308,
   "metadata": {},
   "outputs": [
    {
     "name": "stdout",
     "output_type": "stream",
     "text": [
      "Fitting 5 folds for each of 50 candidates, totalling 250 fits\n",
      "Best Hyperparameters (Optimized for Recall):\n",
      "{'subsample': 0.8, 'reg_alpha': 0, 'n_estimators': 100, 'max_depth': 10, 'learning_rate': 0.01, 'gamma': 0.1, 'colsample_bytree': 0.7}\n"
     ]
    }
   ],
   "source": [
    "import xgboost as xgb\n",
    "from xgboost import XGBClassifier\n",
    "from sklearn.model_selection import RandomizedSearchCV, KFold\n",
    "from sklearn.metrics import (\n",
    "    accuracy_score, classification_report, confusion_matrix, precision_recall_curve\n",
    ")\n",
    "import numpy as np\n",
    "\n",
    "# 1. Define Hyperparameter Distribution\n",
    "param_distributions = {\n",
    "    'n_estimators': [100, 200, 300, 400],      # Number of trees\n",
    "    'max_depth': [3, 5, 10],                   # Control tree depth\n",
    "    'learning_rate': [0.01, 0.1, 0.2],         # Step size shrinkage\n",
    "    'subsample': [0.5, 0.6, 0.7, 0.8],         # Fraction of samples used for fitting\n",
    "    'colsample_bytree': [0.5, 0.6, 0.7],       # Fraction of features used for fitting\n",
    "    'gamma': [0, 0.1],                         # Minimum loss reduction for a split\n",
    "    'reg_alpha': [0, 0.1]                      # L1 regularization\n",
    "}\n",
    "\n",
    "# 2. Initialize XGBoost Classifier\n",
    "xg_model = XGBClassifier(random_state=42)\n",
    "\n",
    "# 3. Initialize RandomizedSearchCV\n",
    "cv = KFold(n_splits=5, shuffle=True, random_state=42)\n",
    "randomized_search_xg = RandomizedSearchCV(\n",
    "    estimator=xg_model,\n",
    "    param_distributions=param_distributions,\n",
    "    n_iter=50,  # Number of random combinations to try\n",
    "    scoring='recall',  # Optimize for recall to reduce False Negatives\n",
    "    cv=cv,\n",
    "    n_jobs=-1,\n",
    "    verbose=2,\n",
    "    random_state=42\n",
    ")\n",
    "\n",
    "# 4. Fit RandomizedSearchCV on Resampled Data\n",
    "randomized_search_xg.fit(x_train_resampled, y_train_resampled)\n",
    "\n",
    "# 5. Retrieve the Best Model and Parameters\n",
    "best_params_xg = randomized_search_xg.best_params_\n",
    "best_xg_model = randomized_search_xg.best_estimator_\n",
    "\n",
    "print(\"Best Hyperparameters (Optimized for Recall):\")\n",
    "print(best_params_xg)\n",
    "\n",
    "# 6. Make Predictions on Test Data\n",
    "y_prob_xg = best_xg_model.predict_proba(x_test_preprocessed)[:, 1]  # Probability estimates\n",
    "\n",
    "# 7. Adjust Threshold to Further Reduce False Negatives\n",
    "threshold = 0.3  # Example threshold, can be tuned\n",
    "y_pred_threshold_xg = (y_prob_xg >= threshold).astype(int)"
   ]
  },
  {
   "cell_type": "code",
   "execution_count": 309,
   "metadata": {},
   "outputs": [
    {
     "name": "stdout",
     "output_type": "stream",
     "text": [
      "\n",
      "Classification Report:\n",
      "              precision    recall  f1-score   support\n",
      "\n",
      "           0       0.98      0.70      0.82       960\n",
      "           1       0.14      0.74      0.23        62\n",
      "\n",
      "    accuracy                           0.70      1022\n",
      "   macro avg       0.56      0.72      0.53      1022\n",
      "weighted avg       0.93      0.70      0.78      1022\n",
      "\n"
     ]
    }
   ],
   "source": [
    "# 8. Evaluate Performance\n",
    "print(\"\\nClassification Report:\")\n",
    "print(classification_report(y_test, y_pred_threshold_xg))"
   ]
  },
  {
   "cell_type": "code",
   "execution_count": 311,
   "metadata": {},
   "outputs": [
    {
     "name": "stdout",
     "output_type": "stream",
     "text": [
      "\n",
      "=== Performance with Threshold = 0.3 ===\n",
      "Confusion Matrix:\n"
     ]
    },
    {
     "data": {
      "image/png": "[encoded data removed]",
      "text/plain": [
       "<Figure size 640x480 with 2 Axes>"
      ]
     },
     "metadata": {},
     "output_type": "display_data"
    }
   ],
   "source": [
    "print(f\"\\n=== Performance with Threshold = {threshold} ===\")\n",
    "print(\"Confusion Matrix:\")\n",
    "\n",
    "sns.heatmap(confusion_matrix(y_test, y_pred_threshold_xg), annot=True, fmt='d', cmap='Blues')\n",
    "plt.title('XGBoost Confusion Matrix')\n",
    "plt.xlabel('Predicted')\n",
    "plt.ylabel('Actual')\n",
    "plt.show()"
   ]
  },
  {
   "cell_type": "markdown",
   "metadata": {},
   "source": [
    "---\n",
    "---"
   ]
  },
  {
   "cell_type": "markdown",
   "metadata": {},
   "source": [
    "### **Support Vector Classifier**"
   ]
  },
  {
   "cell_type": "code",
   "execution_count": 340,
   "metadata": {},
   "outputs": [
    {
     "name": "stdout",
     "output_type": "stream",
     "text": [
      "Fitting 3 folds for each of 10 candidates, totalling 30 fits\n",
      "Best Hyperparameters (Optimized for Recall):\n",
      "{'C': 4.660699842170359, 'coef0': 0.07851759613930137, 'gamma': 'scale', 'kernel': 'rbf'}\n",
      "Train Accuracy: 0.9307486290014029\n",
      "SVC Cross-validation scores (Recall): [0.96330275 0.97129909 0.96330275]\n",
      "Mean Recall: 0.9659681994142483\n",
      "Standard Deviation: 0.003769511467840351\n"
     ]
    }
   ],
   "source": [
    "import numpy as np\n",
    "from sklearn.svm import SVC, LinearSVC\n",
    "from sklearn.model_selection import RandomizedSearchCV, KFold, cross_val_score\n",
    "from sklearn.metrics import accuracy_score\n",
    "from scipy.stats import uniform\n",
    "\n",
    "# 1. Define Narrowed Hyperparameter Distributions for Randomized Search\n",
    "param_dist = {\n",
    "    'C': uniform(0.1, 10),  # Narrowed range for C\n",
    "    'kernel': ['linear', 'rbf'],  # Considering linear and rbf kernels\n",
    "    'gamma': ['scale', 'auto'],  # Kernel coefficient options\n",
    "    'coef0': uniform(0.0, 0.1)  # Narrowed range for coef0\n",
    "}\n",
    "\n",
    "# 2. Initialize SVC Classifier (or LinearSVC for linear kernel)\n",
    "svc_model = SVC(random_state=42, probability=True)  # Probability estimates enabled for threshold tuning\n",
    "\n",
    "# 3. Initialize RandomizedSearchCV with Reduced Parameters\n",
    "cv = KFold(n_splits=3, shuffle=True, random_state=42)  # Reduced K-Folds to 3 for faster evaluation\n",
    "random_search_svc = RandomizedSearchCV(\n",
    "    estimator=svc_model,\n",
    "    param_distributions=param_dist,\n",
    "    scoring='recall',  # Optimizing for recall\n",
    "    cv=cv,\n",
    "    n_iter=10,  # Reduced number of iterations for faster search\n",
    "    n_jobs=-1,  # Parallelize across all available CPUs\n",
    "    verbose=2,\n",
    "    random_state=42\n",
    ")\n",
    "\n",
    "# 4. Fit RandomizedSearchCV on Resampled Data\n",
    "random_search_svc.fit(x_train_resampled, y_train_resampled)\n",
    "\n",
    "# 5. Retrieve the Best Model and Parameters\n",
    "best_params_svc = random_search_svc.best_params_\n",
    "best_svc_model = random_search_svc.best_estimator_\n",
    "\n",
    "print(\"Best Hyperparameters (Optimized for Recall):\")\n",
    "print(best_params_svc)\n",
    "\n",
    "# 6. Evaluate Performance on Training Data\n",
    "train_accuracy = accuracy_score(y_train_resampled, best_svc_model.predict(x_train_resampled))\n",
    "print(f\"Train Accuracy: {train_accuracy}\")\n",
    "\n",
    "# 7. Cross-Validation Performance\n",
    "scores = cross_val_score(best_svc_model, x_train_resampled, y_train_resampled, cv=cv, scoring='recall')\n",
    "print(f\"SVC Cross-validation scores (Recall): {scores}\")\n",
    "print(f\"Mean Recall: {np.mean(scores)}\")\n",
    "print(f\"Standard Deviation: {np.std(scores)}\")\n",
    "\n",
    "# 8. Make Predictions on Test Data\n",
    "y_prob_svc = best_svc_model.predict_proba(x_test_preprocessed)[:, 1]  # Probability estimates\n",
    "\n",
    "# 9. Adjust Threshold to Further Reduce False Negatives\n",
    "threshold = 0.3  # Example threshold, can be tuned\n",
    "y_pred_threshold_svc = (y_prob_svc >= threshold).astype(int)\n"
   ]
  },
  {
   "cell_type": "code",
   "execution_count": 341,
   "metadata": {},
   "outputs": [
    {
     "name": "stdout",
     "output_type": "stream",
     "text": [
      "Validation Error: 0.17906066536203524\n",
      "SVC Accuracy: 0.8209393346379648\n"
     ]
    }
   ],
   "source": [
    "# 10. Evaluate Test Set Performance\n",
    "print(f\"Validation Error: {1 - accuracy_score(y_test, y_pred_threshold_svc)}\")\n",
    "print(f\"SVC Accuracy: {accuracy_score(y_test, y_pred_threshold_svc)}\")"
   ]
  },
  {
   "cell_type": "code",
   "execution_count": 342,
   "metadata": {},
   "outputs": [
    {
     "name": "stdout",
     "output_type": "stream",
     "text": [
      "\n",
      "Classification Report:\n",
      "              precision    recall  f1-score   support\n",
      "\n",
      "           0       0.95      0.85      0.90       960\n",
      "           1       0.14      0.37      0.20        62\n",
      "\n",
      "    accuracy                           0.82      1022\n",
      "   macro avg       0.55      0.61      0.55      1022\n",
      "weighted avg       0.90      0.82      0.86      1022\n",
      "\n"
     ]
    }
   ],
   "source": [
    "print(\"\\nClassification Report:\")\n",
    "print(classification_report(y_test, y_pred_threshold_svc))"
   ]
  },
  {
   "cell_type": "code",
   "execution_count": 343,
   "metadata": {},
   "outputs": [
    {
     "name": "stdout",
     "output_type": "stream",
     "text": [
      "Confusion Matrix:\n"
     ]
    },
    {
     "data": {
      "image/png": "[encoded data removed]",
      "text/plain": [
       "<Figure size 640x480 with 2 Axes>"
      ]
     },
     "metadata": {},
     "output_type": "display_data"
    }
   ],
   "source": [
    "print(\"Confusion Matrix:\")\n",
    "\n",
    "sns.heatmap(confusion_matrix(y_test, y_pred_threshold_svc), annot=True, fmt='d', cmap='Blues')\n",
    "plt.title('SVC Confusion Matrix')\n",
    "plt.xlabel('Predicted')\n",
    "plt.ylabel('Actual')\n",
    "plt.show()"
   ]
  },
  {
   "cell_type": "markdown",
   "metadata": {},
   "source": [
    "---\n",
    "---"
   ]
  },
  {
   "cell_type": "markdown",
   "metadata": {},
   "source": [
    "## **Objective: Stroke Prediction Model Selection**"
   ]
  },
  {
   "cell_type": "markdown",
   "metadata": {},
   "source": [
    "- The objective of this project is to develop and evaluate machine learning models to accurately predict stroke occurrences in patients. Given the critical nature of stroke diagnosis, the primary focus is to minimize False Negatives (FN)—cases where a patient has a stroke, but the model incorrectly predicts no stroke. Such errors can lead to missed treatment opportunities and severe health consequences.\n",
    "\n",
    "- The project involved exploring various machine learning algorithms and optimizing the models for high recall on the positive class (stroke cases). This ensures the model maximizes True Positives (TP), capturing as many actual stroke cases as possible.\n",
    "\n",
    "- After testing **Logistic Regression**, **Random Forest**, **Decision Tree**, **xgboost**, **SVC**\n",
    "\n",
    "- **`Logistic Regression`** emerged as the best-performing model. It achieved the lowest False Negative rate, misclassifying only 4 stroke patients as non-stroke cases, while maintaining a high recall for the positive class. This model was selected as the optimal solution due to its superior ability to identify stroke cases accurately"
   ]
  },
  {
   "cell_type": "markdown",
   "metadata": {},
   "source": [
    "---\n",
    "---"
   ]
  },
  {
   "cell_type": "markdown",
   "metadata": {},
   "source": [
    "#### **Saving the pipeline `(model + preprocessing)` into a file for deployment**"
   ]
  },
  {
   "cell_type": "code",
   "execution_count": 345,
   "metadata": {},
   "outputs": [
    {
     "name": "stdout",
     "output_type": "stream",
     "text": [
      "Model pipeline saved successfully!\n"
     ]
    }
   ],
   "source": [
    "import joblib\n",
    "from sklearn.pipeline import Pipeline\n",
    "\n",
    "pipeline = Pipeline([ \n",
    "    ('preprocessor', preprocessor), \n",
    "    ('model', LRG_Model) \n",
    "])\n",
    "\n",
    "\n",
    "# Save the entire pipeline (preprocessing + model) using joblib\n",
    "joblib.dump(pipeline, 'ML_Model_For_Stroke_predection.pkl')\n",
    "\n",
    "print(\"Model pipeline saved successfully!\")"
   ]
  },
  {
   "cell_type": "markdown",
   "metadata": {},
   "source": [
    "---\n",
    "---"
   ]
  },
  {
   "cell_type": "markdown",
   "metadata": {},
   "source": [
    "# **Visualizations**"
   ]
  },
  {
   "cell_type": "markdown",
   "metadata": {},
   "source": [
    "- ##### **1. Class Distribution Before and After Resampling**"
   ]
  },
  {
   "cell_type": "code",
   "execution_count": 346,
   "metadata": {},
   "outputs": [
    {
     "data": {
      "application/vnd.plotly.v1+json": {
       "config": {
        "plotlyServerURL": "https://plot.ly"
       },
       "data": [
        {
         "alignmentgroup": "True",
         "hovertemplate": "Dataset=%{x}<br>Count=%{y}<br>Stroke=%{marker.color}<extra></extra>",
         "legendgroup": "",
         "marker": {
          "color": [
           0,
           1,
           1,
           0
          ],
          "coloraxis": "coloraxis",
          "pattern": {
           "shape": ""
          }
         },
         "name": "",
         "offsetgroup": "",
         "orientation": "v",
         "showlegend": false,
         "textposition": "auto",
         "type": "bar",
         "x": [
          "Before Resampling",
          "Before Resampling",
          "After Resampling",
          "After Resampling"
         ],
         "xaxis": "x",
         "y": [
          3901,
          187,
          3940,
          3901
         ],
         "yaxis": "y"
        }
       ],
       "layout": {
        "barmode": "group",
        "coloraxis": {
         "colorbar": {
          "title": {
           "text": "Stroke"
          }
         },
         "colorscale": [
          [
           0,
           "#0d0887"
          ],
          [
           0.1111111111111111,
           "#46039f"
          ],
          [
           0.2222222222222222,
           "#7201a8"
          ],
          [
           0.3333333333333333,
           "#9c179e"
          ],
          [
           0.4444444444444444,
           "#bd3786"
          ],
          [
           0.5555555555555556,
           "#d8576b"
          ],
          [
           0.6666666666666666,
           "#ed7953"
          ],
          [
           0.7777777777777778,
           "#fb9f3a"
          ],
          [
           0.8888888888888888,
           "#fdca26"
          ],
          [
           1,
           "#f0f921"
          ]
         ]
        },
        "legend": {
         "tracegroupgap": 0
        },
        "template": {
         "data": {
          "bar": [
           {
            "error_x": {
             "color": "#2a3f5f"
            },
            "error_y": {
             "color": "#2a3f5f"
            },
            "marker": {
             "line": {
              "color": "#E5ECF6",
              "width": 0.5
             },
             "pattern": {
              "fillmode": "overlay",
              "size": 10,
              "solidity": 0.2
             }
            },
            "type": "bar"
           }
          ],
          "barpolar": [
           {
            "marker": {
             "line": {
              "color": "#E5ECF6",
              "width": 0.5
             },
             "pattern": {
              "fillmode": "overlay",
              "size": 10,
              "solidity": 0.2
             }
            },
            "type": "barpolar"
           }
          ],
          "carpet": [
           {
            "aaxis": {
             "endlinecolor": "#2a3f5f",
             "gridcolor": "white",
             "linecolor": "white",
             "minorgridcolor": "white",
             "startlinecolor": "#2a3f5f"
            },
            "baxis": {
             "endlinecolor": "#2a3f5f",
             "gridcolor": "white",
             "linecolor": "white",
             "minorgridcolor": "white",
             "startlinecolor": "#2a3f5f"
            },
            "type": "carpet"
           }
          ],
          "choropleth": [
           {
            "colorbar": {
             "outlinewidth": 0,
             "ticks": ""
            },
            "type": "choropleth"
           }
          ],
          "contour": [
           {
            "colorbar": {
             "outlinewidth": 0,
             "ticks": ""
            },
            "colorscale": [
             [
              0,
              "#0d0887"
             ],
             [
              0.1111111111111111,
              "#46039f"
             ],
             [
              0.2222222222222222,
              "#7201a8"
             ],
             [
              0.3333333333333333,
              "#9c179e"
             ],
             [
              0.4444444444444444,
              "#bd3786"
             ],
             [
              0.5555555555555556,
              "#d8576b"
             ],
             [
              0.6666666666666666,
              "#ed7953"
             ],
             [
              0.7777777777777778,
              "#fb9f3a"
             ],
             [
              0.8888888888888888,
              "#fdca26"
             ],
             [
              1,
              "#f0f921"
             ]
            ],
            "type": "contour"
           }
          ],
          "contourcarpet": [
           {
            "colorbar": {
             "outlinewidth": 0,
             "ticks": ""
            },
            "type": "contourcarpet"
           }
          ],
          "heatmap": [
           {
            "colorbar": {
             "outlinewidth": 0,
             "ticks": ""
            },
            "colorscale": [
             [
              0,
              "#0d0887"
             ],
             [
              0.1111111111111111,
              "#46039f"
             ],
             [
              0.2222222222222222,
              "#7201a8"
             ],
             [
              0.3333333333333333,
              "#9c179e"
             ],
             [
              0.4444444444444444,
              "#bd3786"
             ],
             [
              0.5555555555555556,
              "#d8576b"
             ],
             [
              0.6666666666666666,
              "#ed7953"
             ],
             [
              0.7777777777777778,
              "#fb9f3a"
             ],
             [
              0.8888888888888888,
              "#fdca26"
             ],
             [
              1,
              "#f0f921"
             ]
            ],
            "type": "heatmap"
           }
          ],
          "heatmapgl": [
           {
            "colorbar": {
             "outlinewidth": 0,
             "ticks": ""
            },
            "colorscale": [
             [
              0,
              "#0d0887"
             ],
             [
              0.1111111111111111,
              "#46039f"
             ],
             [
              0.2222222222222222,
              "#7201a8"
             ],
             [
              0.3333333333333333,
              "#9c179e"
             ],
             [
              0.4444444444444444,
              "#bd3786"
             ],
             [
              0.5555555555555556,
              "#d8576b"
             ],
             [
              0.6666666666666666,
              "#ed7953"
             ],
             [
              0.7777777777777778,
              "#fb9f3a"
             ],
             [
              0.8888888888888888,
              "#fdca26"
             ],
             [
              1,
              "#f0f921"
             ]
            ],
            "type": "heatmapgl"
           }
          ],
          "histogram": [
           {
            "marker": {
             "pattern": {
              "fillmode": "overlay",
              "size": 10,
              "solidity": 0.2
             }
            },
            "type": "histogram"
           }
          ],
          "histogram2d": [
           {
            "colorbar": {
             "outlinewidth": 0,
             "ticks": ""
            },
            "colorscale": [
             [
              0,
              "#0d0887"
             ],
             [
              0.1111111111111111,
              "#46039f"
             ],
             [
              0.2222222222222222,
              "#7201a8"
             ],
             [
              0.3333333333333333,
              "#9c179e"
             ],
             [
              0.4444444444444444,
              "#bd3786"
             ],
             [
              0.5555555555555556,
              "#d8576b"
             ],
             [
              0.6666666666666666,
              "#ed7953"
             ],
             [
              0.7777777777777778,
              "#fb9f3a"
             ],
             [
              0.8888888888888888,
              "#fdca26"
             ],
             [
              1,
              "#f0f921"
             ]
            ],
            "type": "histogram2d"
           }
          ],
          "histogram2dcontour": [
           {
            "colorbar": {
             "outlinewidth": 0,
             "ticks": ""
            },
            "colorscale": [
             [
              0,
              "#0d0887"
             ],
             [
              0.1111111111111111,
              "#46039f"
             ],
             [
              0.2222222222222222,
              "#7201a8"
             ],
             [
              0.3333333333333333,
              "#9c179e"
             ],
             [
              0.4444444444444444,
              "#bd3786"
             ],
             [
              0.5555555555555556,
              "#d8576b"
             ],
             [
              0.6666666666666666,
              "#ed7953"
             ],
             [
              0.7777777777777778,
              "#fb9f3a"
             ],
             [
              0.8888888888888888,
              "#fdca26"
             ],
             [
              1,
              "#f0f921"
             ]
            ],
            "type": "histogram2dcontour"
           }
          ],
          "mesh3d": [
           {
            "colorbar": {
             "outlinewidth": 0,
             "ticks": ""
            },
            "type": "mesh3d"
           }
          ],
          "parcoords": [
           {
            "line": {
             "colorbar": {
              "outlinewidth": 0,
              "ticks": ""
             }
            },
            "type": "parcoords"
           }
          ],
          "pie": [
           {
            "automargin": true,
            "type": "pie"
           }
          ],
          "scatter": [
           {
            "fillpattern": {
             "fillmode": "overlay",
             "size": 10,
             "solidity": 0.2
            },
            "type": "scatter"
           }
          ],
          "scatter3d": [
           {
            "line": {
             "colorbar": {
              "outlinewidth": 0,
              "ticks": ""
             }
            },
            "marker": {
             "colorbar": {
              "outlinewidth": 0,
              "ticks": ""
             }
            },
            "type": "scatter3d"
           }
          ],
          "scattercarpet": [
           {
            "marker": {
             "colorbar": {
              "outlinewidth": 0,
              "ticks": ""
             }
            },
            "type": "scattercarpet"
           }
          ],
          "scattergeo": [
           {
            "marker": {
             "colorbar": {
              "outlinewidth": 0,
              "ticks": ""
             }
            },
            "type": "scattergeo"
           }
          ],
          "scattergl": [
           {
            "marker": {
             "colorbar": {
              "outlinewidth": 0,
              "ticks": ""
             }
            },
            "type": "scattergl"
           }
          ],
          "scattermapbox": [
           {
            "marker": {
             "colorbar": {
              "outlinewidth": 0,
              "ticks": ""
             }
            },
            "type": "scattermapbox"
           }
          ],
          "scatterpolar": [
           {
            "marker": {
             "colorbar": {
              "outlinewidth": 0,
              "ticks": ""
             }
            },
            "type": "scatterpolar"
           }
          ],
          "scatterpolargl": [
           {
            "marker": {
             "colorbar": {
              "outlinewidth": 0,
              "ticks": ""
             }
            },
            "type": "scatterpolargl"
           }
          ],
          "scatterternary": [
           {
            "marker": {
             "colorbar": {
              "outlinewidth": 0,
              "ticks": ""
             }
            },
            "type": "scatterternary"
           }
          ],
          "surface": [
           {
            "colorbar": {
             "outlinewidth": 0,
             "ticks": ""
            },
            "colorscale": [
             [
              0,
              "#0d0887"
             ],
             [
              0.1111111111111111,
              "#46039f"
             ],
             [
              0.2222222222222222,
              "#7201a8"
             ],
             [
              0.3333333333333333,
              "#9c179e"
             ],
             [
              0.4444444444444444,
              "#bd3786"
             ],
             [
              0.5555555555555556,
              "#d8576b"
             ],
             [
              0.6666666666666666,
              "#ed7953"
             ],
             [
              0.7777777777777778,
              "#fb9f3a"
             ],
             [
              0.8888888888888888,
              "#fdca26"
             ],
             [
              1,
              "#f0f921"
             ]
            ],
            "type": "surface"
           }
          ],
          "table": [
           {
            "cells": {
             "fill": {
              "color": "#EBF0F8"
             },
             "line": {
              "color": "white"
             }
            },
            "header": {
             "fill": {
              "color": "#C8D4E3"
             },
             "line": {
              "color": "white"
             }
            },
            "type": "table"
           }
          ]
         },
         "layout": {
          "annotationdefaults": {
           "arrowcolor": "#2a3f5f",
           "arrowhead": 0,
           "arrowwidth": 1
          },
          "autotypenumbers": "strict",
          "coloraxis": {
           "colorbar": {
            "outlinewidth": 0,
            "ticks": ""
           }
          },
          "colorscale": {
           "diverging": [
            [
             0,
             "#8e0152"
            ],
            [
             0.1,
             "#c51b7d"
            ],
            [
             0.2,
             "#de77ae"
            ],
            [
             0.3,
             "#f1b6da"
            ],
            [
             0.4,
             "#fde0ef"
            ],
            [
             0.5,
             "#f7f7f7"
            ],
            [
             0.6,
             "#e6f5d0"
            ],
            [
             0.7,
             "#b8e186"
            ],
            [
             0.8,
             "#7fbc41"
            ],
            [
             0.9,
             "#4d9221"
            ],
            [
             1,
             "#276419"
            ]
           ],
           "sequential": [
            [
             0,
             "#0d0887"
            ],
            [
             0.1111111111111111,
             "#46039f"
            ],
            [
             0.2222222222222222,
             "#7201a8"
            ],
            [
             0.3333333333333333,
             "#9c179e"
            ],
            [
             0.4444444444444444,
             "#bd3786"
            ],
            [
             0.5555555555555556,
             "#d8576b"
            ],
            [
             0.6666666666666666,
             "#ed7953"
            ],
            [
             0.7777777777777778,
             "#fb9f3a"
            ],
            [
             0.8888888888888888,
             "#fdca26"
            ],
            [
             1,
             "#f0f921"
            ]
           ],
           "sequentialminus": [
            [
             0,
             "#0d0887"
            ],
            [
             0.1111111111111111,
             "#46039f"
            ],
            [
             0.2222222222222222,
             "#7201a8"
            ],
            [
             0.3333333333333333,
             "#9c179e"
            ],
            [
             0.4444444444444444,
             "#bd3786"
            ],
            [
             0.5555555555555556,
             "#d8576b"
            ],
            [
             0.6666666666666666,
             "#ed7953"
            ],
            [
             0.7777777777777778,
             "#fb9f3a"
            ],
            [
             0.8888888888888888,
             "#fdca26"
            ],
            [
             1,
             "#f0f921"
            ]
           ]
          },
          "colorway": [
           "#636efa",
           "#EF553B",
           "#00cc96",
           "#ab63fa",
           "#FFA15A",
           "#19d3f3",
           "#FF6692",
           "#B6E880",
           "#FF97FF",
           "#FECB52"
          ],
          "font": {
           "color": "#2a3f5f"
          },
          "geo": {
           "bgcolor": "white",
           "lakecolor": "white",
           "landcolor": "#E5ECF6",
           "showlakes": true,
           "showland": true,
           "subunitcolor": "white"
          },
          "hoverlabel": {
           "align": "left"
          },
          "hovermode": "closest",
          "mapbox": {
           "style": "light"
          },
          "paper_bgcolor": "white",
          "plot_bgcolor": "#E5ECF6",
          "polar": {
           "angularaxis": {
            "gridcolor": "white",
            "linecolor": "white",
            "ticks": ""
           },
           "bgcolor": "#E5ECF6",
           "radialaxis": {
            "gridcolor": "white",
            "linecolor": "white",
            "ticks": ""
           }
          },
          "scene": {
           "xaxis": {
            "backgroundcolor": "#E5ECF6",
            "gridcolor": "white",
            "gridwidth": 2,
            "linecolor": "white",
            "showbackground": true,
            "ticks": "",
            "zerolinecolor": "white"
           },
           "yaxis": {
            "backgroundcolor": "#E5ECF6",
            "gridcolor": "white",
            "gridwidth": 2,
            "linecolor": "white",
            "showbackground": true,
            "ticks": "",
            "zerolinecolor": "white"
           },
           "zaxis": {
            "backgroundcolor": "#E5ECF6",
            "gridcolor": "white",
            "gridwidth": 2,
            "linecolor": "white",
            "showbackground": true,
            "ticks": "",
            "zerolinecolor": "white"
           }
          },
          "shapedefaults": {
           "line": {
            "color": "#2a3f5f"
           }
          },
          "ternary": {
           "aaxis": {
            "gridcolor": "white",
            "linecolor": "white",
            "ticks": ""
           },
           "baxis": {
            "gridcolor": "white",
            "linecolor": "white",
            "ticks": ""
           },
           "bgcolor": "#E5ECF6",
           "caxis": {
            "gridcolor": "white",
            "linecolor": "white",
            "ticks": ""
           }
          },
          "title": {
           "x": 0.05
          },
          "xaxis": {
           "automargin": true,
           "gridcolor": "white",
           "linecolor": "white",
           "ticks": "",
           "title": {
            "standoff": 15
           },
           "zerolinecolor": "white",
           "zerolinewidth": 2
          },
          "yaxis": {
           "automargin": true,
           "gridcolor": "white",
           "linecolor": "white",
           "ticks": "",
           "title": {
            "standoff": 15
           },
           "zerolinecolor": "white",
           "zerolinewidth": 2
          }
         }
        },
        "title": {
         "text": "Class Distribution Before and After Resampling"
        },
        "xaxis": {
         "anchor": "y",
         "domain": [
          0,
          1
         ],
         "title": {
          "text": "Dataset"
         }
        },
        "yaxis": {
         "anchor": "x",
         "domain": [
          0,
          1
         ],
         "title": {
          "text": "Count"
         }
        }
       }
      }
     },
     "metadata": {},
     "output_type": "display_data"
    }
   ],
   "source": [
    "import plotly.express as px\n",
    "\n",
    "# Class distribution before resampling\n",
    "class_counts_before = y_train.value_counts().reset_index()\n",
    "class_counts_before.columns = ['Stroke', 'Count']\n",
    "class_counts_before['Dataset'] = 'Before Resampling'\n",
    "\n",
    "# Class distribution after resampling\n",
    "class_counts_after = y_train_resampled.value_counts().reset_index()\n",
    "class_counts_after.columns = ['Stroke', 'Count']\n",
    "class_counts_after['Dataset'] = 'After Resampling'\n",
    "\n",
    "# Combine dataframes\n",
    "class_counts = pd.concat([class_counts_before, class_counts_after])\n",
    "\n",
    "# Plot\n",
    "fig = px.bar(class_counts, x='Dataset', y='Count', color='Stroke', barmode='group',\n",
    "             title='Class Distribution Before and After Resampling')\n",
    "fig.show()\n"
   ]
  },
  {
   "cell_type": "markdown",
   "metadata": {},
   "source": [
    "- ##### **2. Age Group vs Stroke Incidence**"
   ]
  },
  {
   "cell_type": "code",
   "execution_count": 351,
   "metadata": {},
   "outputs": [
    {
     "data": {
      "application/vnd.plotly.v1+json": {
       "config": {
        "plotlyServerURL": "https://plot.ly"
       },
       "data": [
        {
         "alignmentgroup": "True",
         "hovertemplate": "Age Group=%{x}<br>count=%{y}<br>Stroke=%{marker.color}<extra></extra>",
         "legendgroup": "",
         "marker": {
          "color": [
           0,
           0,
           0,
           0,
           0,
           0,
           0,
           0,
           0,
           0,
           0,
           0,
           0,
           0,
           0,
           1,
           0,
           0,
           0,
           0,
           0,
           0,
           0,
           0,
           0,
           0,
           0,
           0,
           0,
           0,
           0,
           0,
           0,
           0,
           0,
           0,
           0,
           0,
           0,
           0,
           0,
           0,
           0,
           0,
           0,
           0,
           0,
           0,
           0,
           0,
           0,
           0,
           1,
           0,
           0,
           0,
           0,
           1,
           0,
           0,
           0,
           0,
           0,
           0,
           0,
           0,
           0,
           0,
           0,
           0,
           0,
           0,
           0,
           0,
           0,
           0,
           0,
           0,
           0,
           0,
           0,
           0,
           0,
           0,
           0,
           0,
           0,
           0,
           0,
           0,
           0,
           0,
           0,
           0,
           0,
           0,
           1,
           0,
           0,
           0,
           0,
           0,
           0,
           0,
           0,
           0,
           0,
           0,
           0,
           0,
           0,
           0,
           0,
           0,
           0,
           1,
           0,
           0,
           0,
           0,
           0,
           0,
           0,
           0,
           0,
           0,
           0,
           0,
           1,
           0,
           0,
           0,
           0,
           0,
           1,
           0,
           0,
           0,
           0,
           0,
           0,
           0,
           0,
           0,
           0,
           0,
           0,
           0,
           1,
           0,
           0,
           0,
           0,
           1,
           0,
           0,
           0,
           0,
           0,
           1,
           0,
           0,
           0,
           0,
           0,
           0,
           0,
           0,
           0,
           0,
           0,
           0,
           0,
           0,
           1,
           0,
           0,
           0,
           0,
           0,
           0,
           0,
           0,
           0,
           0,
           0,
           0,
           0,
           0,
           0,
           0,
           0,
           1,
           0,
           0,
           0,
           0,
           0,
           0,
           0,
           0,
           0,
           0,
           1,
           0,
           0,
           0,
           0,
           0,
           0,
           0,
           0,
           0,
           1,
           0,
           0,
           0,
           0,
           0,
           0,
           0,
           0,
           0,
           0,
           0,
           0,
           0,
           0,
           0,
           1,
           0,
           0,
           0,
           0,
           0,
           0,
           0,
           0,
           0,
           0,
           0,
           0,
           1,
           1,
           1,
           0,
           0,
           0,
           0,
           0,
           0,
           0,
           0,
           0,
           0,
           0,
           0,
           0,
           0,
           1,
           0,
           0,
           0,
           0,
           0,
           0,
           0,
           0,
           0,
           0,
           0,
           0,
           0,
           0,
           0,
           0,
           1,
           0,
           0,
           0,
           0,
           0,
           0,
           0,
           0,
           0,
           1,
           0,
           0,
           0,
           0,
           0,
           0,
           0,
           0,
           0,
           0,
           0,
           0,
           0,
           0,
           0,
           0,
           1,
           0,
           0,
           0,
           0,
           0,
           0,
           0,
           0,
           0,
           0,
           0,
           0,
           0,
           0,
           0,
           0,
           0,
           0,
           0,
           0,
           0,
           0,
           0,
           0,
           0,
           0,
           0,
           0,
           0,
           0,
           0,
           0,
           0,
           0,
           0,
           0,
           0,
           1,
           0,
           0,
           0,
           0,
           0,
           0,
           0,
           0,
           0,
           0,
           0,
           0,
           0,
           0,
           0,
           0,
           0,
           0,
           0,
           0,
           0,
           0,
           0,
           0,
           0,
           0,
           0,
           0,
           0,
           0,
           0,
           0,
           0,
           1,
           0,
           0,
           0,
           0,
           0,
           0,
           0,
           0,
           0,
           1,
           1,
           0,
           0,
           0,
           0,
           0,
           0,
           0,
           0,
           0,
           0,
           0,
           0,
           0,
           0,
           0,
           0,
           0,
           0,
           0,
           0,
           0,
           0,
           0,
           0,
           0,
           0,
           0,
           0,
           0,
           0,
           0,
           0,
           0,
           0,
           1,
           0,
           0,
           0,
           0,
           0,
           0,
           0,
           0,
           0,
           0,
           0,
           0,
           0,
           0,
           0,
           0,
           0,
           0,
           0,
           0,
           0,
           0,
           0,
           0,
           0,
           0,
           0,
           0,
           0,
           1,
           0,
           0,
           0,
           0,
           0,
           0,
           0,
           0,
           0,
           0,
           0,
           0,
           0,
           0,
           0,
           0,
           0,
           0,
           0,
           0,
           0,
           0,
           0,
           0,
           0,
           0,
           0,
           0,
           0,
           0,
           0,
           0,
           0,
           0,
           0,
           0,
           0,
           0,
           0,
           0,
           0,
           0,
           0,
           0,
           0,
           0,
           0,
           0,
           0,
           0,
           0,
           0,
           0,
           0,
           0,
           0,
           0,
           0,
           0,
           0,
           0,
           0,
           0,
           0,
           1,
           0,
           0,
           1,
           1,
           0,
           0,
           0,
           0,
           0,
           0,
           0,
           0,
           0,
           0,
           0,
           0,
           0,
           0,
           1,
           0,
           0,
           0,
           1,
           0,
           0,
           0,
           0,
           0,
           0,
           0,
           0,
           0,
           0,
           1,
           0,
           0,
           0,
           0,
           0,
           0,
           0,
           0,
           0,
           1,
           0,
           0,
           0,
           0,
           0,
           0,
           0,
           0,
           0,
           0,
           0,
           0,
           0,
           0,
           0,
           0,
           0,
           0,
           0,
           0,
           0,
           0,
           0,
           1,
           0,
           0,
           0,
           0,
           0,
           1,
           1,
           0,
           0,
           0,
           0,
           0,
           0,
           0,
           0,
           0,
           0,
           1,
           0,
           1,
           0,
           0,
           0,
           0,
           0,
           0,
           0,
           1,
           0,
           0,
           1,
           0,
           0,
           0,
           0,
           0,
           0,
           0,
           0,
           0,
           0,
           0,
           0,
           0,
           0,
           0,
           0,
           0,
           0,
           0,
           0,
           0,
           0,
           0,
           0,
           0,
           0,
           0,
           0,
           0,
           0,
           0,
           0,
           0,
           0,
           0,
           0,
           0,
           0,
           0,
           0,
           0,
           0,
           0,
           0,
           0,
           0,
           0,
           0,
           0,
           0,
           0,
           0,
           0,
           0,
           0,
           0,
           0,
           0,
           0,
           0,
           0,
           0,
           0,
           0,
           0,
           0,
           1,
           0,
           0,
           0,
           0,
           0,
           0,
           0,
           0,
           0,
           0,
           0,
           0,
           0,
           0,
           0,
           0,
           0,
           0,
           0,
           0,
           0,
           0,
           0,
           0,
           0,
           0,
           0,
           0,
           0,
           0,
           0,
           0,
           0,
           0,
           0,
           0,
           0,
           0,
           1,
           0,
           0,
           0,
           0,
           0,
           0,
           0,
           0,
           0,
           0,
           0,
           0,
           0,
           0,
           1,
           0,
           0,
           0,
           0,
           0,
           0,
           0,
           0,
           0,
           0,
           0,
           0,
           0,
           0,
           0,
           0,
           0,
           1,
           0,
           0,
           0,
           0,
           0,
           1,
           0,
           0,
           0,
           0,
           0,
           0,
           0,
           0,
           0,
           0,
           0,
           0,
           0,
           1,
           0,
           0,
           0,
           0,
           0,
           0,
           0,
           0,
           0,
           0,
           0,
           1,
           0,
           0,
           0,
           0,
           0,
           0,
           0,
           0,
           0,
           0,
           1,
           0,
           0,
           0,
           0,
           0,
           0,
           0,
           0,
           0,
           0,
           0,
           0,
           0,
           0,
           0,
           1,
           0,
           0,
           0,
           0,
           0,
           0,
           1,
           0,
           0,
           0,
           0,
           1,
           0,
           0,
           0,
           0,
           1,
           0,
           0,
           0,
           0,
           0,
           0,
           0,
           0,
           0,
           0,
           0,
           1,
           0,
           0,
           0,
           0,
           0,
           0,
           0,
           0,
           0,
           0,
           0,
           0,
           0,
           0,
           0,
           0,
           0,
           0,
           0,
           0,
           0,
           0,
           0,
           0,
           0,
           0,
           0,
           0,
           0,
           0,
           0,
           0,
           0,
           0,
           0,
           0,
           0,
           0,
           0,
           0,
           0,
           0,
           0,
           0,
           0,
           0,
           0,
           0,
           0,
           0,
           1,
           0,
           0,
           0,
           0,
           0,
           0,
           0,
           1,
           0,
           0,
           0,
           0,
           0,
           0,
           0,
           0,
           0,
           0,
           0,
           0,
           0,
           0,
           0,
           0,
           0,
           0,
           0,
           0,
           0,
           0,
           0,
           0,
           0,
           0,
           0,
           0,
           0,
           0,
           0,
           0,
           0,
           1,
           0,
           0,
           0,
           0,
           1,
           0,
           0,
           0,
           0,
           0,
           0,
           0,
           0,
           0,
           0,
           0,
           0,
           0,
           0,
           0,
           0,
           0,
           0,
           0,
           0,
           0,
           0,
           0,
           0,
           0,
           0,
           0,
           0,
           0,
           0,
           0,
           0,
           0,
           0,
           0,
           0,
           0,
           0,
           1,
           0,
           0,
           0,
           0,
           0,
           0,
           0,
           0,
           0,
           0,
           0,
           0,
           0,
           0,
           0,
           0,
           0,
           0,
           0,
           0,
           0,
           0,
           0,
           0,
           0,
           0,
           1,
           0,
           0,
           0,
           1,
           0,
           0,
           0,
           0,
           0,
           0,
           0,
           0,
           0,
           0,
           0
          ],
          "coloraxis": "coloraxis",
          "pattern": {
           "shape": ""
          }
         },
         "name": "",
         "offsetgroup": "",
         "orientation": "v",
         "showlegend": false,
         "textposition": "auto",
         "type": "bar",
         "x": [
          "Adult",
          "Adult",
          "Child",
          "Elderly",
          "Elderly",
          "Elderly",
          "Senior",
          "Elderly",
          "Child",
          "Child",
          "Adult",
          "Child",
          "Senior",
          "Senior",
          "Senior",
          "Adult",
          "Adult",
          "Child",
          "Adult",
          "Child",
          "Adult",
          "Adult",
          "Child",
          "Child",
          "Adult",
          "Senior",
          "Child",
          "Adult",
          "Elderly",
          "Child",
          "Senior",
          "Adult",
          "Adult",
          "Adult",
          "Child",
          "Child",
          "Elderly",
          "Adult",
          "Elderly",
          "Senior",
          "Senior",
          "Adult",
          "Adult",
          "Elderly",
          "Senior",
          "Elderly",
          "Child",
          "Elderly",
          "Child",
          "Child",
          "Adult",
          "Child",
          "Elderly",
          "Child",
          "Adult",
          "Senior",
          "Senior",
          "Elderly",
          "Adult",
          "Senior",
          "Senior",
          "Elderly",
          "Elderly",
          "Adult",
          "Adult",
          "Adult",
          "Adult",
          "Child",
          "Senior",
          "Elderly",
          "Child",
          "Adult",
          "Senior",
          "Adult",
          "Adult",
          "Senior",
          "Child",
          "Elderly",
          "Senior",
          "Elderly",
          "Senior",
          "Elderly",
          "Elderly",
          "Adult",
          "Adult",
          "Child",
          "Senior",
          "Elderly",
          "Elderly",
          "Child",
          "Adult",
          "Senior",
          "Elderly",
          "Adult",
          "Adult",
          "Senior",
          "Elderly",
          "Elderly",
          "Adult",
          "Elderly",
          "Senior",
          "Senior",
          "Child",
          "Adult",
          "Elderly",
          "Child",
          "Senior",
          "Child",
          "Elderly",
          "Adult",
          "Adult",
          "Adult",
          "Senior",
          "Senior",
          "Elderly",
          "Senior",
          "Elderly",
          "Adult",
          "Adult",
          "Senior",
          "Senior",
          "Senior",
          "Adult",
          "Child",
          "Elderly",
          "Senior",
          "Senior",
          "Child",
          "Senior",
          "Senior",
          "Elderly",
          "Senior",
          "Child",
          "Adult",
          "Senior",
          "Senior",
          "Adult",
          "Elderly",
          "Senior",
          "Adult",
          "Senior",
          "Child",
          "Senior",
          "Adult",
          "Adult",
          "Adult",
          "Senior",
          "Senior",
          "Elderly",
          "Child",
          "Adult",
          "Elderly",
          "Elderly",
          "Senior",
          "Elderly",
          "Senior",
          "Elderly",
          "Adult",
          "Adult",
          "Senior",
          "Elderly",
          "Adult",
          "Senior",
          "Elderly",
          "Elderly",
          "Senior",
          "Adult",
          "Elderly",
          "Adult",
          "Elderly",
          "Adult",
          "Adult",
          "Senior",
          "Child",
          "Elderly",
          "Child",
          "Senior",
          "Elderly",
          "Senior",
          "Senior",
          "Adult",
          "Adult",
          "Child",
          "Child",
          "Senior",
          "Elderly",
          "Child",
          "Senior",
          "Adult",
          "Senior",
          "Child",
          "Senior",
          "Elderly",
          "Senior",
          "Adult",
          "Elderly",
          "Adult",
          "Elderly",
          "Senior",
          "Adult",
          "Child",
          "Senior",
          "Adult",
          "Elderly",
          "Senior",
          "Elderly",
          "Adult",
          "Elderly",
          "Adult",
          "Child",
          "Child",
          "Adult",
          "Adult",
          "Elderly",
          "Adult",
          "Child",
          "Adult",
          "Elderly",
          "Adult",
          "Child",
          "Adult",
          "Child",
          "Elderly",
          "Child",
          "Elderly",
          "Adult",
          "Child",
          "Adult",
          "Senior",
          "Senior",
          "Senior",
          "Elderly",
          "Elderly",
          "Elderly",
          "Elderly",
          "Elderly",
          "Elderly",
          "Adult",
          "Senior",
          "Child",
          "Adult",
          "Adult",
          "Adult",
          "Elderly",
          "Senior",
          "Adult",
          "Elderly",
          "Elderly",
          "Child",
          "Child",
          "Elderly",
          "Elderly",
          "Adult",
          "Adult",
          "Elderly",
          "Elderly",
          "Adult",
          "Senior",
          "Elderly",
          "Elderly",
          "Senior",
          "Senior",
          "Senior",
          "Child",
          "Adult",
          "Senior",
          "Elderly",
          "Adult",
          "Adult",
          "Senior",
          "Adult",
          "Elderly",
          "Elderly",
          "Senior",
          "Senior",
          "Child",
          "Senior",
          "Adult",
          "Elderly",
          "Child",
          "Child",
          "Elderly",
          "Child",
          "Adult",
          "Adult",
          "Adult",
          "Elderly",
          "Senior",
          "Elderly",
          "Adult",
          "Elderly",
          "Senior",
          "Adult",
          "Child",
          "Senior",
          "Senior",
          "Adult",
          "Child",
          "Adult",
          "Adult",
          "Adult",
          "Elderly",
          "Senior",
          "Elderly",
          "Adult",
          "Elderly",
          "Adult",
          "Child",
          "Adult",
          "Adult",
          "Child",
          "Child",
          "Elderly",
          "Adult",
          "Senior",
          "Adult",
          "Elderly",
          "Elderly",
          "Senior",
          "Child",
          "Child",
          "Adult",
          "Adult",
          "Senior",
          "Adult",
          "Senior",
          "Elderly",
          "Elderly",
          "Adult",
          "Senior",
          "Adult",
          "Child",
          "Elderly",
          "Senior",
          "Elderly",
          "Senior",
          "Adult",
          "Elderly",
          "Child",
          "Adult",
          "Senior",
          "Elderly",
          "Elderly",
          "Adult",
          "Child",
          "Senior",
          "Senior",
          "Senior",
          "Elderly",
          "Child",
          "Adult",
          "Adult",
          "Senior",
          "Adult",
          "Child",
          "Adult",
          "Senior",
          "Child",
          "Adult",
          "Adult",
          "Adult",
          "Adult",
          "Adult",
          "Senior",
          "Adult",
          "Elderly",
          "Elderly",
          "Child",
          "Senior",
          "Elderly",
          "Elderly",
          "Adult",
          "Elderly",
          "Senior",
          "Elderly",
          "Elderly",
          "Senior",
          "Senior",
          "Elderly",
          "Child",
          "Adult",
          "Adult",
          "Adult",
          "Elderly",
          "Adult",
          "Senior",
          "Elderly",
          "Child",
          "Child",
          "Adult",
          "Adult",
          "Child",
          "Child",
          "Adult",
          "Senior",
          "Senior",
          "Child",
          "Senior",
          "Elderly",
          "Adult",
          "Senior",
          "Adult",
          "Adult",
          "Elderly",
          "Adult",
          "Adult",
          "Adult",
          "Child",
          "Adult",
          "Adult",
          "Adult",
          "Adult",
          "Child",
          "Elderly",
          "Child",
          "Adult",
          "Adult",
          "Adult",
          "Elderly",
          "Senior",
          "Child",
          "Elderly",
          "Senior",
          "Elderly",
          "Adult",
          "Adult",
          "Senior",
          "Senior",
          "Senior",
          "Adult",
          "Adult",
          "Elderly",
          "Senior",
          "Elderly",
          "Adult",
          "Senior",
          "Senior",
          "Senior",
          "Adult",
          "Adult",
          "Elderly",
          "Elderly",
          "Senior",
          "Adult",
          "Adult",
          "Adult",
          "Adult",
          "Elderly",
          "Adult",
          "Adult",
          "Adult",
          "Senior",
          "Elderly",
          "Adult",
          "Child",
          "Child",
          "Adult",
          "Adult",
          "Senior",
          "Senior",
          "Elderly",
          "Adult",
          "Adult",
          "Child",
          "Adult",
          "Adult",
          "Senior",
          "Child",
          "Senior",
          "Adult",
          "Senior",
          "Senior",
          "Adult",
          "Elderly",
          "Adult",
          "Senior",
          "Elderly",
          "Adult",
          "Adult",
          "Adult",
          "Child",
          "Adult",
          "Senior",
          "Adult",
          "Senior",
          "Senior",
          "Senior",
          "Adult",
          "Senior",
          "Adult",
          "Child",
          "Senior",
          "Adult",
          "Adult",
          "Senior",
          "Child",
          "Senior",
          "Child",
          "Elderly",
          "Elderly",
          "Senior",
          "Adult",
          "Elderly",
          "Child",
          "Elderly",
          "Senior",
          "Elderly",
          "Child",
          "Adult",
          "Elderly",
          "Child",
          "Elderly",
          "Elderly",
          "Child",
          "Adult",
          "Child",
          "Elderly",
          "Child",
          "Senior",
          "Elderly",
          "Senior",
          "Adult",
          "Senior",
          "Adult",
          "Child",
          "Adult",
          "Child",
          "Elderly",
          "Child",
          "Adult",
          "Elderly",
          "Child",
          "Senior",
          "Adult",
          "Senior",
          "Elderly",
          "Adult",
          "Child",
          "Adult",
          "Elderly",
          "Child",
          "Adult",
          "Senior",
          "Adult",
          "Adult",
          "Senior",
          "Adult",
          "Child",
          "Adult",
          "Elderly",
          "Elderly",
          "Senior",
          "Elderly",
          "Child",
          "Elderly",
          "Senior",
          "Elderly",
          "Adult",
          "Child",
          "Elderly",
          "Elderly",
          "Adult",
          "Adult",
          "Child",
          "Elderly",
          "Senior",
          "Elderly",
          "Child",
          "Child",
          "Senior",
          "Child",
          "Senior",
          "Child",
          "Senior",
          "Child",
          "Senior",
          "Senior",
          "Elderly",
          "Senior",
          "Senior",
          "Senior",
          "Adult",
          "Adult",
          "Elderly",
          "Elderly",
          "Adult",
          "Child",
          "Adult",
          "Child",
          "Adult",
          "Elderly",
          "Adult",
          "Senior",
          "Adult",
          "Child",
          "Senior",
          "Adult",
          "Senior",
          "Senior",
          "Elderly",
          "Elderly",
          "Senior",
          "Elderly",
          "Senior",
          "Senior",
          "Senior",
          "Senior",
          "Adult",
          "Senior",
          "Elderly",
          "Senior",
          "Senior",
          "Elderly",
          "Senior",
          "Elderly",
          "Elderly",
          "Elderly",
          "Elderly",
          "Adult",
          "Elderly",
          "Senior",
          "Elderly",
          "Adult",
          "Elderly",
          "Elderly",
          "Adult",
          "Child",
          "Adult",
          "Child",
          "Senior",
          "Child",
          "Senior",
          "Elderly",
          "Child",
          "Child",
          "Child",
          "Elderly",
          "Adult",
          "Senior",
          "Senior",
          "Child",
          "Senior",
          "Adult",
          "Adult",
          "Elderly",
          "Child",
          "Senior",
          "Adult",
          "Elderly",
          "Elderly",
          "Adult",
          "Senior",
          "Elderly",
          "Adult",
          "Adult",
          "Elderly",
          "Elderly",
          "Senior",
          "Senior",
          "Child",
          "Elderly",
          "Adult",
          "Adult",
          "Elderly",
          "Elderly",
          "Elderly",
          "Elderly",
          "Senior",
          "Child",
          "Adult",
          "Adult",
          "Adult",
          "Child",
          "Adult",
          "Elderly",
          "Adult",
          "Adult",
          "Adult",
          "Adult",
          "Elderly",
          "Senior",
          "Senior",
          "Elderly",
          "Child",
          "Child",
          "Senior",
          "Child",
          "Adult",
          "Senior",
          "Elderly",
          "Elderly",
          "Senior",
          "Adult",
          "Adult",
          "Adult",
          "Child",
          "Elderly",
          "Adult",
          "Adult",
          "Elderly",
          "Child",
          "Adult",
          "Senior",
          "Child",
          "Adult",
          "Child",
          "Senior",
          "Adult",
          "Senior",
          "Elderly",
          "Child",
          "Adult",
          "Adult",
          "Senior",
          "Adult",
          "Senior",
          "Senior",
          "Child",
          "Adult",
          "Adult",
          "Elderly",
          "Elderly",
          "Adult",
          "Adult",
          "Adult",
          "Elderly",
          "Adult",
          "Adult",
          "Adult",
          "Senior",
          "Adult",
          "Adult",
          "Adult",
          "Adult",
          "Child",
          "Senior",
          "Elderly",
          "Adult",
          "Adult",
          "Elderly",
          "Elderly",
          "Senior",
          "Adult",
          "Child",
          "Adult",
          "Adult",
          "Adult",
          "Elderly",
          "Child",
          "Elderly",
          "Adult",
          "Senior",
          "Child",
          "Adult",
          "Senior",
          "Adult",
          "Senior",
          "Elderly",
          "Senior",
          "Elderly",
          "Elderly",
          "Child",
          "Elderly",
          "Senior",
          "Elderly",
          "Elderly",
          "Elderly",
          "Elderly",
          "Elderly",
          "Child",
          "Elderly",
          "Elderly",
          "Child",
          "Elderly",
          "Elderly",
          "Elderly",
          "Adult",
          "Adult",
          "Elderly",
          "Child",
          "Adult",
          "Adult",
          "Elderly",
          "Child",
          "Senior",
          "Senior",
          "Elderly",
          "Child",
          "Adult",
          "Elderly",
          "Senior",
          "Adult",
          "Senior",
          "Child",
          "Elderly",
          "Adult",
          "Elderly",
          "Senior",
          "Adult",
          "Child",
          "Senior",
          "Child",
          "Adult",
          "Adult",
          "Child",
          "Elderly",
          "Senior",
          "Elderly",
          "Adult",
          "Adult",
          "Senior",
          "Child",
          "Child",
          "Senior",
          "Adult",
          "Adult",
          "Child",
          "Child",
          "Adult",
          "Adult",
          "Elderly",
          "Adult",
          "Senior",
          "Senior",
          "Child",
          "Elderly",
          "Senior",
          "Elderly",
          "Senior",
          "Elderly",
          "Elderly",
          "Adult",
          "Senior",
          "Elderly",
          "Child",
          "Elderly",
          "Child",
          "Adult",
          "Senior",
          "Adult",
          "Adult",
          "Adult",
          "Elderly",
          "Adult",
          "Adult",
          "Elderly",
          "Adult",
          "Elderly",
          "Adult",
          "Elderly",
          "Adult",
          "Child",
          "Elderly",
          "Senior",
          "Child",
          "Senior",
          "Senior",
          "Child",
          "Adult",
          "Elderly",
          "Child",
          "Child",
          "Child",
          "Child",
          "Senior",
          "Adult",
          "Child",
          "Senior",
          "Adult",
          "Senior",
          "Senior",
          "Senior",
          "Senior",
          "Adult",
          "Adult",
          "Elderly",
          "Elderly",
          "Senior",
          "Elderly",
          "Elderly",
          "Senior",
          "Child",
          "Senior",
          "Adult",
          "Child",
          "Senior",
          "Adult",
          "Elderly",
          "Adult",
          "Elderly",
          "Child",
          "Elderly",
          "Elderly",
          "Senior",
          "Senior",
          "Senior",
          "Child",
          "Adult",
          "Elderly",
          "Senior",
          "Adult",
          "Elderly",
          "Child",
          "Adult",
          "Child",
          "Adult",
          "Senior",
          "Adult",
          "Adult",
          "Elderly",
          "Child",
          "Adult",
          "Senior",
          "Adult",
          "Child",
          "Child",
          "Child",
          "Child",
          "Senior",
          "Adult",
          "Child",
          "Senior",
          "Adult",
          "Child",
          "Adult",
          "Senior",
          "Adult",
          "Elderly",
          "Adult",
          "Adult",
          "Adult",
          "Child",
          "Senior",
          "Elderly",
          "Adult",
          "Elderly",
          "Child",
          "Elderly",
          "Elderly",
          "Senior",
          "Elderly",
          "Adult",
          "Child",
          "Senior",
          "Child",
          "Adult",
          "Elderly",
          "Child",
          "Senior",
          "Elderly",
          "Child",
          "Senior",
          "Adult",
          "Child",
          "Senior",
          "Senior",
          "Elderly",
          "Adult",
          "Elderly",
          "Senior",
          "Child",
          "Elderly",
          "Adult",
          "Child",
          "Adult",
          "Elderly",
          "Senior",
          "Senior",
          "Senior",
          "Elderly",
          "Elderly",
          "Elderly",
          "Elderly",
          "Child",
          "Child",
          "Adult",
          "Adult",
          "Senior",
          "Adult",
          "Elderly",
          "Child",
          "Child",
          "Child",
          "Senior",
          "Senior",
          "Child",
          "Adult",
          "Senior",
          "Child",
          "Adult",
          "Adult",
          "Child",
          "Child",
          "Senior",
          "Adult",
          "Senior",
          "Child",
          "Adult",
          "Adult",
          "Elderly",
          "Adult",
          "Child",
          "Senior",
          "Senior",
          "Elderly",
          "Elderly",
          "Senior",
          "Senior",
          "Senior",
          "Senior",
          "Elderly",
          "Child",
          "Senior",
          "Child",
          "Adult",
          "Elderly",
          "Elderly",
          "Child",
          "Child",
          "Senior",
          "Senior",
          "Elderly"
         ],
         "xaxis": "x",
         "y": [
          1,
          1,
          1,
          1,
          1,
          1,
          1,
          1,
          1,
          1,
          1,
          1,
          1,
          1,
          1,
          1,
          1,
          1,
          1,
          1,
          1,
          1,
          1,
          1,
          1,
          1,
          1,
          1,
          1,
          1,
          1,
          1,
          1,
          1,
          1,
          1,
          1,
          1,
          1,
          1,
          1,
          1,
          1,
          1,
          1,
          1,
          1,
          1,
          1,
          1,
          1,
          1,
          1,
          1,
          1,
          1,
          1,
          1,
          1,
          1,
          1,
          1,
          1,
          1,
          1,
          1,
          1,
          1,
          1,
          1,
          1,
          1,
          1,
          1,
          1,
          1,
          1,
          1,
          1,
          1,
          1,
          1,
          1,
          1,
          1,
          1,
          1,
          1,
          1,
          1,
          1,
          1,
          1,
          1,
          1,
          1,
          1,
          1,
          1,
          1,
          1,
          1,
          1,
          1,
          1,
          1,
          1,
          1,
          1,
          1,
          1,
          1,
          1,
          1,
          1,
          1,
          1,
          1,
          1,
          1,
          1,
          1,
          1,
          1,
          1,
          1,
          1,
          1,
          1,
          1,
          1,
          1,
          1,
          1,
          1,
          1,
          1,
          1,
          1,
          1,
          1,
          1,
          1,
          1,
          1,
          1,
          1,
          1,
          1,
          1,
          1,
          1,
          1,
          1,
          1,
          1,
          1,
          1,
          1,
          1,
          1,
          1,
          1,
          1,
          1,
          1,
          1,
          1,
          1,
          1,
          1,
          1,
          1,
          1,
          1,
          1,
          1,
          1,
          1,
          1,
          1,
          1,
          1,
          1,
          1,
          1,
          1,
          1,
          1,
          1,
          1,
          1,
          1,
          1,
          1,
          1,
          1,
          1,
          1,
          1,
          1,
          1,
          1,
          1,
          1,
          1,
          1,
          1,
          1,
          1,
          1,
          1,
          1,
          1,
          1,
          1,
          1,
          1,
          1,
          1,
          1,
          1,
          1,
          1,
          1,
          1,
          1,
          1,
          1,
          1,
          1,
          1,
          1,
          1,
          1,
          1,
          1,
          1,
          1,
          1,
          1,
          1,
          1,
          1,
          1,
          1,
          1,
          1,
          1,
          1,
          1,
          1,
          1,
          1,
          1,
          1,
          1,
          1,
          1,
          1,
          1,
          1,
          1,
          1,
          1,
          1,
          1,
          1,
          1,
          1,
          1,
          1,
          1,
          1,
          1,
          1,
          1,
          1,
          1,
          1,
          1,
          1,
          1,
          1,
          1,
          1,
          1,
          1,
          1,
          1,
          1,
          1,
          1,
          1,
          1,
          1,
          1,
          1,
          1,
          1,
          1,
          1,
          1,
          1,
          1,
          1,
          1,
          1,
          1,
          1,
          1,
          1,
          1,
          1,
          1,
          1,
          1,
          1,
          1,
          1,
          1,
          1,
          1,
          1,
          1,
          1,
          1,
          1,
          1,
          1,
          1,
          1,
          1,
          1,
          1,
          1,
          1,
          1,
          1,
          1,
          1,
          1,
          1,
          1,
          1,
          1,
          1,
          1,
          1,
          1,
          1,
          1,
          1,
          1,
          1,
          1,
          1,
          1,
          1,
          1,
          1,
          1,
          1,
          1,
          1,
          1,
          1,
          1,
          1,
          1,
          1,
          1,
          1,
          1,
          1,
          1,
          1,
          1,
          1,
          1,
          1,
          1,
          1,
          1,
          1,
          1,
          1,
          1,
          1,
          1,
          1,
          1,
          1,
          1,
          1,
          1,
          1,
          1,
          1,
          1,
          1,
          1,
          1,
          1,
          1,
          1,
          1,
          1,
          1,
          1,
          1,
          1,
          1,
          1,
          1,
          1,
          1,
          1,
          1,
          1,
          1,
          1,
          1,
          1,
          1,
          1,
          1,
          1,
          1,
          1,
          1,
          1,
          1,
          1,
          1,
          1,
          1,
          1,
          1,
          1,
          1,
          1,
          1,
          1,
          1,
          1,
          1,
          1,
          1,
          1,
          1,
          1,
          1,
          1,
          1,
          1,
          1,
          1,
          1,
          1,
          1,
          1,
          1,
          1,
          1,
          1,
          1,
          1,
          1,
          1,
          1,
          1,
          1,
          1,
          1,
          1,
          1,
          1,
          1,
          1,
          1,
          1,
          1,
          1,
          1,
          1,
          1,
          1,
          1,
          1,
          1,
          1,
          1,
          1,
          1,
          1,
          1,
          1,
          1,
          1,
          1,
          1,
          1,
          1,
          1,
          1,
          1,
          1,
          1,
          1,
          1,
          1,
          1,
          1,
          1,
          1,
          1,
          1,
          1,
          1,
          1,
          1,
          1,
          1,
          1,
          1,
          1,
          1,
          1,
          1,
          1,
          1,
          1,
          1,
          1,
          1,
          1,
          1,
          1,
          1,
          1,
          1,
          1,
          1,
          1,
          1,
          1,
          1,
          1,
          1,
          1,
          1,
          1,
          1,
          1,
          1,
          1,
          1,
          1,
          1,
          1,
          1,
          1,
          1,
          1,
          1,
          1,
          1,
          1,
          1,
          1,
          1,
          1,
          1,
          1,
          1,
          1,
          1,
          1,
          1,
          1,
          1,
          1,
          1,
          1,
          1,
          1,
          1,
          1,
          1,
          1,
          1,
          1,
          1,
          1,
          1,
          1,
          1,
          1,
          1,
          1,
          1,
          1,
          1,
          1,
          1,
          1,
          1,
          1,
          1,
          1,
          1,
          1,
          1,
          1,
          1,
          1,
          1,
          1,
          1,
          1,
          1,
          1,
          1,
          1,
          1,
          1,
          1,
          1,
          1,
          1,
          1,
          1,
          1,
          1,
          1,
          1,
          1,
          1,
          1,
          1,
          1,
          1,
          1,
          1,
          1,
          1,
          1,
          1,
          1,
          1,
          1,
          1,
          1,
          1,
          1,
          1,
          1,
          1,
          1,
          1,
          1,
          1,
          1,
          1,
          1,
          1,
          1,
          1,
          1,
          1,
          1,
          1,
          1,
          1,
          1,
          1,
          1,
          1,
          1,
          1,
          1,
          1,
          1,
          1,
          1,
          1,
          1,
          1,
          1,
          1,
          1,
          1,
          1,
          1,
          1,
          1,
          1,
          1,
          1,
          1,
          1,
          1,
          1,
          1,
          1,
          1,
          1,
          1,
          1,
          1,
          1,
          1,
          1,
          1,
          1,
          1,
          1,
          1,
          1,
          1,
          1,
          1,
          1,
          1,
          1,
          1,
          1,
          1,
          1,
          1,
          1,
          1,
          1,
          1,
          1,
          1,
          1,
          1,
          1,
          1,
          1,
          1,
          1,
          1,
          1,
          1,
          1,
          1,
          1,
          1,
          1,
          1,
          1,
          1,
          1,
          1,
          1,
          1,
          1,
          1,
          1,
          1,
          1,
          1,
          1,
          1,
          1,
          1,
          1,
          1,
          1,
          1,
          1,
          1,
          1,
          1,
          1,
          1,
          1,
          1,
          1,
          1,
          1,
          1,
          1,
          1,
          1,
          1,
          1,
          1,
          1,
          1,
          1,
          1,
          1,
          1,
          1,
          1,
          1,
          1,
          1,
          1,
          1,
          1,
          1,
          1,
          1,
          1,
          1,
          1,
          1,
          1,
          1,
          1,
          1,
          1,
          1,
          1,
          1,
          1,
          1,
          1,
          1,
          1,
          1,
          1,
          1,
          1,
          1,
          1,
          1,
          1,
          1,
          1,
          1,
          1,
          1,
          1,
          1,
          1,
          1,
          1,
          1,
          1,
          1,
          1,
          1,
          1,
          1,
          1,
          1,
          1,
          1,
          1,
          1,
          1,
          1,
          1,
          1,
          1,
          1,
          1,
          1,
          1,
          1,
          1,
          1,
          1,
          1,
          1,
          1,
          1,
          1,
          1,
          1,
          1,
          1,
          1,
          1,
          1,
          1,
          1,
          1,
          1,
          1,
          1,
          1,
          1,
          1,
          1,
          1,
          1,
          1,
          1,
          1,
          1,
          1,
          1,
          1,
          1,
          1,
          1,
          1,
          1,
          1,
          1,
          1,
          1,
          1,
          1,
          1,
          1,
          1,
          1,
          1,
          1,
          1,
          1,
          1,
          1,
          1,
          1,
          1,
          1,
          1,
          1,
          1,
          1,
          1,
          1,
          1,
          1,
          1,
          1,
          1,
          1,
          1,
          1,
          1,
          1,
          1,
          1,
          1,
          1,
          1,
          1,
          1,
          1,
          1,
          1,
          1,
          1,
          1,
          1,
          1,
          1,
          1,
          1,
          1,
          1,
          1,
          1,
          1,
          1,
          1,
          1,
          1,
          1,
          1,
          1,
          1,
          1,
          1,
          1,
          1,
          1,
          1,
          1,
          1,
          1,
          1,
          1,
          1,
          1,
          1,
          1,
          1,
          1,
          1,
          1,
          1,
          1,
          1,
          1,
          1,
          1,
          1,
          1,
          1,
          1,
          1,
          1,
          1,
          1,
          1,
          1,
          1,
          1,
          1,
          1,
          1,
          1,
          1,
          1,
          1,
          1,
          1,
          1,
          1,
          1,
          1
         ],
         "yaxis": "y"
        }
       ],
       "layout": {
        "barmode": "group",
        "coloraxis": {
         "colorbar": {
          "title": {
           "text": "Stroke"
          }
         },
         "colorscale": [
          [
           0,
           "#0d0887"
          ],
          [
           0.1111111111111111,
           "#46039f"
          ],
          [
           0.2222222222222222,
           "#7201a8"
          ],
          [
           0.3333333333333333,
           "#9c179e"
          ],
          [
           0.4444444444444444,
           "#bd3786"
          ],
          [
           0.5555555555555556,
           "#d8576b"
          ],
          [
           0.6666666666666666,
           "#ed7953"
          ],
          [
           0.7777777777777778,
           "#fb9f3a"
          ],
          [
           0.8888888888888888,
           "#fdca26"
          ],
          [
           1,
           "#f0f921"
          ]
         ]
        },
        "legend": {
         "tracegroupgap": 0
        },
        "template": {
         "data": {
          "bar": [
           {
            "error_x": {
             "color": "#2a3f5f"
            },
            "error_y": {
             "color": "#2a3f5f"
            },
            "marker": {
             "line": {
              "color": "#E5ECF6",
              "width": 0.5
             },
             "pattern": {
              "fillmode": "overlay",
              "size": 10,
              "solidity": 0.2
             }
            },
            "type": "bar"
           }
          ],
          "barpolar": [
           {
            "marker": {
             "line": {
              "color": "#E5ECF6",
              "width": 0.5
             },
             "pattern": {
              "fillmode": "overlay",
              "size": 10,
              "solidity": 0.2
             }
            },
            "type": "barpolar"
           }
          ],
          "carpet": [
           {
            "aaxis": {
             "endlinecolor": "#2a3f5f",
             "gridcolor": "white",
             "linecolor": "white",
             "minorgridcolor": "white",
             "startlinecolor": "#2a3f5f"
            },
            "baxis": {
             "endlinecolor": "#2a3f5f",
             "gridcolor": "white",
             "linecolor": "white",
             "minorgridcolor": "white",
             "startlinecolor": "#2a3f5f"
            },
            "type": "carpet"
           }
          ],
          "choropleth": [
           {
            "colorbar": {
             "outlinewidth": 0,
             "ticks": ""
            },
            "type": "choropleth"
           }
          ],
          "contour": [
           {
            "colorbar": {
             "outlinewidth": 0,
             "ticks": ""
            },
            "colorscale": [
             [
              0,
              "#0d0887"
             ],
             [
              0.1111111111111111,
              "#46039f"
             ],
             [
              0.2222222222222222,
              "#7201a8"
             ],
             [
              0.3333333333333333,
              "#9c179e"
             ],
             [
              0.4444444444444444,
              "#bd3786"
             ],
             [
              0.5555555555555556,
              "#d8576b"
             ],
             [
              0.6666666666666666,
              "#ed7953"
             ],
             [
              0.7777777777777778,
              "#fb9f3a"
             ],
             [
              0.8888888888888888,
              "#fdca26"
             ],
             [
              1,
              "#f0f921"
             ]
            ],
            "type": "contour"
           }
          ],
          "contourcarpet": [
           {
            "colorbar": {
             "outlinewidth": 0,
             "ticks": ""
            },
            "type": "contourcarpet"
           }
          ],
          "heatmap": [
           {
            "colorbar": {
             "outlinewidth": 0,
             "ticks": ""
            },
            "colorscale": [
             [
              0,
              "#0d0887"
             ],
             [
              0.1111111111111111,
              "#46039f"
             ],
             [
              0.2222222222222222,
              "#7201a8"
             ],
             [
              0.3333333333333333,
              "#9c179e"
             ],
             [
              0.4444444444444444,
              "#bd3786"
             ],
             [
              0.5555555555555556,
              "#d8576b"
             ],
             [
              0.6666666666666666,
              "#ed7953"
             ],
             [
              0.7777777777777778,
              "#fb9f3a"
             ],
             [
              0.8888888888888888,
              "#fdca26"
             ],
             [
              1,
              "#f0f921"
             ]
            ],
            "type": "heatmap"
           }
          ],
          "heatmapgl": [
           {
            "colorbar": {
             "outlinewidth": 0,
             "ticks": ""
            },
            "colorscale": [
             [
              0,
              "#0d0887"
             ],
             [
              0.1111111111111111,
              "#46039f"
             ],
             [
              0.2222222222222222,
              "#7201a8"
             ],
             [
              0.3333333333333333,
              "#9c179e"
             ],
             [
              0.4444444444444444,
              "#bd3786"
             ],
             [
              0.5555555555555556,
              "#d8576b"
             ],
             [
              0.6666666666666666,
              "#ed7953"
             ],
             [
              0.7777777777777778,
              "#fb9f3a"
             ],
             [
              0.8888888888888888,
              "#fdca26"
             ],
             [
              1,
              "#f0f921"
             ]
            ],
            "type": "heatmapgl"
           }
          ],
          "histogram": [
           {
            "marker": {
             "pattern": {
              "fillmode": "overlay",
              "size": 10,
              "solidity": 0.2
             }
            },
            "type": "histogram"
           }
          ],
          "histogram2d": [
           {
            "colorbar": {
             "outlinewidth": 0,
             "ticks": ""
            },
            "colorscale": [
             [
              0,
              "#0d0887"
             ],
             [
              0.1111111111111111,
              "#46039f"
             ],
             [
              0.2222222222222222,
              "#7201a8"
             ],
             [
              0.3333333333333333,
              "#9c179e"
             ],
             [
              0.4444444444444444,
              "#bd3786"
             ],
             [
              0.5555555555555556,
              "#d8576b"
             ],
             [
              0.6666666666666666,
              "#ed7953"
             ],
             [
              0.7777777777777778,
              "#fb9f3a"
             ],
             [
              0.8888888888888888,
              "#fdca26"
             ],
             [
              1,
              "#f0f921"
             ]
            ],
            "type": "histogram2d"
           }
          ],
          "histogram2dcontour": [
           {
            "colorbar": {
             "outlinewidth": 0,
             "ticks": ""
            },
            "colorscale": [
             [
              0,
              "#0d0887"
             ],
             [
              0.1111111111111111,
              "#46039f"
             ],
             [
              0.2222222222222222,
              "#7201a8"
             ],
             [
              0.3333333333333333,
              "#9c179e"
             ],
             [
              0.4444444444444444,
              "#bd3786"
             ],
             [
              0.5555555555555556,
              "#d8576b"
             ],
             [
              0.6666666666666666,
              "#ed7953"
             ],
             [
              0.7777777777777778,
              "#fb9f3a"
             ],
             [
              0.8888888888888888,
              "#fdca26"
             ],
             [
              1,
              "#f0f921"
             ]
            ],
            "type": "histogram2dcontour"
           }
          ],
          "mesh3d": [
           {
            "colorbar": {
             "outlinewidth": 0,
             "ticks": ""
            },
            "type": "mesh3d"
           }
          ],
          "parcoords": [
           {
            "line": {
             "colorbar": {
              "outlinewidth": 0,
              "ticks": ""
             }
            },
            "type": "parcoords"
           }
          ],
          "pie": [
           {
            "automargin": true,
            "type": "pie"
           }
          ],
          "scatter": [
           {
            "fillpattern": {
             "fillmode": "overlay",
             "size": 10,
             "solidity": 0.2
            },
            "type": "scatter"
           }
          ],
          "scatter3d": [
           {
            "line": {
             "colorbar": {
              "outlinewidth": 0,
              "ticks": ""
             }
            },
            "marker": {
             "colorbar": {
              "outlinewidth": 0,
              "ticks": ""
             }
            },
            "type": "scatter3d"
           }
          ],
          "scattercarpet": [
           {
            "marker": {
             "colorbar": {
              "outlinewidth": 0,
              "ticks": ""
             }
            },
            "type": "scattercarpet"
           }
          ],
          "scattergeo": [
           {
            "marker": {
             "colorbar": {
              "outlinewidth": 0,
              "ticks": ""
             }
            },
            "type": "scattergeo"
           }
          ],
          "scattergl": [
           {
            "marker": {
             "colorbar": {
              "outlinewidth": 0,
              "ticks": ""
             }
            },
            "type": "scattergl"
           }
          ],
          "scattermapbox": [
           {
            "marker": {
             "colorbar": {
              "outlinewidth": 0,
              "ticks": ""
             }
            },
            "type": "scattermapbox"
           }
          ],
          "scatterpolar": [
           {
            "marker": {
             "colorbar": {
              "outlinewidth": 0,
              "ticks": ""
             }
            },
            "type": "scatterpolar"
           }
          ],
          "scatterpolargl": [
           {
            "marker": {
             "colorbar": {
              "outlinewidth": 0,
              "ticks": ""
             }
            },
            "type": "scatterpolargl"
           }
          ],
          "scatterternary": [
           {
            "marker": {
             "colorbar": {
              "outlinewidth": 0,
              "ticks": ""
             }
            },
            "type": "scatterternary"
           }
          ],
          "surface": [
           {
            "colorbar": {
             "outlinewidth": 0,
             "ticks": ""
            },
            "colorscale": [
             [
              0,
              "#0d0887"
             ],
             [
              0.1111111111111111,
              "#46039f"
             ],
             [
              0.2222222222222222,
              "#7201a8"
             ],
             [
              0.3333333333333333,
              "#9c179e"
             ],
             [
              0.4444444444444444,
              "#bd3786"
             ],
             [
              0.5555555555555556,
              "#d8576b"
             ],
             [
              0.6666666666666666,
              "#ed7953"
             ],
             [
              0.7777777777777778,
              "#fb9f3a"
             ],
             [
              0.8888888888888888,
              "#fdca26"
             ],
             [
              1,
              "#f0f921"
             ]
            ],
            "type": "surface"
           }
          ],
          "table": [
           {
            "cells": {
             "fill": {
              "color": "#EBF0F8"
             },
             "line": {
              "color": "white"
             }
            },
            "header": {
             "fill": {
              "color": "#C8D4E3"
             },
             "line": {
              "color": "white"
             }
            },
            "type": "table"
           }
          ]
         },
         "layout": {
          "annotationdefaults": {
           "arrowcolor": "#2a3f5f",
           "arrowhead": 0,
           "arrowwidth": 1
          },
          "autotypenumbers": "strict",
          "coloraxis": {
           "colorbar": {
            "outlinewidth": 0,
            "ticks": ""
           }
          },
          "colorscale": {
           "diverging": [
            [
             0,
             "#8e0152"
            ],
            [
             0.1,
             "#c51b7d"
            ],
            [
             0.2,
             "#de77ae"
            ],
            [
             0.3,
             "#f1b6da"
            ],
            [
             0.4,
             "#fde0ef"
            ],
            [
             0.5,
             "#f7f7f7"
            ],
            [
             0.6,
             "#e6f5d0"
            ],
            [
             0.7,
             "#b8e186"
            ],
            [
             0.8,
             "#7fbc41"
            ],
            [
             0.9,
             "#4d9221"
            ],
            [
             1,
             "#276419"
            ]
           ],
           "sequential": [
            [
             0,
             "#0d0887"
            ],
            [
             0.1111111111111111,
             "#46039f"
            ],
            [
             0.2222222222222222,
             "#7201a8"
            ],
            [
             0.3333333333333333,
             "#9c179e"
            ],
            [
             0.4444444444444444,
             "#bd3786"
            ],
            [
             0.5555555555555556,
             "#d8576b"
            ],
            [
             0.6666666666666666,
             "#ed7953"
            ],
            [
             0.7777777777777778,
             "#fb9f3a"
            ],
            [
             0.8888888888888888,
             "#fdca26"
            ],
            [
             1,
             "#f0f921"
            ]
           ],
           "sequentialminus": [
            [
             0,
             "#0d0887"
            ],
            [
             0.1111111111111111,
             "#46039f"
            ],
            [
             0.2222222222222222,
             "#7201a8"
            ],
            [
             0.3333333333333333,
             "#9c179e"
            ],
            [
             0.4444444444444444,
             "#bd3786"
            ],
            [
             0.5555555555555556,
             "#d8576b"
            ],
            [
             0.6666666666666666,
             "#ed7953"
            ],
            [
             0.7777777777777778,
             "#fb9f3a"
            ],
            [
             0.8888888888888888,
             "#fdca26"
            ],
            [
             1,
             "#f0f921"
            ]
           ]
          },
          "colorway": [
           "#636efa",
           "#EF553B",
           "#00cc96",
           "#ab63fa",
           "#FFA15A",
           "#19d3f3",
           "#FF6692",
           "#B6E880",
           "#FF97FF",
           "#FECB52"
          ],
          "font": {
           "color": "#2a3f5f"
          },
          "geo": {
           "bgcolor": "white",
           "lakecolor": "white",
           "landcolor": "#E5ECF6",
           "showlakes": true,
           "showland": true,
           "subunitcolor": "white"
          },
          "hoverlabel": {
           "align": "left"
          },
          "hovermode": "closest",
          "mapbox": {
           "style": "light"
          },
          "paper_bgcolor": "white",
          "plot_bgcolor": "#E5ECF6",
          "polar": {
           "angularaxis": {
            "gridcolor": "white",
            "linecolor": "white",
            "ticks": ""
           },
           "bgcolor": "#E5ECF6",
           "radialaxis": {
            "gridcolor": "white",
            "linecolor": "white",
            "ticks": ""
           }
          },
          "scene": {
           "xaxis": {
            "backgroundcolor": "#E5ECF6",
            "gridcolor": "white",
            "gridwidth": 2,
            "linecolor": "white",
            "showbackground": true,
            "ticks": "",
            "zerolinecolor": "white"
           },
           "yaxis": {
            "backgroundcolor": "#E5ECF6",
            "gridcolor": "white",
            "gridwidth": 2,
            "linecolor": "white",
            "showbackground": true,
            "ticks": "",
            "zerolinecolor": "white"
           },
           "zaxis": {
            "backgroundcolor": "#E5ECF6",
            "gridcolor": "white",
            "gridwidth": 2,
            "linecolor": "white",
            "showbackground": true,
            "ticks": "",
            "zerolinecolor": "white"
           }
          },
          "shapedefaults": {
           "line": {
            "color": "#2a3f5f"
           }
          },
          "ternary": {
           "aaxis": {
            "gridcolor": "white",
            "linecolor": "white",
            "ticks": ""
           },
           "baxis": {
            "gridcolor": "white",
            "linecolor": "white",
            "ticks": ""
           },
           "bgcolor": "#E5ECF6",
           "caxis": {
            "gridcolor": "white",
            "linecolor": "white",
            "ticks": ""
           }
          },
          "title": {
           "x": 0.05
          },
          "xaxis": {
           "automargin": true,
           "gridcolor": "white",
           "linecolor": "white",
           "ticks": "",
           "title": {
            "standoff": 15
           },
           "zerolinecolor": "white",
           "zerolinewidth": 2
          },
          "yaxis": {
           "automargin": true,
           "gridcolor": "white",
           "linecolor": "white",
           "ticks": "",
           "title": {
            "standoff": 15
           },
           "zerolinecolor": "white",
           "zerolinewidth": 2
          }
         }
        },
        "title": {
         "text": "Stroke Incidence Across Age Groups"
        },
        "xaxis": {
         "anchor": "y",
         "domain": [
          0,
          1
         ],
         "title": {
          "text": "Age Group"
         }
        },
        "yaxis": {
         "anchor": "x",
         "domain": [
          0,
          1
         ],
         "title": {
          "text": "count"
         }
        }
       }
      }
     },
     "metadata": {},
     "output_type": "display_data"
    }
   ],
   "source": [
    "import plotly.express as px\n",
    "\n",
    "# Combine data\n",
    "age_group_stroke = pd.DataFrame({'Age Group': x_test['age'], 'Stroke': y_test})\n",
    "\n",
    "# Plot\n",
    "fig = px.bar(age_group_stroke, x='Age Group', color='Stroke', barmode='group',\n",
    "             title='Stroke Incidence Across Age Groups')\n",
    "fig.show()\n",
    "\n"
   ]
  },
  {
   "cell_type": "markdown",
   "metadata": {},
   "source": [
    "- ##### **3. Glucose Levels vs Stroke Prediction**"
   ]
  },
  {
   "cell_type": "code",
   "execution_count": 352,
   "metadata": {},
   "outputs": [
    {
     "data": {
      "application/vnd.plotly.v1+json": {
       "config": {
        "plotlyServerURL": "https://plot.ly"
       },
       "data": [
        {
         "hovertemplate": "Avg Glucose Level=%{x}<br>Stroke Probability=%{y}<br>Stroke=%{marker.color}<extra></extra>",
         "legendgroup": "",
         "marker": {
          "color": [
           0,
           0,
           0,
           0,
           0,
           0,
           0,
           0,
           0,
           0,
           0,
           0,
           0,
           0,
           0,
           1,
           0,
           0,
           0,
           0,
           0,
           0,
           0,
           0,
           0,
           0,
           0,
           0,
           0,
           0,
           0,
           0,
           0,
           0,
           0,
           0,
           0,
           0,
           0,
           0,
           0,
           0,
           0,
           0,
           0,
           0,
           0,
           0,
           0,
           0,
           0,
           0,
           1,
           0,
           0,
           0,
           0,
           1,
           0,
           0,
           0,
           0,
           0,
           0,
           0,
           0,
           0,
           0,
           0,
           0,
           0,
           0,
           0,
           0,
           0,
           0,
           0,
           0,
           0,
           0,
           0,
           0,
           0,
           0,
           0,
           0,
           0,
           0,
           0,
           0,
           0,
           0,
           0,
           0,
           0,
           0,
           1,
           0,
           0,
           0,
           0,
           0,
           0,
           0,
           0,
           0,
           0,
           0,
           0,
           0,
           0,
           0,
           0,
           0,
           0,
           1,
           0,
           0,
           0,
           0,
           0,
           0,
           0,
           0,
           0,
           0,
           0,
           0,
           1,
           0,
           0,
           0,
           0,
           0,
           1,
           0,
           0,
           0,
           0,
           0,
           0,
           0,
           0,
           0,
           0,
           0,
           0,
           0,
           1,
           0,
           0,
           0,
           0,
           1,
           0,
           0,
           0,
           0,
           0,
           1,
           0,
           0,
           0,
           0,
           0,
           0,
           0,
           0,
           0,
           0,
           0,
           0,
           0,
           0,
           1,
           0,
           0,
           0,
           0,
           0,
           0,
           0,
           0,
           0,
           0,
           0,
           0,
           0,
           0,
           0,
           0,
           0,
           1,
           0,
           0,
           0,
           0,
           0,
           0,
           0,
           0,
           0,
           0,
           1,
           0,
           0,
           0,
           0,
           0,
           0,
           0,
           0,
           0,
           1,
           0,
           0,
           0,
           0,
           0,
           0,
           0,
           0,
           0,
           0,
           0,
           0,
           0,
           0,
           0,
           1,
           0,
           0,
           0,
           0,
           0,
           0,
           0,
           0,
           0,
           0,
           0,
           0,
           1,
           1,
           1,
           0,
           0,
           0,
           0,
           0,
           0,
           0,
           0,
           0,
           0,
           0,
           0,
           0,
           0,
           1,
           0,
           0,
           0,
           0,
           0,
           0,
           0,
           0,
           0,
           0,
           0,
           0,
           0,
           0,
           0,
           0,
           1,
           0,
           0,
           0,
           0,
           0,
           0,
           0,
           0,
           0,
           1,
           0,
           0,
           0,
           0,
           0,
           0,
           0,
           0,
           0,
           0,
           0,
           0,
           0,
           0,
           0,
           0,
           1,
           0,
           0,
           0,
           0,
           0,
           0,
           0,
           0,
           0,
           0,
           0,
           0,
           0,
           0,
           0,
           0,
           0,
           0,
           0,
           0,
           0,
           0,
           0,
           0,
           0,
           0,
           0,
           0,
           0,
           0,
           0,
           0,
           0,
           0,
           0,
           0,
           0,
           1,
           0,
           0,
           0,
           0,
           0,
           0,
           0,
           0,
           0,
           0,
           0,
           0,
           0,
           0,
           0,
           0,
           0,
           0,
           0,
           0,
           0,
           0,
           0,
           0,
           0,
           0,
           0,
           0,
           0,
           0,
           0,
           0,
           0,
           1,
           0,
           0,
           0,
           0,
           0,
           0,
           0,
           0,
           0,
           1,
           1,
           0,
           0,
           0,
           0,
           0,
           0,
           0,
           0,
           0,
           0,
           0,
           0,
           0,
           0,
           0,
           0,
           0,
           0,
           0,
           0,
           0,
           0,
           0,
           0,
           0,
           0,
           0,
           0,
           0,
           0,
           0,
           0,
           0,
           0,
           1,
           0,
           0,
           0,
           0,
           0,
           0,
           0,
           0,
           0,
           0,
           0,
           0,
           0,
           0,
           0,
           0,
           0,
           0,
           0,
           0,
           0,
           0,
           0,
           0,
           0,
           0,
           0,
           0,
           0,
           1,
           0,
           0,
           0,
           0,
           0,
           0,
           0,
           0,
           0,
           0,
           0,
           0,
           0,
           0,
           0,
           0,
           0,
           0,
           0,
           0,
           0,
           0,
           0,
           0,
           0,
           0,
           0,
           0,
           0,
           0,
           0,
           0,
           0,
           0,
           0,
           0,
           0,
           0,
           0,
           0,
           0,
           0,
           0,
           0,
           0,
           0,
           0,
           0,
           0,
           0,
           0,
           0,
           0,
           0,
           0,
           0,
           0,
           0,
           0,
           0,
           0,
           0,
           0,
           0,
           1,
           0,
           0,
           1,
           1,
           0,
           0,
           0,
           0,
           0,
           0,
           0,
           0,
           0,
           0,
           0,
           0,
           0,
           0,
           1,
           0,
           0,
           0,
           1,
           0,
           0,
           0,
           0,
           0,
           0,
           0,
           0,
           0,
           0,
           1,
           0,
           0,
           0,
           0,
           0,
           0,
           0,
           0,
           0,
           1,
           0,
           0,
           0,
           0,
           0,
           0,
           0,
           0,
           0,
           0,
           0,
           0,
           0,
           0,
           0,
           0,
           0,
           0,
           0,
           0,
           0,
           0,
           0,
           1,
           0,
           0,
           0,
           0,
           0,
           1,
           1,
           0,
           0,
           0,
           0,
           0,
           0,
           0,
           0,
           0,
           0,
           1,
           0,
           1,
           0,
           0,
           0,
           0,
           0,
           0,
           0,
           1,
           0,
           0,
           1,
           0,
           0,
           0,
           0,
           0,
           0,
           0,
           0,
           0,
           0,
           0,
           0,
           0,
           0,
           0,
           0,
           0,
           0,
           0,
           0,
           0,
           0,
           0,
           0,
           0,
           0,
           0,
           0,
           0,
           0,
           0,
           0,
           0,
           0,
           0,
           0,
           0,
           0,
           0,
           0,
           0,
           0,
           0,
           0,
           0,
           0,
           0,
           0,
           0,
           0,
           0,
           0,
           0,
           0,
           0,
           0,
           0,
           0,
           0,
           0,
           0,
           0,
           0,
           0,
           0,
           0,
           1,
           0,
           0,
           0,
           0,
           0,
           0,
           0,
           0,
           0,
           0,
           0,
           0,
           0,
           0,
           0,
           0,
           0,
           0,
           0,
           0,
           0,
           0,
           0,
           0,
           0,
           0,
           0,
           0,
           0,
           0,
           0,
           0,
           0,
           0,
           0,
           0,
           0,
           0,
           1,
           0,
           0,
           0,
           0,
           0,
           0,
           0,
           0,
           0,
           0,
           0,
           0,
           0,
           0,
           1,
           0,
           0,
           0,
           0,
           0,
           0,
           0,
           0,
           0,
           0,
           0,
           0,
           0,
           0,
           0,
           0,
           0,
           1,
           0,
           0,
           0,
           0,
           0,
           1,
           0,
           0,
           0,
           0,
           0,
           0,
           0,
           0,
           0,
           0,
           0,
           0,
           0,
           1,
           0,
           0,
           0,
           0,
           0,
           0,
           0,
           0,
           0,
           0,
           0,
           1,
           0,
           0,
           0,
           0,
           0,
           0,
           0,
           0,
           0,
           0,
           1,
           0,
           0,
           0,
           0,
           0,
           0,
           0,
           0,
           0,
           0,
           0,
           0,
           0,
           0,
           0,
           1,
           0,
           0,
           0,
           0,
           0,
           0,
           1,
           0,
           0,
           0,
           0,
           1,
           0,
           0,
           0,
           0,
           1,
           0,
           0,
           0,
           0,
           0,
           0,
           0,
           0,
           0,
           0,
           0,
           1,
           0,
           0,
           0,
           0,
           0,
           0,
           0,
           0,
           0,
           0,
           0,
           0,
           0,
           0,
           0,
           0,
           0,
           0,
           0,
           0,
           0,
           0,
           0,
           0,
           0,
           0,
           0,
           0,
           0,
           0,
           0,
           0,
           0,
           0,
           0,
           0,
           0,
           0,
           0,
           0,
           0,
           0,
           0,
           0,
           0,
           0,
           0,
           0,
           0,
           0,
           1,
           0,
           0,
           0,
           0,
           0,
           0,
           0,
           1,
           0,
           0,
           0,
           0,
           0,
           0,
           0,
           0,
           0,
           0,
           0,
           0,
           0,
           0,
           0,
           0,
           0,
           0,
           0,
           0,
           0,
           0,
           0,
           0,
           0,
           0,
           0,
           0,
           0,
           0,
           0,
           0,
           0,
           1,
           0,
           0,
           0,
           0,
           1,
           0,
           0,
           0,
           0,
           0,
           0,
           0,
           0,
           0,
           0,
           0,
           0,
           0,
           0,
           0,
           0,
           0,
           0,
           0,
           0,
           0,
           0,
           0,
           0,
           0,
           0,
           0,
           0,
           0,
           0,
           0,
           0,
           0,
           0,
           0,
           0,
           0,
           0,
           1,
           0,
           0,
           0,
           0,
           0,
           0,
           0,
           0,
           0,
           0,
           0,
           0,
           0,
           0,
           0,
           0,
           0,
           0,
           0,
           0,
           0,
           0,
           0,
           0,
           0,
           0,
           1,
           0,
           0,
           0,
           1,
           0,
           0,
           0,
           0,
           0,
           0,
           0,
           0,
           0,
           0,
           0
          ],
          "coloraxis": "coloraxis",
          "symbol": "circle"
         },
         "mode": "markers",
         "name": "",
         "showlegend": false,
         "type": "scattergl",
         "x": [
          64.85,
          65.29,
          74.42,
          76.64,
          94.77,
          92.43,
          97.37,
          101.52,
          64.06,
          55.51,
          67.07,
          82.91,
          62.78,
          116.14,
          62.2,
          143.43,
          139.77,
          87.09,
          85.92,
          97.31,
          177.91,
          87.49,
          83.16,
          155.43,
          91.95,
          69.11,
          75.84,
          80.77,
          112.12,
          86.55,
          114.33,
          118.55,
          55.28,
          89.24,
          85.07,
          86,
          196.81,
          134.39,
          141.24,
          112.62,
          86.37,
          101.75,
          113.11,
          56.75,
          124.92,
          74.88,
          81.18,
          86.21,
          62.4,
          82.44,
          119.04,
          112.75,
          252.72,
          82.56,
          215.69,
          189.49,
          59.05,
          208.3,
          127.28,
          59.54,
          73,
          100.54,
          144.23,
          72.84,
          104.55,
          77.01,
          76.34,
          69.01,
          210.95,
          83.75,
          93.03,
          77.53,
          101.5,
          92.4,
          63.73,
          112.09,
          156.82,
          125.33,
          63.78,
          69.34,
          89.41,
          76.09,
          92.73,
          60.32,
          196.01,
          78.46,
          75.16,
          74.12,
          93.62,
          79.33,
          100.01,
          101.34,
          201.07,
          58.81,
          91.18,
          114.89,
          113.01,
          93.85,
          79.13,
          113.86,
          112.37,
          103.72,
          98.56,
          107.99,
          219.8,
          97.35,
          83.57,
          97.26,
          89.06,
          200.14,
          79.08,
          153.24,
          86.85,
          74.64,
          163.17,
          71.2,
          88.57,
          75.4,
          72.16,
          201.01,
          68.35,
          219.5,
          71.8,
          92,
          64.41,
          118.46,
          93.85,
          89.04,
          73.18,
          102.61,
          80.43,
          68.84,
          112.23,
          196.2,
          76.15,
          82.24,
          90.68,
          104.12,
          91.08,
          242.84,
          63.71,
          87.74,
          122.43,
          93.93,
          99.65,
          145.23,
          232.64,
          86.06,
          213.22,
          106.4,
          104.48,
          80,
          211.88,
          221.89,
          83.16,
          65.66,
          95.44,
          202.06,
          92.87,
          211.78,
          96.06,
          120.46,
          76.2,
          63.28,
          72.01,
          103.51,
          123.89,
          98.84,
          91.97,
          84.12,
          87.92,
          65.09,
          93.51,
          167.66,
          223.83,
          79.89,
          89.74,
          66.08,
          81.44,
          97.05,
          74.09,
          83.43,
          103.94,
          129.53,
          65.25,
          99.44,
          80.63,
          195.61,
          79.34,
          97.99,
          96.62,
          63.98,
          98.02,
          225.35,
          137.94,
          92.27,
          74.63,
          92.67,
          188.69,
          109.68,
          86.75,
          80.67,
          70.65,
          60.98,
          90.65,
          114.09,
          112.08,
          86.57,
          222.21,
          157.01,
          110.72,
          115.21,
          91.34,
          74.96,
          82.9,
          104.95,
          94.77,
          84.84,
          162.3,
          56.77,
          83.89,
          106.54,
          65.51,
          163.7,
          237.58,
          73.76,
          56.3,
          82.68,
          100.42,
          91.92,
          109.16,
          90.11,
          145.03,
          93.97,
          67.55,
          56.13,
          214.05,
          97.6,
          70.11,
          101.15,
          106.18,
          143.33,
          97.76,
          76.46,
          96.16,
          73.29,
          107.11,
          94.39,
          108.63,
          116.04,
          90.07,
          249.29,
          185.27,
          79.47,
          144.1,
          90.87,
          65.96,
          94.71,
          78.99,
          78.81,
          122.48,
          86.6,
          151.33,
          60.56,
          119.9,
          89.17,
          105.63,
          82.39,
          93.21,
          83.09,
          254.95,
          80.85,
          85.29,
          97.39,
          104.02,
          102.58,
          86.94,
          109.46,
          95.88,
          84.03,
          92.97,
          92.73,
          91.16,
          217.11,
          80.54,
          79.57,
          221.79,
          211.03,
          60.67,
          78.11,
          96.37,
          89.95,
          120.94,
          95.81,
          91.57,
          76.35,
          142.12,
          94.75,
          89.32,
          64.87,
          61.13,
          208.78,
          63.95,
          74.1,
          66.7,
          110.07,
          75.05,
          55.59,
          89.31,
          70.53,
          93.88,
          79.76,
          223.14,
          88.75,
          113.21,
          87.81,
          114.01,
          203.76,
          110.38,
          101.87,
          113.96,
          100.33,
          80.22,
          93.55,
          80.24,
          76.55,
          78.85,
          66.06,
          78.94,
          77.94,
          98.92,
          107.97,
          71.97,
          227.74,
          227.28,
          56.96,
          86.21,
          99.76,
          111.02,
          94.47,
          124.45,
          81.95,
          80.92,
          186.54,
          75.78,
          99.36,
          107.45,
          209.9,
          71.29,
          88.69,
          99.2,
          84.59,
          93.36,
          110.91,
          65.01,
          70.48,
          75.52,
          93.24,
          92.32,
          82.39,
          85.18,
          58.41,
          86.07,
          75.74,
          98.99,
          94.64,
          102.9,
          76.88,
          108.53,
          87.69,
          91.35,
          87.2,
          125.2,
          67.5,
          100.8,
          239.07,
          108.61,
          85.83,
          90.01,
          83.75,
          89.28,
          83.83,
          61.8,
          219.38,
          92.87,
          104.51,
          68.56,
          141.09,
          68.4,
          88.29,
          58.24,
          58.86,
          77.67,
          82.53,
          73.57,
          70.04,
          107.18,
          91.82,
          87.27,
          119.52,
          97.89,
          73.78,
          114.18,
          101.32,
          126.67,
          108.89,
          64.68,
          73.2,
          81.2,
          68.66,
          108.68,
          68.78,
          144.15,
          103.28,
          68.62,
          110.55,
          80.94,
          70.66,
          206.53,
          56.37,
          117.04,
          182.99,
          56.51,
          98.05,
          72.08,
          156.7,
          67.26,
          90.04,
          76.58,
          160.76,
          87.33,
          79.53,
          55.42,
          56.31,
          71.5,
          83.41,
          80.98,
          220.47,
          111.65,
          83.27,
          111.48,
          78.65,
          102.97,
          89.68,
          79.66,
          71.31,
          74.99,
          96.95,
          105.08,
          68.72,
          94.38,
          64.17,
          104.37,
          86.97,
          62.27,
          72.49,
          87.25,
          83.01,
          75.15,
          205.26,
          206.15,
          83.1,
          93.97,
          103.11,
          80.07,
          96.1,
          67.02,
          116.6,
          118.69,
          95.01,
          102.28,
          82.4,
          81.59,
          57.6,
          65.47,
          76.62,
          58.37,
          87.72,
          103.92,
          82.32,
          92.56,
          210.48,
          65.98,
          80.63,
          109.09,
          84.3,
          112.16,
          115.92,
          65.49,
          74.58,
          86.86,
          61.54,
          78.88,
          56.42,
          110.14,
          84.46,
          65.38,
          92.48,
          70.35,
          97.96,
          76.05,
          113.08,
          89.7,
          114.84,
          70.06,
          121.43,
          69.04,
          92.86,
          88.79,
          200.28,
          97.39,
          116.23,
          75.13,
          139.67,
          74.44,
          75.22,
          226.98,
          116.49,
          212.02,
          100.98,
          111.04,
          57.1,
          94,
          60.96,
          124.35,
          76.19,
          74.52,
          198.84,
          112.66,
          110.68,
          92.96,
          106.59,
          66.67,
          113.01,
          80.92,
          72.67,
          82.99,
          97.46,
          75.25,
          109.47,
          66.11,
          85.64,
          85.07,
          123.1,
          84.68,
          106.47,
          172.33,
          196.91,
          122.01,
          84.46,
          72.73,
          98.9,
          97.22,
          107.25,
          57.42,
          127.13,
          121.83,
          83.59,
          98.12,
          94.68,
          56.11,
          100.81,
          64.64,
          93.3,
          88.82,
          104,
          193.61,
          87.16,
          90.42,
          152.56,
          89.28,
          124.16,
          101.61,
          89.96,
          74.98,
          111.64,
          79.8,
          67.07,
          77.07,
          154.03,
          140.39,
          94.19,
          88.81,
          196.33,
          219.73,
          90.11,
          63.43,
          59.17,
          162.93,
          94.33,
          90.9,
          83.24,
          87.66,
          98.09,
          86.38,
          204.86,
          74.85,
          65.5,
          72.55,
          69.46,
          103.01,
          210,
          263.32,
          70.52,
          107.26,
          86.04,
          235.45,
          68.24,
          85.66,
          236.14,
          203.81,
          89.81,
          74.9,
          116.93,
          88.83,
          235.63,
          87.24,
          77.32,
          73.62,
          229.58,
          111.36,
          193.45,
          107.59,
          55.57,
          208.69,
          69.94,
          95.87,
          73.98,
          126.12,
          139.72,
          123.1,
          107.84,
          115.13,
          61.61,
          118.87,
          79.17,
          62.44,
          65.77,
          98.41,
          93.72,
          84.68,
          78.14,
          135.74,
          78.97,
          179.67,
          172.27,
          90.44,
          139.9,
          91.65,
          97.04,
          84.04,
          114.21,
          80.1,
          62.93,
          154.08,
          59.28,
          67.9,
          112.46,
          74.16,
          84.41,
          229.21,
          81.92,
          90.73,
          206.49,
          101.46,
          75.78,
          244.28,
          58.23,
          84.12,
          95.02,
          70.75,
          75.98,
          148.37,
          98.74,
          55.23,
          108.23,
          226.93,
          75.77,
          88.5,
          58.66,
          87.15,
          71.71,
          62.57,
          65.32,
          104.02,
          128.23,
          94.49,
          87.87,
          99.29,
          102.06,
          74.9,
          224.71,
          108.03,
          78.94,
          96.69,
          69.38,
          228.42,
          94.96,
          92.35,
          97.34,
          109.56,
          199.18,
          57.47,
          70.78,
          60.6,
          146.59,
          203.16,
          76.56,
          87.95,
          126.39,
          77.55,
          101.52,
          124.34,
          108.56,
          82.56,
          122.5,
          88.97,
          108.06,
          108.56,
          65.79,
          233.3,
          199.84,
          122.91,
          57.83,
          156.43,
          253.86,
          97.78,
          88.47,
          71.16,
          84.37,
          95.46,
          79.77,
          88.65,
          65.29,
          68.86,
          111.99,
          221.29,
          104.12,
          76.68,
          187.87,
          90.07,
          71.15,
          93.77,
          94.03,
          77.73,
          103.78,
          81.54,
          102.5,
          80.05,
          154.75,
          164.67,
          63.71,
          205.5,
          116.38,
          88.2,
          88.56,
          168.06,
          79.84,
          67.1,
          100.16,
          66.72,
          70.01,
          85.29,
          85.84,
          91.85,
          135.32,
          96.75,
          101.43,
          86.09,
          78.26,
          129.31,
          88.98,
          127.29,
          96.98,
          76.34,
          85.81,
          83.66,
          77.42,
          148.91,
          80.3,
          59.14,
          114.79,
          82.21,
          95.27,
          55.83,
          95.19,
          75.32,
          106.56,
          149.15,
          74.79,
          130.07,
          127.18,
          70.02,
          77.28,
          98.35,
          98.7,
          196.26,
          200.62,
          63.41,
          62.61,
          111.64,
          83.37,
          92.49,
          90.91,
          125.89,
          178.89,
          81.42,
          66.69,
          98.09,
          138.55,
          78.28,
          58.02,
          77.76,
          59.86,
          121.19,
          73.06,
          92.17,
          104.03,
          153.34,
          89.88,
          206.09,
          121.32,
          106.24,
          96.25,
          123.49,
          112.24,
          137.77,
          210.23,
          82.93,
          70.38,
          61.94,
          112.55,
          59.85,
          144.14,
          99.75,
          113.68,
          110.89,
          71.2,
          77.67,
          89.11,
          124.37,
          96.28,
          259.63,
          85.91,
          78.32,
          81.05,
          72.61,
          83.89,
          113.8,
          82.41,
          82.09,
          131.51,
          218,
          106.41,
          118.66,
          73.72,
          85.62,
          101.95,
          106.35,
          90.9,
          67.92,
          79.89,
          70.93,
          101.31,
          67.08,
          97.89,
          88.83,
          216.88,
          90.51,
          110.92,
          204.92,
          216.7,
          185,
          57.51,
          60.84,
          90.43,
          193.83,
          101.05,
          61.81,
          212.87,
          108.51,
          92.23,
          219.7,
          113.85,
          71.8,
          266.59,
          98.53,
          86.06,
          86.67,
          80.44,
          113.4,
          61.32,
          203.04,
          86.23,
          195.74,
          84.85,
          77.08,
          107.58,
          71.18,
          202.67,
          78.5,
          169.67,
          128.97,
          71.22,
          80.08,
          73.27,
          206.4,
          90.28,
          96.58,
          231.43,
          88.11,
          92.49,
          234.82,
          135.75,
          56.11,
          76.77,
          99.79,
          72.36,
          101.3,
          76.44,
          91.81,
          80.72,
          92.86,
          104.51,
          133.24,
          98.57,
          81.94,
          97.24,
          86.55,
          58.55,
          88.31,
          116.06,
          78.16,
          174.54,
          70.96,
          185.49,
          72.28,
          79.96,
          86.05,
          86,
          243.58,
          94.2,
          73.18,
          83.88,
          112.83,
          104.48,
          74.32,
          70.33,
          77.57,
          95.82,
          199.83,
          122.39,
          88.89,
          65.85,
          77.3,
          149.75,
          214.73,
          95.58,
          105.51,
          101.19,
          61.98,
          70.22,
          88.06,
          94.06,
          67.1,
          110.78,
          79.18,
          105.99,
          77.99,
          95.16,
          81.68,
          80.63,
          78.11,
          56.3,
          84.93,
          60.13,
          91.13,
          75.91,
          102.07,
          82.81,
          55.61,
          83.83,
          101.09,
          105.74,
          136.8,
          84.17,
          88.38,
          94.78,
          104.55,
          86.24,
          61.11,
          61.04,
          81.51,
          87.26,
          61.45,
          114.61,
          160.83,
          118.89,
          74.51,
          111.81,
          80.88,
          67.68,
          95.04,
          98.58,
          198.02,
          82.83,
          217.08,
          93.14,
          111.37,
          118.14,
          199.86,
          70.7,
          116.66,
          95.28,
          90.84,
          86.96,
          60.39,
          143.97,
          107.02,
          119.3,
          128.63,
          106.41
         ],
         "xaxis": "x",
         "y": [
          0.0476856119857053,
          0.04244175906105958,
          0.04587793300743764,
          0.800501067369021,
          0.6701037439953708,
          0.7888731295206112,
          0.6321772619992296,
          0.7970935867630337,
          0.0007490259786664978,
          0.04597305387455326,
          0.040679563070951184,
          0.0489364675248634,
          0.431625748743643,
          0.4084187781884069,
          0.4149170661742267,
          0.044477585472596205,
          0.09419632363009907,
          0.047383846737130655,
          0.0732701597484006,
          0.0512605489667232,
          0.08133597952810583,
          0.039370534382100204,
          0.046223869214176413,
          0.0015781341939489389,
          0.08408150515831576,
          0.3105042087268927,
          0.04146450659689643,
          0.07705692160077547,
          0.799340452524185,
          0.04563094106264834,
          0.5419868147329252,
          0.08294736663747801,
          0.06175256529245669,
          0.06665964109678633,
          0.001123086768507736,
          0.053793025229026535,
          0.8070634525328481,
          0.06266807129348545,
          0.807907573335796,
          0.3746215628115409,
          0.461203566153957,
          0.09888000536993866,
          0.09229831432773962,
          0.6693805765300439,
          0.5172077301766671,
          0.6784970991531514,
          0.04963679384451405,
          0.7647103289247519,
          0.044085871659500286,
          0.03772016491607462,
          0.07056435753993731,
          0.051205110501807684,
          0.7874624311462205,
          0.05095067524630868,
          0.08138323941819388,
          0.44969817574664606,
          0.3968872764953,
          0.8347207881972037,
          0.0885412941960106,
          0.3178967822824505,
          0.395575946259155,
          0.8676459189982597,
          0.7355618250091959,
          0.07878775929757005,
          0.05725904757978513,
          0.061701618731292734,
          0.0952466003803181,
          0.04543881607447077,
          0.5248732577291113,
          0.8244199294547485,
          0.054340807704232226,
          0.03420623781230932,
          0.540307018712049,
          0.059643036082796315,
          0.08755243164303689,
          0.5595313070132012,
          0.06640163740288202,
          0.6982245776983291,
          0.42321608989048165,
          0.735730234842996,
          0.4536088802393606,
          0.711741939745992,
          0.6757155326604002,
          0.06201311879219061,
          0.15931134555348994,
          0.0012006514237334351,
          0.432644185438264,
          0.7554995120704149,
          0.8304188811658285,
          0.04663939506347503,
          0.06776430725733738,
          0.44988688389275555,
          0.8636297514347464,
          0.07091413503124978,
          0.055959537515116536,
          0.5208861435296951,
          0.8523497683142275,
          0.6718073841977741,
          0.06408069980006177,
          0.7618757508395013,
          0.40137068775562745,
          0.4411746171048496,
          0.04749160022167175,
          0.0822695508160835,
          0.8072086072064348,
          0.03674807088867522,
          0.39859495296756975,
          0.054921288994875396,
          0.708762218401012,
          0.10954291109831056,
          0.05971674853550788,
          0.08117078084010657,
          0.4629786789482074,
          0.5922277663459862,
          0.7260162675163403,
          0.43509390664757186,
          0.77993622273986,
          0.06258972936530015,
          0.07278996614288857,
          0.687741372356989,
          0.4139937310421648,
          0.4193710653161055,
          0.07130645936456108,
          0.05305632841623781,
          0.7623209138693254,
          0.4494702193095378,
          0.4858286109669288,
          0.04566070220108577,
          0.5489856236831909,
          0.347624989722722,
          0.7618663770461568,
          0.27684895705338186,
          0.0013085011357340862,
          0.10305898340543201,
          0.4769593668024699,
          0.35967972586428026,
          0.05235655082755748,
          0.7829239348369621,
          0.48632179724070845,
          0.16967369653265596,
          0.48228301736437446,
          0.04584447917021476,
          0.5252645943630763,
          0.04847376077548677,
          0.03203377088455384,
          0.07556900675446257,
          0.5369239952003808,
          0.28679395655892254,
          0.8323472523421498,
          0.04840700573872218,
          0.07969887693580044,
          0.7513957846986793,
          0.8073754635389465,
          0.6228280102100345,
          0.7478665383743651,
          0.44550421941395585,
          0.747961397826233,
          0.08108208722313855,
          0.08381144530449876,
          0.5124526276123287,
          0.810442920683444,
          0.08389562058615797,
          0.38099808838474425,
          0.7376622837627266,
          0.7478488364354317,
          0.4361384727489239,
          0.11021268377396254,
          0.7616779610319493,
          0.0734813764819294,
          0.7308360310922535,
          0.0687250804403015,
          0.06757943622627363,
          0.5210426677082384,
          0.06042079646850469,
          0.8254253331922379,
          0.042647206090697914,
          0.3865075527210668,
          0.7388726393683381,
          0.4324692958495227,
          0.49260776154586927,
          0.03910535562625445,
          0.0660483275786229,
          0.001201614845842207,
          0.05840433072732089,
          0.517424378705406,
          0.7382006600855207,
          0.05216270726193418,
          0.46750686759681537,
          0.06794999686315448,
          0.5169472134693321,
          0.05349926270691812,
          0.47465236687862367,
          0.7625690204130162,
          0.6582010225889203,
          0.1117961620042935,
          0.7102561578473665,
          0.05418449680236676,
          0.7387402400419726,
          0.383027250700704,
          0.06631016715083267,
          0.04815831627370334,
          0.4220538656701375,
          0.050277791439801184,
          0.659152433508584,
          0.47804718688866,
          0.7932086588189662,
          0.09034962647738168,
          0.7283655470945617,
          0.10615982774350098,
          0.06814410283136643,
          0.0011211929966858463,
          0.04378414697124671,
          0.0683889768211851,
          0.6907919893377276,
          0.046240045045474944,
          0.048523466642023116,
          0.058723940269470976,
          0.6188657241061549,
          0.10000199396364164,
          0.0397655412882291,
          0.07383306454399842,
          0.0006433742413225981,
          0.6987857516975713,
          0.061078819645248965,
          0.9038415467286455,
          0.05580469406843778,
          0.04118977365567297,
          0.06388379935861538,
          0.5050229123825972,
          0.4963269299004667,
          0.6560336030814427,
          0.6785447225500504,
          0.7880041101427682,
          0.7515231321728362,
          0.6506976158418032,
          0.8058146322763291,
          0.8135454275227637,
          0.043817562635741235,
          0.4788824156139106,
          0.0519962369686444,
          0.0934051276357566,
          0.09189332949096579,
          0.062052614353503475,
          0.739569406184469,
          0.40818747976735836,
          0.07055297832139364,
          0.8527639956667635,
          0.6990268608967602,
          0.05265736780792912,
          0.05385136445974205,
          0.7267864299313277,
          0.8387655994408874,
          0.08833162077464116,
          0.04131572363016749,
          0.8038101714455091,
          0.8564444872329136,
          0.10833891982962388,
          0.4387436291173398,
          0.6092115698755629,
          0.7875768589687039,
          0.5074050624724947,
          0.45632685006642987,
          0.5081750055378507,
          0.0008714403605294994,
          0.08351993890871273,
          0.4367094811120576,
          0.7929292616534674,
          0.06494816919511097,
          0.09328998438785492,
          0.5228109618006425,
          0.1414249952065267,
          0.6636065230534532,
          0.6764223475496648,
          0.32140257515867454,
          0.463361706240535,
          0.0010820557954030338,
          0.37698842691037315,
          0.10368478803383467,
          0.6760882719810378,
          0.045896261324315867,
          0.0010744960972442587,
          0.748428459819286,
          0.04011171568340126,
          0.11347005885635571,
          0.08855008567998877,
          0.04149748143052698,
          0.8975589583803304,
          0.5187009406497983,
          0.6469723055019129,
          0.0569680899698691,
          0.7256040835768293,
          0.26254016868881697,
          0.06767711230398443,
          0.04993550135290279,
          0.44032492902387715,
          0.33833931735922673,
          0.10643662984104418,
          0.04652628428806355,
          0.06479086373112211,
          0.07689700292219286,
          0.07098729361023863,
          0.8320263277076141,
          0.5380549364284892,
          0.6358025448960427,
          0.07519357415595342,
          0.705192947398581,
          0.08971934607571104,
          0.046337630889681666,
          0.059899977242811576,
          0.06062996563446434,
          0.0009123895562523515,
          0.05219138193825579,
          0.7418004793661247,
          0.07666721904987439,
          0.5168065887966481,
          0.0944652527120382,
          0.7526990871883986,
          0.7706866532493002,
          0.35806071495729663,
          0.04699859472758859,
          0.05500444072248844,
          0.08231270785851631,
          0.08200233523718291,
          0.44694617456657,
          0.07341632323816918,
          0.5165272400339372,
          0.6358467787396361,
          0.7078248472677289,
          0.08252655868903434,
          0.5722284966515921,
          0.041676897793472854,
          0.04475092650552412,
          0.7557819735050407,
          0.6164951484310975,
          0.8855928906642602,
          0.448322135498538,
          0.07972653889973723,
          0.6010008801852735,
          0.04895834144774301,
          0.09138850412570824,
          0.3916334945878775,
          0.727710539345031,
          0.8055277051567536,
          0.09588563526992579,
          0.04547313648960654,
          0.5501806684834323,
          0.3983528235504212,
          0.5216876926250003,
          0.6994577551354005,
          0.03884778747518643,
          0.07315140210355707,
          0.08139218297286543,
          0.5010007081126456,
          0.07428329540707122,
          0.04748975752724015,
          0.04515109517649255,
          0.4359135848457862,
          0.038768837165665176,
          0.05451285015211381,
          0.039142320185921155,
          0.09185641027489608,
          0.07268590973811302,
          0.04544656621767038,
          0.5163990219828961,
          0.07270511568571786,
          0.6797702304117939,
          0.7875723246446125,
          0.04449024504459094,
          0.5426752391445884,
          0.6748221072789456,
          0.677956838336968,
          0.07991352325228691,
          0.6947572501592802,
          0.3400877324361329,
          0.7965042924502309,
          0.8753870319141315,
          0.6246624371146171,
          0.5102707956924508,
          0.8563761183732842,
          0.044597082014198965,
          0.0983966416296201,
          0.07108214124145898,
          0.06349276640805324,
          0.8424568651175943,
          0.04337235855497163,
          0.5436564239567137,
          0.7765704880545621,
          0.0013452075485333099,
          0.0007050772068289684,
          0.0745733465516849,
          0.04764982256062423,
          0.04125229073159947,
          0.050499448111891186,
          0.08683569291948795,
          0.39356971554543857,
          0.2908414671483486,
          0.048598249912406716,
          0.47195390032453177,
          0.8151077026158772,
          0.07672945510261728,
          0.43045624659918863,
          0.08115819983443102,
          0.08881552794886814,
          0.6853707596747031,
          0.10323137088116421,
          0.060996087124711086,
          0.07890834858703778,
          0.049084409230094744,
          0.07539866772342131,
          0.04203175274555015,
          0.06726893355720098,
          0.044360525229841304,
          0.0013912342355424051,
          0.7942565498191821,
          0.04302681348261174,
          0.05480310715440909,
          0.09496699700959778,
          0.04350202852437106,
          0.9010006335943981,
          0.431548203723105,
          0.0516046480948234,
          0.8680720077187101,
          0.49958552124454103,
          0.7816725014263566,
          0.03939721298368727,
          0.08527841485671972,
          0.3265119838211692,
          0.3597535522129958,
          0.31226621237931107,
          0.0683955424360957,
          0.04230872427291539,
          0.7461414523107919,
          0.4568542609192373,
          0.6510131044309219,
          0.059359492247770186,
          0.46724212648303637,
          0.41308332200743525,
          0.5077304311648704,
          0.07013078967833257,
          0.07279413378159463,
          0.7979121806292415,
          0.7266507401666965,
          0.3308406222308623,
          0.059971538905465006,
          0.06648119818096779,
          0.06255836186088325,
          0.08863814672314474,
          0.6667056256360173,
          0.08370742351512915,
          0.07537402124368915,
          0.07056519651887404,
          0.28418384721627366,
          0.7555847665815469,
          0.06203974712230653,
          0.04682897083890432,
          0.04889310608017165,
          0.05578467414744178,
          0.0468742954753871,
          0.38368094566239774,
          0.6664557023895004,
          0.8589858681088206,
          0.08166559934924433,
          0.07837936083259384,
          0.05382098168141297,
          0.03945789374137341,
          0.07708736969406575,
          0.4305789385447828,
          0.05742982099664228,
          0.4879411118986152,
          0.05396811420621284,
          0.5060232330102541,
          0.4848029969825297,
          0.11144326569530177,
          0.6310976752766705,
          0.07027139681076586,
          0.3100226473982986,
          0.7074902614204934,
          0.07882031530791131,
          0.07560949450687215,
          0.06483859124745074,
          0.04717261386652096,
          0.059992577039283596,
          0.44636759293431694,
          0.1162410771712109,
          0.4270710421461092,
          0.4628811253743002,
          0.41619041421882225,
          0.06784549464419541,
          0.43411429005432034,
          0.06018606235330913,
          0.04112118823379358,
          0.3660227230361191,
          0.07724001709024733,
          0.05647722643049051,
          0.5132594096023049,
          0.0012864363454399678,
          0.38616926562350146,
          0.053083977218653086,
          0.7497864733047672,
          0.7738071434229404,
          0.42050286987100033,
          0.0628100819980028,
          0.7885089403713077,
          0.04995115729594614,
          0.7428821472883846,
          0.5253988162038247,
          0.7199223407771566,
          0.040119213535189706,
          0.07733905144772754,
          0.8451998867233895,
          0.001152211004658342,
          0.7765863989582956,
          0.7372359059830009,
          0.06489218353512623,
          0.10183970603421355,
          0.03567268619705722,
          0.861757642766768,
          0.04970189795799972,
          0.44652707987376516,
          0.7633823064714403,
          0.4286897691581343,
          0.06227121438311109,
          0.4444442182004859,
          0.07346772847466781,
          0.04312825377134948,
          0.06676396814988697,
          0.048891948821755085,
          0.796284735678218,
          0.05332727821133333,
          0.06127125875739456,
          0.7697007246800065,
          0.05646743608227164,
          0.47127128685390063,
          0.07069947472104916,
          0.4996199383252286,
          0.7771371843616812,
          0.049597676221074055,
          0.04723746738989664,
          0.053212299031706364,
          0.71220684225771,
          0.04271363343862822,
          0.03613894759310499,
          0.5087097694945335,
          0.0683847617195622,
          0.060830856313585834,
          0.5044781031835726,
          0.07190796164331154,
          0.0678697446184333,
          0.10363403496508788,
          0.7905931914327425,
          0.7398378749539805,
          0.44436053494372024,
          0.7578547106588793,
          0.05913907717139835,
          0.8345722445260323,
          0.4676876615573337,
          0.7503371755698701,
          0.07397509878110115,
          0.04570433374040633,
          0.7386404491941454,
          0.7297214680076515,
          0.08113829582039221,
          0.07334714256067092,
          0.048197955020649316,
          0.750389080072828,
          0.4091223352398649,
          0.7543616109834941,
          0.001167101448660357,
          0.040747946506090794,
          0.5614206347113186,
          0.04783260577911135,
          0.46996871401701945,
          0.03940034328910386,
          0.4795900127835745,
          0.0012462432371942132,
          0.464171451559216,
          0.4339430492512692,
          0.6486428892307569,
          0.4016954581917396,
          0.40706541344016506,
          0.44960411329756134,
          0.06749730964478452,
          0.06255169103554939,
          0.8544322242432287,
          0.7600095166030973,
          0.0829207404146368,
          0.04030775305229215,
          0.07378911469443816,
          0.06925640292456851,
          0.044446647024536115,
          0.7557058001732269,
          0.07293767932564747,
          0.35364260396525443,
          0.09275081628304352,
          0.04337420986073461,
          0.6886362769077368,
          0.06495306462427392,
          0.5312530336916492,
          0.41225820432930005,
          0.6861763372397152,
          0.7461435489852812,
          0.6679932488005045,
          0.7671723130105661,
          0.4134633992434059,
          0.4341248632216502,
          0.6136012933888721,
          0.5879962408613391,
          0.05080496584340048,
          0.46250308785371896,
          0.8159760183718172,
          0.5126401498969764,
          0.42961343838740473,
          0.8484184429844129,
          0.6362804311665556,
          0.7500404661707082,
          0.8526260434243346,
          0.6472461736934856,
          0.7856095514199932,
          0.03349816524573462,
          0.8275990556708928,
          0.3663214362365056,
          0.8441811244617445,
          0.13163901991169044,
          0.610394851204118,
          0.7296076444459679,
          0.07623395627543415,
          0.0012937374999746575,
          0.0420255920597502,
          0.05520002601058178,
          0.4448741311178038,
          0.05753800528380883,
          0.3583521457930944,
          0.7988280190414034,
          0.000959362229397066,
          0.0531463743589039,
          0.04374802986989705,
          0.7916443877207514,
          0.0644136749684907,
          0.44365534067622836,
          0.44711060762204485,
          0.0468412666078405,
          0.35832610877017523,
          0.03993313775761631,
          0.07318501242246016,
          0.7156312957076782,
          0.0019422958068225078,
          0.3624338531935632,
          0.10154460167178325,
          0.7713356253662708,
          0.7940264947990276,
          0.07087361575501444,
          0.5315959265376382,
          0.7554160490412609,
          0.051805058933241055,
          0.0980171637612272,
          0.843048091205911,
          0.6645650581004175,
          0.5100044969849037,
          0.49710796766542664,
          0.0009672589625123295,
          0.9057402924461005,
          0.06279896753823645,
          0.07345241840856682,
          0.8452684768666061,
          0.7650722842749903,
          0.8024411536700787,
          0.7365774507752473,
          0.263845522354365,
          0.05209258150816893,
          0.08101350896044314,
          0.06195148339638661,
          0.037918060562677804,
          0.000821675554021421,
          0.054850327550938174,
          0.6444023421486049,
          0.0533426896779459,
          0.0862095831989828,
          0.04831991285808092,
          0.059226362431631825,
          0.850143815984169,
          0.3531029436012532,
          0.3216866194099222,
          0.610276423473412,
          0.046709767095189016,
          0.0012818046235053076,
          0.31473957631022537,
          0.04731218058052409,
          0.07195367531072798,
          0.38655114944733093,
          0.7644641621175965,
          0.8124757461853662,
          0.5676030626541892,
          0.0696877088713782,
          0.044691118596772945,
          0.08211997930149621,
          0.0011111492572471598,
          0.8605451975449353,
          0.061068599004643585,
          0.0666637767330514,
          0.7524533017040974,
          0.057689805551303076,
          0.11571693688570102,
          0.4197156823291231,
          0.04131123624382191,
          0.06088689233980899,
          0.0014820016043860802,
          0.5141253744528811,
          0.07292179227162295,
          0.3834917280626843,
          0.7618949682481307,
          0.04817320604133922,
          0.06436047451586471,
          0.048326526626032894,
          0.3429689423186061,
          0.0633899933725916,
          0.5109204359780009,
          0.3291981427741138,
          0.05216260869210276,
          0.08077906314036691,
          0.08327063269768185,
          0.9043460367948702,
          0.8353418413640947,
          0.07501956935536212,
          0.0622463148239181,
          0.08675724405551552,
          0.8571521458745767,
          0.043303644049602,
          0.05295254773404516,
          0.06625445502237536,
          0.493699014947073,
          0.0776521234653803,
          0.04615810938690619,
          0.07323200038117814,
          0.036843059016529234,
          0.0009156266447356734,
          0.3217877953059746,
          0.9079463189150097,
          0.044836175536782125,
          0.0780800948980655,
          0.7069509071201622,
          0.7521888148198222,
          0.3507325771126936,
          0.07013147115716564,
          0.0012681359404245953,
          0.07968442162536367,
          0.08526561785067635,
          0.06322123037039123,
          0.7337507279000437,
          0.00119696998300658,
          0.836729051690947,
          0.07958601825918561,
          0.3868240793846954,
          0.06623404829818229,
          0.07828247243779166,
          0.5912514968652809,
          0.058749703797010264,
          0.6923870416076405,
          0.7514102071367171,
          0.37423809841357897,
          0.7700970892524566,
          0.6998112357317363,
          0.0008968556397545725,
          0.7548275709236442,
          0.5836554430615325,
          0.7966407601805887,
          0.7670561876410065,
          0.6377969247702513,
          0.7049438594967133,
          0.7898950099519197,
          0.04840147184552871,
          0.7681843515799336,
          0.8214341753371259,
          0.05333440718686506,
          0.8036982735148848,
          0.6791519354233074,
          0.7549681913787053,
          0.059894452100580156,
          0.06618510296348978,
          0.8129265209558098,
          0.04873053579366733,
          0.05748971769674124,
          0.07136335819835712,
          0.6979395586546918,
          0.001257802760216449,
          0.33342346649807486,
          0.38075192861401985,
          0.7978662300043479,
          0.0012515874823505809,
          0.06107835319713857,
          0.6789994583645229,
          0.49463841175350376,
          0.08474363820028913,
          0.47648364198070337,
          0.04408703318457238,
          0.7808855311616227,
          0.04343553608171892,
          0.8709268526543701,
          0.5032141274513668,
          0.06490841844869706,
          0.04462734025822841,
          0.36949113262103056,
          0.04626795011619269,
          0.04778971683882477,
          0.08744082919342146,
          0.0013444334077953226,
          0.8230239525716636,
          0.4515732768616602,
          0.6714158542058336,
          0.06063837294766166,
          0.08165690705580943,
          0.5516235898924349,
          0.0011232672676364053,
          0.04360900372176447,
          0.42881188859250907,
          0.09238816176071392,
          0.0555826347398904,
          0.04521271780466155,
          0.053936792593525136,
          0.08026657507287734,
          0.06325109568058992,
          0.8581903593753132,
          0.07574569917811168,
          0.4505725119534065,
          0.3165360716134345,
          0.05841919746345552,
          0.8589220078965084,
          0.49121531469741403,
          0.8536373438803126,
          0.5204389532145546,
          0.797152366945479,
          0.8090861380625196,
          0.07715042195256124,
          0.4067399530598817,
          0.8069876551901266,
          0.05591794141676661,
          0.6677199098681375,
          0.0014737946686898748,
          0.06912868329191285,
          0.3689019676341168,
          0.045894996820184816,
          0.0916743866144182,
          0.07736011838163713,
          0.8723421131481285,
          0.07754423095795472,
          0.07623796527023598,
          0.7368006649351495,
          0.056396341409849296,
          0.7342560548444041,
          0.06284394370455182,
          0.8019297088139847,
          0.04029513613923999,
          0.04451475953933539,
          0.8498715903460153,
          0.48510065823663556,
          0.052089148265767174,
          0.59341041744462,
          0.3768774059235996,
          0.000873448760136331,
          0.047900889210672856,
          0.6667451505983879,
          0.0012165937440670469,
          0.0013004743610188112,
          0.0006053994974449155,
          0.04749776985395647,
          0.4764704206560306,
          0.04790532101836918,
          0.04522182885055206,
          0.5091318602715982,
          0.06780949378478679,
          0.4199699977589315,
          0.3895084486935068,
          0.5460951155521482,
          0.6578797139364315,
          0.066032457489782,
          0.06874298031576039,
          0.6870731611615682,
          0.820710855197093,
          0.3164875953006018,
          0.7454754002127242,
          0.8365923439918471,
          0.38849473697043607,
          0.04685582954126528,
          0.4900209554842112,
          0.043598902115415006,
          0.047610425403755555,
          0.5391958129145378,
          0.08901868033632357,
          0.7328342424250991,
          0.06773868811954684,
          0.7551710356928156,
          0.055073389629767704,
          0.7736527098123298,
          0.7522179776397282,
          0.4115120271160328,
          0.4331359088848691,
          0.3936455259295673,
          0.04514912909291047,
          0.043161076196169684,
          0.6430633738071496,
          0.6332267422777923,
          0.07119582641444716,
          0.8286564937195959,
          0.0014966862994386788,
          0.09480178802670523,
          0.042904826537699926,
          0.07932535431363794,
          0.6179962318651945,
          0.0564606869284132,
          0.0580168410948231,
          0.8251352913388874,
          0.05389916260326222,
          0.05673463380869689,
          0.5482107633880073,
          0.08318519572885215,
          0.0378200081135228,
          0.0012215675111756032,
          0.04610686554246235,
          0.04773111089785135,
          0.521358407437873,
          0.056900715520672544,
          0.048368070060751056,
          0.48243134714475344,
          0.061039841328474335,
          0.04668898943785105,
          0.049920535444833346,
          0.48214952020837987,
          0.07575357630586502,
          0.786219810866288,
          0.09026720954811117,
          0.06923411491102992,
          0.09281069024329097,
          0.051318311835777265,
          0.39082543743562703,
          0.8399462077504736,
          0.05828673667965346,
          0.8110767063500197,
          0.0007724648348217095,
          0.6696206612206199,
          0.7587641758053846,
          0.329850525655261,
          0.8915131142307177,
          0.12387861445857294,
          0.03797959606989204,
          0.3469667078957409,
          0.05074033757611413,
          0.07545327043699449,
          0.7663451543589989,
          0.04402405881929971,
          0.510121452814491,
          0.8450209787791432,
          0.07105158357354284,
          0.33808259734218143,
          0.04021257921837009,
          0.0432371933492309,
          0.31192274203511183,
          0.5416227275848747,
          0.8445079859721958,
          0.08376911863880558,
          0.8428434856127632,
          0.3237695729912567,
          0.0470753223802786,
          0.6727430771991697,
          0.07185721268330524,
          0.055584800338348055,
          0.06958052598703617,
          0.7585516108127832,
          0.4685277493371338,
          0.48961713446807054,
          0.43013532149873585,
          0.5769246008384856,
          0.7111491615660068,
          0.7178957819534654,
          0.8034292633061259,
          0.039425335694679445,
          0.051879109577529184,
          0.0890955008136386,
          0.06082104697243941,
          0.33785192421810306,
          0.07455534062114622,
          0.6520784706436814,
          0.03937341331671021,
          0.039784751990829585,
          0.001714153942317075,
          0.4714605041808273,
          0.4948547499463143,
          0.04606765783196317,
          0.08931405016973772,
          0.4776684999649942,
          0.05039626028537294,
          0.06941246054952951,
          0.05767930038471098,
          0.0010959315126539244,
          0.0011461024483573673,
          0.32580615884117864,
          0.07066012581985796,
          0.31945319156471574,
          0.060892018793009296,
          0.0481030983112831,
          0.06792101642052421,
          0.7866327323650744,
          0.038678680228881164,
          0.04933839255809046,
          0.36126911049292637,
          0.5100388451329643,
          0.8175961640733271,
          0.7513089544200305,
          0.463502613294651,
          0.46812448213704816,
          0.4384647984797803,
          0.60195206888472,
          0.8708416536830631,
          0.03869898730757893,
          0.45123454589348466,
          0.05465761003249747,
          0.07539023054588768,
          0.7456056785319418,
          0.7343411715512412,
          0.05045657095560405,
          0.04392940152617853,
          0.4689463025506384,
          0.49479079341662985,
          0.7983544010075906
         ],
         "yaxis": "y"
        }
       ],
       "layout": {
        "coloraxis": {
         "colorbar": {
          "title": {
           "text": "Stroke"
          }
         },
         "colorscale": [
          [
           0,
           "#0d0887"
          ],
          [
           0.1111111111111111,
           "#46039f"
          ],
          [
           0.2222222222222222,
           "#7201a8"
          ],
          [
           0.3333333333333333,
           "#9c179e"
          ],
          [
           0.4444444444444444,
           "#bd3786"
          ],
          [
           0.5555555555555556,
           "#d8576b"
          ],
          [
           0.6666666666666666,
           "#ed7953"
          ],
          [
           0.7777777777777778,
           "#fb9f3a"
          ],
          [
           0.8888888888888888,
           "#fdca26"
          ],
          [
           1,
           "#f0f921"
          ]
         ]
        },
        "legend": {
         "tracegroupgap": 0
        },
        "template": {
         "data": {
          "bar": [
           {
            "error_x": {
             "color": "#2a3f5f"
            },
            "error_y": {
             "color": "#2a3f5f"
            },
            "marker": {
             "line": {
              "color": "#E5ECF6",
              "width": 0.5
             },
             "pattern": {
              "fillmode": "overlay",
              "size": 10,
              "solidity": 0.2
             }
            },
            "type": "bar"
           }
          ],
          "barpolar": [
           {
            "marker": {
             "line": {
              "color": "#E5ECF6",
              "width": 0.5
             },
             "pattern": {
              "fillmode": "overlay",
              "size": 10,
              "solidity": 0.2
             }
            },
            "type": "barpolar"
           }
          ],
          "carpet": [
           {
            "aaxis": {
             "endlinecolor": "#2a3f5f",
             "gridcolor": "white",
             "linecolor": "white",
             "minorgridcolor": "white",
             "startlinecolor": "#2a3f5f"
            },
            "baxis": {
             "endlinecolor": "#2a3f5f",
             "gridcolor": "white",
             "linecolor": "white",
             "minorgridcolor": "white",
             "startlinecolor": "#2a3f5f"
            },
            "type": "carpet"
           }
          ],
          "choropleth": [
           {
            "colorbar": {
             "outlinewidth": 0,
             "ticks": ""
            },
            "type": "choropleth"
           }
          ],
          "contour": [
           {
            "colorbar": {
             "outlinewidth": 0,
             "ticks": ""
            },
            "colorscale": [
             [
              0,
              "#0d0887"
             ],
             [
              0.1111111111111111,
              "#46039f"
             ],
             [
              0.2222222222222222,
              "#7201a8"
             ],
             [
              0.3333333333333333,
              "#9c179e"
             ],
             [
              0.4444444444444444,
              "#bd3786"
             ],
             [
              0.5555555555555556,
              "#d8576b"
             ],
             [
              0.6666666666666666,
              "#ed7953"
             ],
             [
              0.7777777777777778,
              "#fb9f3a"
             ],
             [
              0.8888888888888888,
              "#fdca26"
             ],
             [
              1,
              "#f0f921"
             ]
            ],
            "type": "contour"
           }
          ],
          "contourcarpet": [
           {
            "colorbar": {
             "outlinewidth": 0,
             "ticks": ""
            },
            "type": "contourcarpet"
           }
          ],
          "heatmap": [
           {
            "colorbar": {
             "outlinewidth": 0,
             "ticks": ""
            },
            "colorscale": [
             [
              0,
              "#0d0887"
             ],
             [
              0.1111111111111111,
              "#46039f"
             ],
             [
              0.2222222222222222,
              "#7201a8"
             ],
             [
              0.3333333333333333,
              "#9c179e"
             ],
             [
              0.4444444444444444,
              "#bd3786"
             ],
             [
              0.5555555555555556,
              "#d8576b"
             ],
             [
              0.6666666666666666,
              "#ed7953"
             ],
             [
              0.7777777777777778,
              "#fb9f3a"
             ],
             [
              0.8888888888888888,
              "#fdca26"
             ],
             [
              1,
              "#f0f921"
             ]
            ],
            "type": "heatmap"
           }
          ],
          "heatmapgl": [
           {
            "colorbar": {
             "outlinewidth": 0,
             "ticks": ""
            },
            "colorscale": [
             [
              0,
              "#0d0887"
             ],
             [
              0.1111111111111111,
              "#46039f"
             ],
             [
              0.2222222222222222,
              "#7201a8"
             ],
             [
              0.3333333333333333,
              "#9c179e"
             ],
             [
              0.4444444444444444,
              "#bd3786"
             ],
             [
              0.5555555555555556,
              "#d8576b"
             ],
             [
              0.6666666666666666,
              "#ed7953"
             ],
             [
              0.7777777777777778,
              "#fb9f3a"
             ],
             [
              0.8888888888888888,
              "#fdca26"
             ],
             [
              1,
              "#f0f921"
             ]
            ],
            "type": "heatmapgl"
           }
          ],
          "histogram": [
           {
            "marker": {
             "pattern": {
              "fillmode": "overlay",
              "size": 10,
              "solidity": 0.2
             }
            },
            "type": "histogram"
           }
          ],
          "histogram2d": [
           {
            "colorbar": {
             "outlinewidth": 0,
             "ticks": ""
            },
            "colorscale": [
             [
              0,
              "#0d0887"
             ],
             [
              0.1111111111111111,
              "#46039f"
             ],
             [
              0.2222222222222222,
              "#7201a8"
             ],
             [
              0.3333333333333333,
              "#9c179e"
             ],
             [
              0.4444444444444444,
              "#bd3786"
             ],
             [
              0.5555555555555556,
              "#d8576b"
             ],
             [
              0.6666666666666666,
              "#ed7953"
             ],
             [
              0.7777777777777778,
              "#fb9f3a"
             ],
             [
              0.8888888888888888,
              "#fdca26"
             ],
             [
              1,
              "#f0f921"
             ]
            ],
            "type": "histogram2d"
           }
          ],
          "histogram2dcontour": [
           {
            "colorbar": {
             "outlinewidth": 0,
             "ticks": ""
            },
            "colorscale": [
             [
              0,
              "#0d0887"
             ],
             [
              0.1111111111111111,
              "#46039f"
             ],
             [
              0.2222222222222222,
              "#7201a8"
             ],
             [
              0.3333333333333333,
              "#9c179e"
             ],
             [
              0.4444444444444444,
              "#bd3786"
             ],
             [
              0.5555555555555556,
              "#d8576b"
             ],
             [
              0.6666666666666666,
              "#ed7953"
             ],
             [
              0.7777777777777778,
              "#fb9f3a"
             ],
             [
              0.8888888888888888,
              "#fdca26"
             ],
             [
              1,
              "#f0f921"
             ]
            ],
            "type": "histogram2dcontour"
           }
          ],
          "mesh3d": [
           {
            "colorbar": {
             "outlinewidth": 0,
             "ticks": ""
            },
            "type": "mesh3d"
           }
          ],
          "parcoords": [
           {
            "line": {
             "colorbar": {
              "outlinewidth": 0,
              "ticks": ""
             }
            },
            "type": "parcoords"
           }
          ],
          "pie": [
           {
            "automargin": true,
            "type": "pie"
           }
          ],
          "scatter": [
           {
            "fillpattern": {
             "fillmode": "overlay",
             "size": 10,
             "solidity": 0.2
            },
            "type": "scatter"
           }
          ],
          "scatter3d": [
           {
            "line": {
             "colorbar": {
              "outlinewidth": 0,
              "ticks": ""
             }
            },
            "marker": {
             "colorbar": {
              "outlinewidth": 0,
              "ticks": ""
             }
            },
            "type": "scatter3d"
           }
          ],
          "scattercarpet": [
           {
            "marker": {
             "colorbar": {
              "outlinewidth": 0,
              "ticks": ""
             }
            },
            "type": "scattercarpet"
           }
          ],
          "scattergeo": [
           {
            "marker": {
             "colorbar": {
              "outlinewidth": 0,
              "ticks": ""
             }
            },
            "type": "scattergeo"
           }
          ],
          "scattergl": [
           {
            "marker": {
             "colorbar": {
              "outlinewidth": 0,
              "ticks": ""
             }
            },
            "type": "scattergl"
           }
          ],
          "scattermapbox": [
           {
            "marker": {
             "colorbar": {
              "outlinewidth": 0,
              "ticks": ""
             }
            },
            "type": "scattermapbox"
           }
          ],
          "scatterpolar": [
           {
            "marker": {
             "colorbar": {
              "outlinewidth": 0,
              "ticks": ""
             }
            },
            "type": "scatterpolar"
           }
          ],
          "scatterpolargl": [
           {
            "marker": {
             "colorbar": {
              "outlinewidth": 0,
              "ticks": ""
             }
            },
            "type": "scatterpolargl"
           }
          ],
          "scatterternary": [
           {
            "marker": {
             "colorbar": {
              "outlinewidth": 0,
              "ticks": ""
             }
            },
            "type": "scatterternary"
           }
          ],
          "surface": [
           {
            "colorbar": {
             "outlinewidth": 0,
             "ticks": ""
            },
            "colorscale": [
             [
              0,
              "#0d0887"
             ],
             [
              0.1111111111111111,
              "#46039f"
             ],
             [
              0.2222222222222222,
              "#7201a8"
             ],
             [
              0.3333333333333333,
              "#9c179e"
             ],
             [
              0.4444444444444444,
              "#bd3786"
             ],
             [
              0.5555555555555556,
              "#d8576b"
             ],
             [
              0.6666666666666666,
              "#ed7953"
             ],
             [
              0.7777777777777778,
              "#fb9f3a"
             ],
             [
              0.8888888888888888,
              "#fdca26"
             ],
             [
              1,
              "#f0f921"
             ]
            ],
            "type": "surface"
           }
          ],
          "table": [
           {
            "cells": {
             "fill": {
              "color": "#EBF0F8"
             },
             "line": {
              "color": "white"
             }
            },
            "header": {
             "fill": {
              "color": "#C8D4E3"
             },
             "line": {
              "color": "white"
             }
            },
            "type": "table"
           }
          ]
         },
         "layout": {
          "annotationdefaults": {
           "arrowcolor": "#2a3f5f",
           "arrowhead": 0,
           "arrowwidth": 1
          },
          "autotypenumbers": "strict",
          "coloraxis": {
           "colorbar": {
            "outlinewidth": 0,
            "ticks": ""
           }
          },
          "colorscale": {
           "diverging": [
            [
             0,
             "#8e0152"
            ],
            [
             0.1,
             "#c51b7d"
            ],
            [
             0.2,
             "#de77ae"
            ],
            [
             0.3,
             "#f1b6da"
            ],
            [
             0.4,
             "#fde0ef"
            ],
            [
             0.5,
             "#f7f7f7"
            ],
            [
             0.6,
             "#e6f5d0"
            ],
            [
             0.7,
             "#b8e186"
            ],
            [
             0.8,
             "#7fbc41"
            ],
            [
             0.9,
             "#4d9221"
            ],
            [
             1,
             "#276419"
            ]
           ],
           "sequential": [
            [
             0,
             "#0d0887"
            ],
            [
             0.1111111111111111,
             "#46039f"
            ],
            [
             0.2222222222222222,
             "#7201a8"
            ],
            [
             0.3333333333333333,
             "#9c179e"
            ],
            [
             0.4444444444444444,
             "#bd3786"
            ],
            [
             0.5555555555555556,
             "#d8576b"
            ],
            [
             0.6666666666666666,
             "#ed7953"
            ],
            [
             0.7777777777777778,
             "#fb9f3a"
            ],
            [
             0.8888888888888888,
             "#fdca26"
            ],
            [
             1,
             "#f0f921"
            ]
           ],
           "sequentialminus": [
            [
             0,
             "#0d0887"
            ],
            [
             0.1111111111111111,
             "#46039f"
            ],
            [
             0.2222222222222222,
             "#7201a8"
            ],
            [
             0.3333333333333333,
             "#9c179e"
            ],
            [
             0.4444444444444444,
             "#bd3786"
            ],
            [
             0.5555555555555556,
             "#d8576b"
            ],
            [
             0.6666666666666666,
             "#ed7953"
            ],
            [
             0.7777777777777778,
             "#fb9f3a"
            ],
            [
             0.8888888888888888,
             "#fdca26"
            ],
            [
             1,
             "#f0f921"
            ]
           ]
          },
          "colorway": [
           "#636efa",
           "#EF553B",
           "#00cc96",
           "#ab63fa",
           "#FFA15A",
           "#19d3f3",
           "#FF6692",
           "#B6E880",
           "#FF97FF",
           "#FECB52"
          ],
          "font": {
           "color": "#2a3f5f"
          },
          "geo": {
           "bgcolor": "white",
           "lakecolor": "white",
           "landcolor": "#E5ECF6",
           "showlakes": true,
           "showland": true,
           "subunitcolor": "white"
          },
          "hoverlabel": {
           "align": "left"
          },
          "hovermode": "closest",
          "mapbox": {
           "style": "light"
          },
          "paper_bgcolor": "white",
          "plot_bgcolor": "#E5ECF6",
          "polar": {
           "angularaxis": {
            "gridcolor": "white",
            "linecolor": "white",
            "ticks": ""
           },
           "bgcolor": "#E5ECF6",
           "radialaxis": {
            "gridcolor": "white",
            "linecolor": "white",
            "ticks": ""
           }
          },
          "scene": {
           "xaxis": {
            "backgroundcolor": "#E5ECF6",
            "gridcolor": "white",
            "gridwidth": 2,
            "linecolor": "white",
            "showbackground": true,
            "ticks": "",
            "zerolinecolor": "white"
           },
           "yaxis": {
            "backgroundcolor": "#E5ECF6",
            "gridcolor": "white",
            "gridwidth": 2,
            "linecolor": "white",
            "showbackground": true,
            "ticks": "",
            "zerolinecolor": "white"
           },
           "zaxis": {
            "backgroundcolor": "#E5ECF6",
            "gridcolor": "white",
            "gridwidth": 2,
            "linecolor": "white",
            "showbackground": true,
            "ticks": "",
            "zerolinecolor": "white"
           }
          },
          "shapedefaults": {
           "line": {
            "color": "#2a3f5f"
           }
          },
          "ternary": {
           "aaxis": {
            "gridcolor": "white",
            "linecolor": "white",
            "ticks": ""
           },
           "baxis": {
            "gridcolor": "white",
            "linecolor": "white",
            "ticks": ""
           },
           "bgcolor": "#E5ECF6",
           "caxis": {
            "gridcolor": "white",
            "linecolor": "white",
            "ticks": ""
           }
          },
          "title": {
           "x": 0.05
          },
          "xaxis": {
           "automargin": true,
           "gridcolor": "white",
           "linecolor": "white",
           "ticks": "",
           "title": {
            "standoff": 15
           },
           "zerolinecolor": "white",
           "zerolinewidth": 2
          },
          "yaxis": {
           "automargin": true,
           "gridcolor": "white",
           "linecolor": "white",
           "ticks": "",
           "title": {
            "standoff": 15
           },
           "zerolinecolor": "white",
           "zerolinewidth": 2
          }
         }
        },
        "title": {
         "text": "Glucose Levels vs Stroke Prediction"
        },
        "xaxis": {
         "anchor": "y",
         "domain": [
          0,
          1
         ],
         "title": {
          "text": "Avg Glucose Level"
         }
        },
        "yaxis": {
         "anchor": "x",
         "domain": [
          0,
          1
         ],
         "title": {
          "text": "Stroke Probability"
         }
        }
       }
      }
     },
     "metadata": {},
     "output_type": "display_data"
    }
   ],
   "source": [
    "import plotly.express as px\n",
    "\n",
    "# Combine data\n",
    "glucose_stroke = pd.DataFrame({'Avg Glucose Level': x_test['avg_glucose_level'], \n",
    "                               'Stroke Probability': y_prob, \n",
    "                               'Stroke': y_test})\n",
    "\n",
    "# Plot\n",
    "fig = px.scatter(glucose_stroke, x='Avg Glucose Level', y='Stroke Probability', color='Stroke', \n",
    "                 title='Glucose Levels vs Stroke Prediction')\n",
    "fig.show()\n"
   ]
  },
  {
   "cell_type": "markdown",
   "metadata": {},
   "source": [
    "- ##### **4. BMI vs Stroke Prediction (Categorized by Smoking Status)**"
   ]
  },
  {
   "cell_type": "code",
   "execution_count": 353,
   "metadata": {},
   "outputs": [
    {
     "data": {
      "application/vnd.plotly.v1+json": {
       "config": {
        "plotlyServerURL": "https://plot.ly"
       },
       "data": [
        {
         "alignmentgroup": "True",
         "hovertemplate": "Smoking Status=%{x}<br>Stroke Probability=%{y}<extra></extra>",
         "legendgroup": "never smoked",
         "marker": {
          "color": "#636efa"
         },
         "name": "never smoked",
         "notched": false,
         "offsetgroup": "never smoked",
         "orientation": "v",
         "showlegend": true,
         "type": "box",
         "x": [
          "never smoked",
          "never smoked",
          "never smoked",
          "never smoked",
          "never smoked",
          "never smoked",
          "never smoked",
          "never smoked",
          "never smoked",
          "never smoked",
          "never smoked",
          "never smoked",
          "never smoked",
          "never smoked",
          "never smoked",
          "never smoked",
          "never smoked",
          "never smoked",
          "never smoked",
          "never smoked",
          "never smoked",
          "never smoked",
          "never smoked",
          "never smoked",
          "never smoked",
          "never smoked",
          "never smoked",
          "never smoked",
          "never smoked",
          "never smoked",
          "never smoked",
          "never smoked",
          "never smoked",
          "never smoked",
          "never smoked",
          "never smoked",
          "never smoked",
          "never smoked",
          "never smoked",
          "never smoked",
          "never smoked",
          "never smoked",
          "never smoked",
          "never smoked",
          "never smoked",
          "never smoked",
          "never smoked",
          "never smoked",
          "never smoked",
          "never smoked",
          "never smoked",
          "never smoked",
          "never smoked",
          "never smoked",
          "never smoked",
          "never smoked",
          "never smoked",
          "never smoked",
          "never smoked",
          "never smoked",
          "never smoked",
          "never smoked",
          "never smoked",
          "never smoked",
          "never smoked",
          "never smoked",
          "never smoked",
          "never smoked",
          "never smoked",
          "never smoked",
          "never smoked",
          "never smoked",
          "never smoked",
          "never smoked",
          "never smoked",
          "never smoked",
          "never smoked",
          "never smoked",
          "never smoked",
          "never smoked",
          "never smoked",
          "never smoked",
          "never smoked",
          "never smoked",
          "never smoked",
          "never smoked",
          "never smoked",
          "never smoked",
          "never smoked",
          "never smoked",
          "never smoked",
          "never smoked",
          "never smoked",
          "never smoked",
          "never smoked",
          "never smoked",
          "never smoked",
          "never smoked",
          "never smoked",
          "never smoked",
          "never smoked",
          "never smoked",
          "never smoked",
          "never smoked",
          "never smoked",
          "never smoked",
          "never smoked",
          "never smoked",
          "never smoked",
          "never smoked",
          "never smoked",
          "never smoked",
          "never smoked",
          "never smoked",
          "never smoked",
          "never smoked",
          "never smoked",
          "never smoked",
          "never smoked",
          "never smoked",
          "never smoked",
          "never smoked",
          "never smoked",
          "never smoked",
          "never smoked",
          "never smoked",
          "never smoked",
          "never smoked",
          "never smoked",
          "never smoked",
          "never smoked",
          "never smoked",
          "never smoked",
          "never smoked",
          "never smoked",
          "never smoked",
          "never smoked",
          "never smoked",
          "never smoked",
          "never smoked",
          "never smoked",
          "never smoked",
          "never smoked",
          "never smoked",
          "never smoked",
          "never smoked",
          "never smoked",
          "never smoked",
          "never smoked",
          "never smoked",
          "never smoked",
          "never smoked",
          "never smoked",
          "never smoked",
          "never smoked",
          "never smoked",
          "never smoked",
          "never smoked",
          "never smoked",
          "never smoked",
          "never smoked",
          "never smoked",
          "never smoked",
          "never smoked",
          "never smoked",
          "never smoked",
          "never smoked",
          "never smoked",
          "never smoked",
          "never smoked",
          "never smoked",
          "never smoked",
          "never smoked",
          "never smoked",
          "never smoked",
          "never smoked",
          "never smoked",
          "never smoked",
          "never smoked",
          "never smoked",
          "never smoked",
          "never smoked",
          "never smoked",
          "never smoked",
          "never smoked",
          "never smoked",
          "never smoked",
          "never smoked",
          "never smoked",
          "never smoked",
          "never smoked",
          "never smoked",
          "never smoked",
          "never smoked",
          "never smoked",
          "never smoked",
          "never smoked",
          "never smoked",
          "never smoked",
          "never smoked",
          "never smoked",
          "never smoked",
          "never smoked",
          "never smoked",
          "never smoked",
          "never smoked",
          "never smoked",
          "never smoked",
          "never smoked",
          "never smoked",
          "never smoked",
          "never smoked",
          "never smoked",
          "never smoked",
          "never smoked",
          "never smoked",
          "never smoked",
          "never smoked",
          "never smoked",
          "never smoked",
          "never smoked",
          "never smoked",
          "never smoked",
          "never smoked",
          "never smoked",
          "never smoked",
          "never smoked",
          "never smoked",
          "never smoked",
          "never smoked",
          "never smoked",
          "never smoked",
          "never smoked",
          "never smoked",
          "never smoked",
          "never smoked",
          "never smoked",
          "never smoked",
          "never smoked",
          "never smoked",
          "never smoked",
          "never smoked",
          "never smoked",
          "never smoked",
          "never smoked",
          "never smoked",
          "never smoked",
          "never smoked",
          "never smoked",
          "never smoked",
          "never smoked",
          "never smoked",
          "never smoked",
          "never smoked",
          "never smoked",
          "never smoked",
          "never smoked",
          "never smoked",
          "never smoked",
          "never smoked",
          "never smoked",
          "never smoked",
          "never smoked",
          "never smoked",
          "never smoked",
          "never smoked",
          "never smoked",
          "never smoked",
          "never smoked",
          "never smoked",
          "never smoked",
          "never smoked",
          "never smoked",
          "never smoked",
          "never smoked",
          "never smoked",
          "never smoked",
          "never smoked",
          "never smoked",
          "never smoked",
          "never smoked",
          "never smoked",
          "never smoked",
          "never smoked",
          "never smoked",
          "never smoked",
          "never smoked",
          "never smoked",
          "never smoked",
          "never smoked",
          "never smoked",
          "never smoked",
          "never smoked",
          "never smoked",
          "never smoked",
          "never smoked",
          "never smoked",
          "never smoked",
          "never smoked",
          "never smoked",
          "never smoked",
          "never smoked",
          "never smoked",
          "never smoked",
          "never smoked",
          "never smoked",
          "never smoked",
          "never smoked",
          "never smoked",
          "never smoked",
          "never smoked",
          "never smoked",
          "never smoked",
          "never smoked",
          "never smoked",
          "never smoked",
          "never smoked",
          "never smoked",
          "never smoked",
          "never smoked",
          "never smoked",
          "never smoked",
          "never smoked",
          "never smoked",
          "never smoked",
          "never smoked",
          "never smoked",
          "never smoked",
          "never smoked",
          "never smoked",
          "never smoked",
          "never smoked",
          "never smoked",
          "never smoked",
          "never smoked",
          "never smoked",
          "never smoked",
          "never smoked",
          "never smoked",
          "never smoked",
          "never smoked",
          "never smoked",
          "never smoked",
          "never smoked",
          "never smoked",
          "never smoked",
          "never smoked",
          "never smoked",
          "never smoked",
          "never smoked",
          "never smoked",
          "never smoked",
          "never smoked",
          "never smoked",
          "never smoked",
          "never smoked",
          "never smoked",
          "never smoked",
          "never smoked",
          "never smoked",
          "never smoked",
          "never smoked",
          "never smoked",
          "never smoked",
          "never smoked",
          "never smoked",
          "never smoked",
          "never smoked",
          "never smoked",
          "never smoked",
          "never smoked",
          "never smoked",
          "never smoked",
          "never smoked",
          "never smoked",
          "never smoked",
          "never smoked",
          "never smoked",
          "never smoked",
          "never smoked",
          "never smoked",
          "never smoked",
          "never smoked",
          "never smoked",
          "never smoked",
          "never smoked",
          "never smoked",
          "never smoked",
          "never smoked",
          "never smoked",
          "never smoked",
          "never smoked",
          "never smoked",
          "never smoked",
          "never smoked",
          "never smoked",
          "never smoked",
          "never smoked",
          "never smoked",
          "never smoked",
          "never smoked",
          "never smoked",
          "never smoked",
          "never smoked",
          "never smoked",
          "never smoked",
          "never smoked",
          "never smoked",
          "never smoked",
          "never smoked",
          "never smoked",
          "never smoked",
          "never smoked",
          "never smoked",
          "never smoked",
          "never smoked",
          "never smoked",
          "never smoked",
          "never smoked",
          "never smoked",
          "never smoked",
          "never smoked",
          "never smoked",
          "never smoked",
          "never smoked",
          "never smoked",
          "never smoked",
          "never smoked",
          "never smoked",
          "never smoked",
          "never smoked",
          "never smoked",
          "never smoked",
          "never smoked",
          "never smoked",
          "never smoked",
          "never smoked",
          "never smoked",
          "never smoked",
          "never smoked",
          "never smoked",
          "never smoked",
          "never smoked",
          "never smoked",
          "never smoked",
          "never smoked",
          "never smoked",
          "never smoked",
          "never smoked",
          "never smoked",
          "never smoked",
          "never smoked",
          "never smoked",
          "never smoked",
          "never smoked",
          "never smoked",
          "never smoked",
          "never smoked",
          "never smoked",
          "never smoked",
          "never smoked",
          "never smoked",
          "never smoked",
          "never smoked",
          "never smoked",
          "never smoked",
          "never smoked",
          "never smoked",
          "never smoked",
          "never smoked",
          "never smoked",
          "never smoked",
          "never smoked",
          "never smoked",
          "never smoked",
          "never smoked",
          "never smoked",
          "never smoked",
          "never smoked",
          "never smoked",
          "never smoked",
          "never smoked",
          "never smoked",
          "never smoked",
          "never smoked",
          "never smoked",
          "never smoked",
          "never smoked",
          "never smoked",
          "never smoked",
          "never smoked",
          "never smoked",
          "never smoked",
          "never smoked",
          "never smoked",
          "never smoked",
          "never smoked",
          "never smoked",
          "never smoked",
          "never smoked",
          "never smoked",
          "never smoked",
          "never smoked",
          "never smoked",
          "never smoked",
          "never smoked",
          "never smoked",
          "never smoked",
          "never smoked",
          "never smoked",
          "never smoked",
          "never smoked",
          "never smoked",
          "never smoked",
          "never smoked",
          "never smoked",
          "never smoked",
          "never smoked",
          "never smoked",
          "never smoked",
          "never smoked",
          "never smoked",
          "never smoked",
          "never smoked",
          "never smoked",
          "never smoked",
          "never smoked",
          "never smoked",
          "never smoked",
          "never smoked",
          "never smoked",
          "never smoked",
          "never smoked",
          "never smoked",
          "never smoked",
          "never smoked",
          "never smoked",
          "never smoked",
          "never smoked",
          "never smoked",
          "never smoked",
          "never smoked",
          "never smoked",
          "never smoked",
          "never smoked",
          "never smoked",
          "never smoked",
          "never smoked",
          "never smoked",
          "never smoked",
          "never smoked",
          "never smoked",
          "never smoked",
          "never smoked",
          "never smoked",
          "never smoked",
          "never smoked",
          "never smoked",
          "never smoked",
          "never smoked",
          "never smoked",
          "never smoked",
          "never smoked",
          "never smoked",
          "never smoked",
          "never smoked",
          "never smoked",
          "never smoked",
          "never smoked",
          "never smoked",
          "never smoked",
          "never smoked",
          "never smoked",
          "never smoked",
          "never smoked",
          "never smoked",
          "never smoked",
          "never smoked",
          "never smoked",
          "never smoked",
          "never smoked",
          "never smoked",
          "never smoked",
          "never smoked",
          "never smoked",
          "never smoked",
          "never smoked",
          "never smoked",
          "never smoked",
          "never smoked",
          "never smoked",
          "never smoked",
          "never smoked",
          "never smoked",
          "never smoked",
          "never smoked",
          "never smoked",
          "never smoked",
          "never smoked",
          "never smoked",
          "never smoked",
          "never smoked",
          "never smoked",
          "never smoked",
          "never smoked",
          "never smoked",
          "never smoked",
          "never smoked",
          "never smoked",
          "never smoked",
          "never smoked",
          "never smoked",
          "never smoked",
          "never smoked",
          "never smoked",
          "never smoked",
          "never smoked",
          "never smoked",
          "never smoked",
          "never smoked",
          "never smoked",
          "never smoked",
          "never smoked",
          "never smoked",
          "never smoked",
          "never smoked",
          "never smoked",
          "never smoked",
          "never smoked",
          "never smoked",
          "never smoked",
          "never smoked",
          "never smoked",
          "never smoked",
          "never smoked",
          "never smoked",
          "never smoked",
          "never smoked",
          "never smoked",
          "never smoked",
          "never smoked",
          "never smoked",
          "never smoked",
          "never smoked",
          "never smoked",
          "never smoked",
          "never smoked",
          "never smoked",
          "never smoked",
          "never smoked",
          "never smoked",
          "never smoked",
          "never smoked",
          "never smoked",
          "never smoked",
          "never smoked",
          "never smoked",
          "never smoked",
          "never smoked",
          "never smoked",
          "never smoked",
          "never smoked",
          "never smoked",
          "never smoked",
          "never smoked",
          "never smoked",
          "never smoked",
          "never smoked",
          "never smoked",
          "never smoked",
          "never smoked",
          "never smoked",
          "never smoked",
          "never smoked",
          "never smoked",
          "never smoked",
          "never smoked",
          "never smoked",
          "never smoked",
          "never smoked",
          "never smoked",
          "never smoked",
          "never smoked",
          "never smoked",
          "never smoked",
          "never smoked",
          "never smoked",
          "never smoked",
          "never smoked",
          "never smoked",
          "never smoked",
          "never smoked",
          "never smoked",
          "never smoked",
          "never smoked",
          "never smoked"
         ],
         "x0": " ",
         "xaxis": "x",
         "y": [
          0.0476856119857053,
          0.04244175906105958,
          0.04587793300743764,
          0.800501067369021,
          0.6701037439953708,
          0.7888731295206112,
          0.0007490259786664978,
          0.04597305387455326,
          0.040679563070951184,
          0.0489364675248634,
          0.431625748743643,
          0.4084187781884069,
          0.044477585472596205,
          0.09419632363009907,
          0.047383846737130655,
          0.0512605489667232,
          0.08133597952810583,
          0.039370534382100204,
          0.046223869214176413,
          0.0015781341939489389,
          0.08408150515831576,
          0.3105042087268927,
          0.04146450659689643,
          0.07705692160077547,
          0.799340452524185,
          0.04563094106264834,
          0.06175256529245669,
          0.001123086768507736,
          0.053793025229026535,
          0.8070634525328481,
          0.807907573335796,
          0.3746215628115409,
          0.09229831432773962,
          0.6693805765300439,
          0.5172077301766671,
          0.6784970991531514,
          0.04963679384451405,
          0.7647103289247519,
          0.044085871659500286,
          0.03772016491607462,
          0.07056435753993731,
          0.051205110501807684,
          0.05095067524630868,
          0.44969817574664606,
          0.8347207881972037,
          0.0885412941960106,
          0.3178967822824505,
          0.395575946259155,
          0.07878775929757005,
          0.04543881607447077,
          0.5248732577291113,
          0.8244199294547485,
          0.054340807704232226,
          0.059643036082796315,
          0.06640163740288202,
          0.6982245776983291,
          0.42321608989048165,
          0.735730234842996,
          0.6757155326604002,
          0.06201311879219061,
          0.15931134555348994,
          0.0012006514237334351,
          0.432644185438264,
          0.8304188811658285,
          0.04663939506347503,
          0.06776430725733738,
          0.44988688389275555,
          0.8636297514347464,
          0.07091413503124978,
          0.055959537515116536,
          0.5208861435296951,
          0.8523497683142275,
          0.7618757508395013,
          0.40137068775562745,
          0.04749160022167175,
          0.0822695508160835,
          0.03674807088867522,
          0.39859495296756975,
          0.054921288994875396,
          0.05971674853550788,
          0.08117078084010657,
          0.7260162675163403,
          0.43509390664757186,
          0.06258972936530015,
          0.07278996614288857,
          0.687741372356989,
          0.4139937310421648,
          0.07130645936456108,
          0.05305632841623781,
          0.4858286109669288,
          0.04566070220108577,
          0.347624989722722,
          0.7618663770461568,
          0.0013085011357340862,
          0.10305898340543201,
          0.4769593668024699,
          0.7829239348369621,
          0.48632179724070845,
          0.04584447917021476,
          0.5252645943630763,
          0.04847376077548677,
          0.03203377088455384,
          0.07556900675446257,
          0.5369239952003808,
          0.8323472523421498,
          0.04840700573872218,
          0.07969887693580044,
          0.7513957846986793,
          0.8073754635389465,
          0.7478665383743651,
          0.08108208722313855,
          0.810442920683444,
          0.08389562058615797,
          0.38099808838474425,
          0.7376622837627266,
          0.4361384727489239,
          0.7616779610319493,
          0.0687250804403015,
          0.06757943622627363,
          0.06042079646850469,
          0.042647206090697914,
          0.3865075527210668,
          0.7388726393683381,
          0.49260776154586927,
          0.03910535562625445,
          0.0660483275786229,
          0.001201614845842207,
          0.05840433072732089,
          0.7382006600855207,
          0.05216270726193418,
          0.46750686759681537,
          0.05349926270691812,
          0.1117961620042935,
          0.06631016715083267,
          0.04815831627370334,
          0.4220538656701375,
          0.050277791439801184,
          0.659152433508584,
          0.7932086588189662,
          0.09034962647738168,
          0.06814410283136643,
          0.0011211929966858463,
          0.04378414697124671,
          0.6907919893377276,
          0.046240045045474944,
          0.048523466642023116,
          0.058723940269470976,
          0.6188657241061549,
          0.10000199396364164,
          0.0397655412882291,
          0.07383306454399842,
          0.0006433742413225981,
          0.061078819645248965,
          0.05580469406843778,
          0.04118977365567297,
          0.06388379935861538,
          0.6785447225500504,
          0.7515231321728362,
          0.6506976158418032,
          0.8058146322763291,
          0.4788824156139106,
          0.0519962369686444,
          0.40818747976735836,
          0.07055297832139364,
          0.6990268608967602,
          0.05265736780792912,
          0.05385136445974205,
          0.7267864299313277,
          0.08833162077464116,
          0.04131572363016749,
          0.8038101714455091,
          0.8564444872329136,
          0.10833891982962388,
          0.6092115698755629,
          0.7875768589687039,
          0.45632685006642987,
          0.0008714403605294994,
          0.4367094811120576,
          0.06494816919511097,
          0.09328998438785492,
          0.5228109618006425,
          0.6764223475496648,
          0.32140257515867454,
          0.463361706240535,
          0.0010820557954030338,
          0.10368478803383467,
          0.6760882719810378,
          0.045896261324315867,
          0.748428459819286,
          0.04011171568340126,
          0.11347005885635571,
          0.04149748143052698,
          0.8975589583803304,
          0.0569680899698691,
          0.04993550135290279,
          0.04652628428806355,
          0.07689700292219286,
          0.07098729361023863,
          0.8320263277076141,
          0.5380549364284892,
          0.6358025448960427,
          0.07519357415595342,
          0.705192947398581,
          0.046337630889681666,
          0.06062996563446434,
          0.0009123895562523515,
          0.05219138193825579,
          0.7418004793661247,
          0.07666721904987439,
          0.7706866532493002,
          0.04699859472758859,
          0.05500444072248844,
          0.08231270785851631,
          0.08200233523718291,
          0.44694617456657,
          0.07341632323816918,
          0.6358467787396361,
          0.08252655868903434,
          0.5722284966515921,
          0.041676897793472854,
          0.04475092650552412,
          0.7557819735050407,
          0.8855928906642602,
          0.04895834144774301,
          0.09138850412570824,
          0.3916334945878775,
          0.727710539345031,
          0.04547313648960654,
          0.6994577551354005,
          0.03884778747518643,
          0.07315140210355707,
          0.08139218297286543,
          0.5010007081126456,
          0.07428329540707122,
          0.04748975752724015,
          0.04515109517649255,
          0.038768837165665176,
          0.05451285015211381,
          0.039142320185921155,
          0.07268590973811302,
          0.04544656621767038,
          0.07270511568571786,
          0.6797702304117939,
          0.7875723246446125,
          0.04449024504459094,
          0.6947572501592802,
          0.7965042924502309,
          0.8753870319141315,
          0.044597082014198965,
          0.07108214124145898,
          0.8424568651175943,
          0.04337235855497163,
          0.7765704880545621,
          0.0013452075485333099,
          0.0007050772068289684,
          0.04125229073159947,
          0.050499448111891186,
          0.2908414671483486,
          0.048598249912406716,
          0.07672945510261728,
          0.08881552794886814,
          0.060996087124711086,
          0.049084409230094744,
          0.07539866772342131,
          0.04203175274555015,
          0.06726893355720098,
          0.0013912342355424051,
          0.04302681348261174,
          0.04350202852437106,
          0.9010006335943981,
          0.0516046480948234,
          0.8680720077187101,
          0.7816725014263566,
          0.08527841485671972,
          0.31226621237931107,
          0.04230872427291539,
          0.7461414523107919,
          0.4568542609192373,
          0.059359492247770186,
          0.46724212648303637,
          0.059971538905465006,
          0.06648119818096779,
          0.06255836186088325,
          0.6667056256360173,
          0.08370742351512915,
          0.07537402124368915,
          0.07056519651887404,
          0.28418384721627366,
          0.7555847665815469,
          0.06203974712230653,
          0.04682897083890432,
          0.04889310608017165,
          0.38368094566239774,
          0.6664557023895004,
          0.8589858681088206,
          0.07837936083259384,
          0.05382098168141297,
          0.03945789374137341,
          0.07708736969406575,
          0.05742982099664228,
          0.4879411118986152,
          0.5060232330102541,
          0.11144326569530177,
          0.6310976752766705,
          0.07027139681076586,
          0.3100226473982986,
          0.07882031530791131,
          0.07560949450687215,
          0.06483859124745074,
          0.04717261386652096,
          0.059992577039283596,
          0.44636759293431694,
          0.4628811253743002,
          0.41619041421882225,
          0.43411429005432034,
          0.06018606235330913,
          0.04112118823379358,
          0.3660227230361191,
          0.07724001709024733,
          0.05647722643049051,
          0.0012864363454399678,
          0.053083977218653086,
          0.7738071434229404,
          0.42050286987100033,
          0.0628100819980028,
          0.04995115729594614,
          0.7428821472883846,
          0.5253988162038247,
          0.07733905144772754,
          0.001152211004658342,
          0.7765863989582956,
          0.06489218353512623,
          0.03567268619705722,
          0.861757642766768,
          0.04970189795799972,
          0.44652707987376516,
          0.06227121438311109,
          0.4444442182004859,
          0.07346772847466781,
          0.04312825377134948,
          0.06676396814988697,
          0.048891948821755085,
          0.05332727821133333,
          0.7697007246800065,
          0.05646743608227164,
          0.47127128685390063,
          0.07069947472104916,
          0.4996199383252286,
          0.7771371843616812,
          0.049597676221074055,
          0.04723746738989664,
          0.71220684225771,
          0.04271363343862822,
          0.5087097694945335,
          0.0683847617195622,
          0.5044781031835726,
          0.0678697446184333,
          0.7905931914327425,
          0.7398378749539805,
          0.44436053494372024,
          0.7578547106588793,
          0.05913907717139835,
          0.4676876615573337,
          0.07397509878110115,
          0.04570433374040633,
          0.7386404491941454,
          0.08113829582039221,
          0.07334714256067092,
          0.048197955020649316,
          0.7543616109834941,
          0.001167101448660357,
          0.040747946506090794,
          0.5614206347113186,
          0.04783260577911135,
          0.46996871401701945,
          0.03940034328910386,
          0.4795900127835745,
          0.0012462432371942132,
          0.464171451559216,
          0.6486428892307569,
          0.44960411329756134,
          0.06255169103554939,
          0.8544322242432287,
          0.7600095166030973,
          0.0829207404146368,
          0.04030775305229215,
          0.07378911469443816,
          0.06925640292456851,
          0.044446647024536115,
          0.07293767932564747,
          0.35364260396525443,
          0.04337420986073461,
          0.6886362769077368,
          0.5312530336916492,
          0.41225820432930005,
          0.6861763372397152,
          0.7461435489852812,
          0.6679932488005045,
          0.7671723130105661,
          0.46250308785371896,
          0.8159760183718172,
          0.42961343838740473,
          0.8484184429844129,
          0.6362804311665556,
          0.7500404661707082,
          0.8526260434243346,
          0.7856095514199932,
          0.03349816524573462,
          0.8275990556708928,
          0.3663214362365056,
          0.8441811244617445,
          0.7296076444459679,
          0.07623395627543415,
          0.0012937374999746575,
          0.0420255920597502,
          0.05520002601058178,
          0.4448741311178038,
          0.05753800528380883,
          0.000959362229397066,
          0.0531463743589039,
          0.04374802986989705,
          0.0644136749684907,
          0.44365534067622836,
          0.44711060762204485,
          0.0468412666078405,
          0.35832610877017523,
          0.07318501242246016,
          0.0019422958068225078,
          0.3624338531935632,
          0.7713356253662708,
          0.07087361575501444,
          0.5315959265376382,
          0.7554160490412609,
          0.843048091205911,
          0.6645650581004175,
          0.5100044969849037,
          0.49710796766542664,
          0.0009672589625123295,
          0.06279896753823645,
          0.8452684768666061,
          0.05209258150816893,
          0.06195148339638661,
          0.037918060562677804,
          0.000821675554021421,
          0.054850327550938174,
          0.6444023421486049,
          0.0533426896779459,
          0.850143815984169,
          0.046709767095189016,
          0.0012818046235053076,
          0.31473957631022537,
          0.04731218058052409,
          0.07195367531072798,
          0.38655114944733093,
          0.7644641621175965,
          0.8124757461853662,
          0.5676030626541892,
          0.0696877088713782,
          0.044691118596772945,
          0.08211997930149621,
          0.0011111492572471598,
          0.0666637767330514,
          0.7524533017040974,
          0.057689805551303076,
          0.11571693688570102,
          0.04131123624382191,
          0.06088689233980899,
          0.0014820016043860802,
          0.5141253744528811,
          0.07292179227162295,
          0.3834917280626843,
          0.04817320604133922,
          0.06436047451586471,
          0.5109204359780009,
          0.3291981427741138,
          0.05216260869210276,
          0.08077906314036691,
          0.9043460367948702,
          0.07501956935536212,
          0.043303644049602,
          0.05295254773404516,
          0.493699014947073,
          0.04615810938690619,
          0.07323200038117814,
          0.036843059016529234,
          0.0009156266447356734,
          0.044836175536782125,
          0.7069509071201622,
          0.7521888148198222,
          0.07013147115716564,
          0.0012681359404245953,
          0.07968442162536367,
          0.08526561785067635,
          0.06322123037039123,
          0.7337507279000437,
          0.00119696998300658,
          0.836729051690947,
          0.07958601825918561,
          0.06623404829818229,
          0.5912514968652809,
          0.058749703797010264,
          0.7514102071367171,
          0.37423809841357897,
          0.7700970892524566,
          0.0008968556397545725,
          0.5836554430615325,
          0.7670561876410065,
          0.7049438594967133,
          0.7898950099519197,
          0.04840147184552871,
          0.7681843515799336,
          0.05333440718686506,
          0.8036982735148848,
          0.7549681913787053,
          0.059894452100580156,
          0.06618510296348978,
          0.8129265209558098,
          0.04873053579366733,
          0.05748971769674124,
          0.07136335819835712,
          0.6979395586546918,
          0.001257802760216449,
          0.33342346649807486,
          0.0012515874823505809,
          0.06107835319713857,
          0.6789994583645229,
          0.49463841175350376,
          0.08474363820028913,
          0.47648364198070337,
          0.04408703318457238,
          0.7808855311616227,
          0.04343553608171892,
          0.8709268526543701,
          0.04462734025822841,
          0.36949113262103056,
          0.04778971683882477,
          0.08744082919342146,
          0.0013444334077953226,
          0.8230239525716636,
          0.4515732768616602,
          0.6714158542058336,
          0.06063837294766166,
          0.08165690705580943,
          0.0011232672676364053,
          0.04360900372176447,
          0.09238816176071392,
          0.0555826347398904,
          0.04521271780466155,
          0.053936792593525136,
          0.08026657507287734,
          0.8581903593753132,
          0.07574569917811168,
          0.4505725119534065,
          0.05841919746345552,
          0.49121531469741403,
          0.8536373438803126,
          0.07715042195256124,
          0.4067399530598817,
          0.8069876551901266,
          0.05591794141676661,
          0.6677199098681375,
          0.0014737946686898748,
          0.06912868329191285,
          0.3689019676341168,
          0.045894996820184816,
          0.0916743866144182,
          0.07736011838163713,
          0.07754423095795472,
          0.07623796527023598,
          0.7368006649351495,
          0.056396341409849296,
          0.04451475953933539,
          0.8498715903460153,
          0.052089148265767174,
          0.047900889210672856,
          0.0012165937440670469,
          0.0013004743610188112,
          0.0006053994974449155,
          0.04749776985395647,
          0.4764704206560306,
          0.04790532101836918,
          0.04522182885055206,
          0.06780949378478679,
          0.4199699977589315,
          0.3895084486935068,
          0.6578797139364315,
          0.066032457489782,
          0.06874298031576039,
          0.6870731611615682,
          0.820710855197093,
          0.3164875953006018,
          0.7454754002127242,
          0.8365923439918471,
          0.38849473697043607,
          0.04685582954126528,
          0.4900209554842112,
          0.043598902115415006,
          0.047610425403755555,
          0.5391958129145378,
          0.08901868033632357,
          0.7328342424250991,
          0.06773868811954684,
          0.7551710356928156,
          0.055073389629767704,
          0.7522179776397282,
          0.4331359088848691,
          0.3936455259295673,
          0.04514912909291047,
          0.043161076196169684,
          0.07119582641444716,
          0.8286564937195959,
          0.0014966862994386788,
          0.09480178802670523,
          0.042904826537699926,
          0.6179962318651945,
          0.0564606869284132,
          0.0580168410948231,
          0.05389916260326222,
          0.05673463380869689,
          0.5482107633880073,
          0.0378200081135228,
          0.0012215675111756032,
          0.04610686554246235,
          0.04773111089785135,
          0.056900715520672544,
          0.048368070060751056,
          0.04668898943785105,
          0.48214952020837987,
          0.786219810866288,
          0.06923411491102992,
          0.051318311835777265,
          0.39082543743562703,
          0.8399462077504736,
          0.05828673667965346,
          0.8110767063500197,
          0.0007724648348217095,
          0.7587641758053846,
          0.329850525655261,
          0.8915131142307177,
          0.03797959606989204,
          0.3469667078957409,
          0.05074033757611413,
          0.7663451543589989,
          0.04402405881929971,
          0.510121452814491,
          0.8450209787791432,
          0.07105158357354284,
          0.33808259734218143,
          0.04021257921837009,
          0.0432371933492309,
          0.31192274203511183,
          0.5416227275848747,
          0.8445079859721958,
          0.8428434856127632,
          0.0470753223802786,
          0.07185721268330524,
          0.055584800338348055,
          0.06958052598703617,
          0.7585516108127832,
          0.4685277493371338,
          0.48961713446807054,
          0.7111491615660068,
          0.7178957819534654,
          0.039425335694679445,
          0.051879109577529184,
          0.0890955008136386,
          0.06082104697243941,
          0.33785192421810306,
          0.07455534062114622,
          0.6520784706436814,
          0.03937341331671021,
          0.039784751990829585,
          0.4948547499463143,
          0.04606765783196317,
          0.4776684999649942,
          0.05039626028537294,
          0.06941246054952951,
          0.05767930038471098,
          0.0010959315126539244,
          0.060892018793009296,
          0.0481030983112831,
          0.06792101642052421,
          0.04933839255809046,
          0.36126911049292637,
          0.5100388451329643,
          0.8175961640733271,
          0.463502613294651,
          0.46812448213704816,
          0.03869898730757893,
          0.05465761003249747,
          0.07539023054588768,
          0.7456056785319418,
          0.7343411715512412,
          0.05045657095560405,
          0.04392940152617853,
          0.7983544010075906
         ],
         "y0": " ",
         "yaxis": "y"
        },
        {
         "alignmentgroup": "True",
         "hovertemplate": "Smoking Status=%{x}<br>Stroke Probability=%{y}<extra></extra>",
         "legendgroup": "smokes",
         "marker": {
          "color": "#EF553B"
         },
         "name": "smokes",
         "notched": false,
         "offsetgroup": "smokes",
         "orientation": "v",
         "showlegend": true,
         "type": "box",
         "x": [
          "smokes",
          "smokes",
          "smokes",
          "smokes",
          "smokes",
          "smokes",
          "smokes",
          "smokes",
          "smokes",
          "smokes",
          "smokes",
          "smokes",
          "smokes",
          "smokes",
          "smokes",
          "smokes",
          "smokes",
          "smokes",
          "smokes",
          "smokes",
          "smokes",
          "smokes",
          "smokes",
          "smokes",
          "smokes",
          "smokes",
          "smokes",
          "smokes",
          "smokes",
          "smokes",
          "smokes",
          "smokes",
          "smokes",
          "smokes",
          "smokes",
          "smokes",
          "smokes",
          "smokes",
          "smokes",
          "smokes",
          "smokes",
          "smokes",
          "smokes",
          "smokes",
          "smokes",
          "smokes",
          "smokes",
          "smokes",
          "smokes",
          "smokes",
          "smokes",
          "smokes",
          "smokes",
          "smokes",
          "smokes",
          "smokes",
          "smokes",
          "smokes",
          "smokes",
          "smokes",
          "smokes",
          "smokes",
          "smokes",
          "smokes",
          "smokes",
          "smokes",
          "smokes",
          "smokes",
          "smokes",
          "smokes",
          "smokes",
          "smokes",
          "smokes",
          "smokes",
          "smokes",
          "smokes",
          "smokes",
          "smokes",
          "smokes",
          "smokes",
          "smokes",
          "smokes",
          "smokes",
          "smokes",
          "smokes",
          "smokes",
          "smokes",
          "smokes",
          "smokes",
          "smokes",
          "smokes",
          "smokes",
          "smokes",
          "smokes",
          "smokes",
          "smokes",
          "smokes",
          "smokes",
          "smokes",
          "smokes",
          "smokes",
          "smokes",
          "smokes",
          "smokes",
          "smokes",
          "smokes",
          "smokes",
          "smokes",
          "smokes",
          "smokes",
          "smokes",
          "smokes",
          "smokes",
          "smokes",
          "smokes",
          "smokes",
          "smokes",
          "smokes",
          "smokes",
          "smokes",
          "smokes",
          "smokes",
          "smokes",
          "smokes",
          "smokes",
          "smokes",
          "smokes",
          "smokes",
          "smokes",
          "smokes",
          "smokes",
          "smokes",
          "smokes",
          "smokes",
          "smokes",
          "smokes",
          "smokes",
          "smokes",
          "smokes",
          "smokes",
          "smokes",
          "smokes",
          "smokes",
          "smokes",
          "smokes",
          "smokes",
          "smokes",
          "smokes",
          "smokes",
          "smokes",
          "smokes",
          "smokes",
          "smokes"
         ],
         "x0": " ",
         "xaxis": "x",
         "y": [
          0.6321772619992296,
          0.7970935867630337,
          0.0732701597484006,
          0.5419868147329252,
          0.08294736663747801,
          0.461203566153957,
          0.09888000536993866,
          0.8676459189982597,
          0.05725904757978513,
          0.0952466003803181,
          0.540307018712049,
          0.08755243164303689,
          0.5595313070132012,
          0.4536088802393606,
          0.711741939745992,
          0.10954291109831056,
          0.5922277663459862,
          0.77993622273986,
          0.7623209138693254,
          0.4494702193095378,
          0.05235655082755748,
          0.16967369653265596,
          0.48228301736437446,
          0.6228280102100345,
          0.747961397826233,
          0.08381144530449876,
          0.11021268377396254,
          0.5210426677082384,
          0.517424378705406,
          0.5169472134693321,
          0.47465236687862367,
          0.6582010225889203,
          0.10615982774350098,
          0.5050229123825972,
          0.4963269299004667,
          0.6560336030814427,
          0.043817562635741235,
          0.0934051276357566,
          0.062052614353503475,
          0.8527639956667635,
          0.8387655994408874,
          0.4387436291173398,
          0.5074050624724947,
          0.08351993890871273,
          0.7929292616534674,
          0.1414249952065267,
          0.08855008567998877,
          0.10643662984104418,
          0.08971934607571104,
          0.5168065887966481,
          0.0944652527120382,
          0.5165272400339372,
          0.6164951484310975,
          0.448322135498538,
          0.07972653889973723,
          0.8055277051567536,
          0.5501806684834323,
          0.5216876926250003,
          0.09185641027489608,
          0.5163990219828961,
          0.5426752391445884,
          0.07991352325228691,
          0.3400877324361329,
          0.6246624371146171,
          0.8563761183732842,
          0.0983966416296201,
          0.5436564239567137,
          0.0745733465516849,
          0.08683569291948795,
          0.39356971554543857,
          0.8151077026158772,
          0.08115819983443102,
          0.10323137088116421,
          0.07890834858703778,
          0.7942565498191821,
          0.05480310715440909,
          0.09496699700959778,
          0.431548203723105,
          0.49958552124454103,
          0.0683955424360957,
          0.5077304311648704,
          0.7979121806292415,
          0.08863814672314474,
          0.05578467414744178,
          0.0468742954753871,
          0.08166559934924433,
          0.4305789385447828,
          0.05396811420621284,
          0.4848029969825297,
          0.7074902614204934,
          0.1162410771712109,
          0.4270710421461092,
          0.5132594096023049,
          0.7885089403713077,
          0.10183970603421355,
          0.053212299031706364,
          0.10363403496508788,
          0.8345722445260323,
          0.4091223352398649,
          0.40706541344016506,
          0.09275081628304352,
          0.6136012933888721,
          0.13163901991169044,
          0.7988280190414034,
          0.7916443877207514,
          0.10154460167178325,
          0.7940264947990276,
          0.051805058933241055,
          0.9057402924461005,
          0.07345241840856682,
          0.8024411536700787,
          0.08101350896044314,
          0.0862095831989828,
          0.3216866194099222,
          0.061068599004643585,
          0.7618949682481307,
          0.08327063269768185,
          0.0622463148239181,
          0.06625445502237536,
          0.0776521234653803,
          0.9079463189150097,
          0.0780800948980655,
          0.6923870416076405,
          0.8214341753371259,
          0.38075192861401985,
          0.8589220078965084,
          0.5204389532145546,
          0.797152366945479,
          0.8090861380625196,
          0.8723421131481285,
          0.8019297088139847,
          0.04029513613923999,
          0.48510065823663556,
          0.59341041744462,
          0.5091318602715982,
          0.7736527098123298,
          0.07932535431363794,
          0.8251352913388874,
          0.08318519572885215,
          0.521358407437873,
          0.049920535444833346,
          0.07575357630586502,
          0.09026720954811117,
          0.09281069024329097,
          0.12387861445857294,
          0.07545327043699449,
          0.08376911863880558,
          0.001714153942317075,
          0.08931405016973772,
          0.32580615884117864,
          0.07066012581985796,
          0.8708416536830631,
          0.49479079341662985
         ],
         "y0": " ",
         "yaxis": "y"
        },
        {
         "alignmentgroup": "True",
         "hovertemplate": "Smoking Status=%{x}<br>Stroke Probability=%{y}<extra></extra>",
         "legendgroup": "formerly smoked",
         "marker": {
          "color": "#00cc96"
         },
         "name": "formerly smoked",
         "notched": false,
         "offsetgroup": "formerly smoked",
         "orientation": "v",
         "showlegend": true,
         "type": "box",
         "x": [
          "formerly smoked",
          "formerly smoked",
          "formerly smoked",
          "formerly smoked",
          "formerly smoked",
          "formerly smoked",
          "formerly smoked",
          "formerly smoked",
          "formerly smoked",
          "formerly smoked",
          "formerly smoked",
          "formerly smoked",
          "formerly smoked",
          "formerly smoked",
          "formerly smoked",
          "formerly smoked",
          "formerly smoked",
          "formerly smoked",
          "formerly smoked",
          "formerly smoked",
          "formerly smoked",
          "formerly smoked",
          "formerly smoked",
          "formerly smoked",
          "formerly smoked",
          "formerly smoked",
          "formerly smoked",
          "formerly smoked",
          "formerly smoked",
          "formerly smoked",
          "formerly smoked",
          "formerly smoked",
          "formerly smoked",
          "formerly smoked",
          "formerly smoked",
          "formerly smoked",
          "formerly smoked",
          "formerly smoked",
          "formerly smoked",
          "formerly smoked",
          "formerly smoked",
          "formerly smoked",
          "formerly smoked",
          "formerly smoked",
          "formerly smoked",
          "formerly smoked",
          "formerly smoked",
          "formerly smoked",
          "formerly smoked",
          "formerly smoked",
          "formerly smoked",
          "formerly smoked",
          "formerly smoked",
          "formerly smoked",
          "formerly smoked",
          "formerly smoked",
          "formerly smoked",
          "formerly smoked",
          "formerly smoked",
          "formerly smoked",
          "formerly smoked",
          "formerly smoked",
          "formerly smoked",
          "formerly smoked",
          "formerly smoked",
          "formerly smoked",
          "formerly smoked",
          "formerly smoked",
          "formerly smoked",
          "formerly smoked",
          "formerly smoked",
          "formerly smoked",
          "formerly smoked",
          "formerly smoked",
          "formerly smoked",
          "formerly smoked",
          "formerly smoked",
          "formerly smoked",
          "formerly smoked",
          "formerly smoked",
          "formerly smoked",
          "formerly smoked",
          "formerly smoked",
          "formerly smoked",
          "formerly smoked",
          "formerly smoked",
          "formerly smoked",
          "formerly smoked",
          "formerly smoked",
          "formerly smoked",
          "formerly smoked",
          "formerly smoked",
          "formerly smoked",
          "formerly smoked",
          "formerly smoked",
          "formerly smoked",
          "formerly smoked",
          "formerly smoked",
          "formerly smoked",
          "formerly smoked",
          "formerly smoked",
          "formerly smoked",
          "formerly smoked",
          "formerly smoked",
          "formerly smoked",
          "formerly smoked",
          "formerly smoked",
          "formerly smoked",
          "formerly smoked",
          "formerly smoked",
          "formerly smoked",
          "formerly smoked",
          "formerly smoked",
          "formerly smoked",
          "formerly smoked",
          "formerly smoked",
          "formerly smoked",
          "formerly smoked",
          "formerly smoked",
          "formerly smoked",
          "formerly smoked",
          "formerly smoked",
          "formerly smoked",
          "formerly smoked",
          "formerly smoked",
          "formerly smoked",
          "formerly smoked",
          "formerly smoked",
          "formerly smoked",
          "formerly smoked",
          "formerly smoked",
          "formerly smoked",
          "formerly smoked",
          "formerly smoked",
          "formerly smoked",
          "formerly smoked",
          "formerly smoked",
          "formerly smoked",
          "formerly smoked",
          "formerly smoked",
          "formerly smoked",
          "formerly smoked",
          "formerly smoked",
          "formerly smoked",
          "formerly smoked",
          "formerly smoked",
          "formerly smoked",
          "formerly smoked",
          "formerly smoked",
          "formerly smoked",
          "formerly smoked",
          "formerly smoked",
          "formerly smoked",
          "formerly smoked",
          "formerly smoked",
          "formerly smoked",
          "formerly smoked",
          "formerly smoked",
          "formerly smoked",
          "formerly smoked",
          "formerly smoked",
          "formerly smoked",
          "formerly smoked",
          "formerly smoked",
          "formerly smoked",
          "formerly smoked",
          "formerly smoked",
          "formerly smoked",
          "formerly smoked",
          "formerly smoked",
          "formerly smoked",
          "formerly smoked",
          "formerly smoked"
         ],
         "x0": " ",
         "xaxis": "x",
         "y": [
          0.4149170661742267,
          0.06665964109678633,
          0.06266807129348545,
          0.7874624311462205,
          0.08138323941819388,
          0.3968872764953,
          0.7355618250091959,
          0.061701618731292734,
          0.03420623781230932,
          0.7554995120704149,
          0.6718073841977741,
          0.06408069980006177,
          0.4411746171048496,
          0.8072086072064348,
          0.708762218401012,
          0.4629786789482074,
          0.4193710653161055,
          0.5489856236831909,
          0.27684895705338186,
          0.35967972586428026,
          0.28679395655892254,
          0.44550421941395585,
          0.5124526276123287,
          0.7478488364354317,
          0.0734813764819294,
          0.7308360310922535,
          0.8254253331922379,
          0.4324692958495227,
          0.06794999686315448,
          0.7625690204130162,
          0.7102561578473665,
          0.05418449680236676,
          0.7387402400419726,
          0.383027250700704,
          0.47804718688866,
          0.7283655470945617,
          0.0683889768211851,
          0.6987857516975713,
          0.9038415467286455,
          0.7880041101427682,
          0.8135454275227637,
          0.09189332949096579,
          0.739569406184469,
          0.5081750055378507,
          0.6636065230534532,
          0.37698842691037315,
          0.0010744960972442587,
          0.5187009406497983,
          0.6469723055019129,
          0.7256040835768293,
          0.26254016868881697,
          0.06767711230398443,
          0.44032492902387715,
          0.33833931735922673,
          0.06479086373112211,
          0.059899977242811576,
          0.7526990871883986,
          0.35806071495729663,
          0.7078248472677289,
          0.6010008801852735,
          0.09588563526992579,
          0.3983528235504212,
          0.4359135848457862,
          0.6748221072789456,
          0.677956838336968,
          0.5102707956924508,
          0.06349276640805324,
          0.04764982256062423,
          0.47195390032453177,
          0.43045624659918863,
          0.6853707596747031,
          0.044360525229841304,
          0.03939721298368727,
          0.3265119838211692,
          0.3597535522129958,
          0.6510131044309219,
          0.41308332200743525,
          0.07013078967833257,
          0.07279413378159463,
          0.7266507401666965,
          0.3308406222308623,
          0.06784549464419541,
          0.38616926562350146,
          0.7497864733047672,
          0.7199223407771566,
          0.040119213535189706,
          0.8451998867233895,
          0.7372359059830009,
          0.7633823064714403,
          0.4286897691581343,
          0.796284735678218,
          0.06127125875739456,
          0.03613894759310499,
          0.060830856313585834,
          0.07190796164331154,
          0.7503371755698701,
          0.7297214680076515,
          0.750389080072828,
          0.4339430492512692,
          0.4016954581917396,
          0.06749730964478452,
          0.7557058001732269,
          0.06495306462427392,
          0.4134633992434059,
          0.4341248632216502,
          0.5879962408613391,
          0.05080496584340048,
          0.5126401498969764,
          0.6472461736934856,
          0.610394851204118,
          0.3583521457930944,
          0.03993313775761631,
          0.7156312957076782,
          0.0980171637612272,
          0.7650722842749903,
          0.7365774507752473,
          0.263845522354365,
          0.04831991285808092,
          0.059226362431631825,
          0.3531029436012532,
          0.610276423473412,
          0.8605451975449353,
          0.4197156823291231,
          0.048326526626032894,
          0.3429689423186061,
          0.0633899933725916,
          0.8353418413640947,
          0.08675724405551552,
          0.8571521458745767,
          0.3217877953059746,
          0.3507325771126936,
          0.3868240793846954,
          0.07828247243779166,
          0.6998112357317363,
          0.7548275709236442,
          0.7966407601805887,
          0.6377969247702513,
          0.6791519354233074,
          0.7978662300043479,
          0.5032141274513668,
          0.06490841844869706,
          0.04626795011619269,
          0.5516235898924349,
          0.42881188859250907,
          0.06325109568058992,
          0.3165360716134345,
          0.7342560548444041,
          0.06284394370455182,
          0.3768774059235996,
          0.000873448760136331,
          0.6667451505983879,
          0.5460951155521482,
          0.4115120271160328,
          0.6430633738071496,
          0.6332267422777923,
          0.48243134714475344,
          0.061039841328474335,
          0.6696206612206199,
          0.3237695729912567,
          0.6727430771991697,
          0.43013532149873585,
          0.5769246008384856,
          0.8034292633061259,
          0.4714605041808273,
          0.0011461024483573673,
          0.31945319156471574,
          0.7866327323650744,
          0.038678680228881164,
          0.7513089544200305,
          0.4384647984797803,
          0.60195206888472,
          0.45123454589348466,
          0.4689463025506384
         ],
         "y0": " ",
         "yaxis": "y"
        }
       ],
       "layout": {
        "boxmode": "overlay",
        "legend": {
         "title": {
          "text": "Smoking Status"
         },
         "tracegroupgap": 0
        },
        "template": {
         "data": {
          "bar": [
           {
            "error_x": {
             "color": "#2a3f5f"
            },
            "error_y": {
             "color": "#2a3f5f"
            },
            "marker": {
             "line": {
              "color": "#E5ECF6",
              "width": 0.5
             },
             "pattern": {
              "fillmode": "overlay",
              "size": 10,
              "solidity": 0.2
             }
            },
            "type": "bar"
           }
          ],
          "barpolar": [
           {
            "marker": {
             "line": {
              "color": "#E5ECF6",
              "width": 0.5
             },
             "pattern": {
              "fillmode": "overlay",
              "size": 10,
              "solidity": 0.2
             }
            },
            "type": "barpolar"
           }
          ],
          "carpet": [
           {
            "aaxis": {
             "endlinecolor": "#2a3f5f",
             "gridcolor": "white",
             "linecolor": "white",
             "minorgridcolor": "white",
             "startlinecolor": "#2a3f5f"
            },
            "baxis": {
             "endlinecolor": "#2a3f5f",
             "gridcolor": "white",
             "linecolor": "white",
             "minorgridcolor": "white",
             "startlinecolor": "#2a3f5f"
            },
            "type": "carpet"
           }
          ],
          "choropleth": [
           {
            "colorbar": {
             "outlinewidth": 0,
             "ticks": ""
            },
            "type": "choropleth"
           }
          ],
          "contour": [
           {
            "colorbar": {
             "outlinewidth": 0,
             "ticks": ""
            },
            "colorscale": [
             [
              0,
              "#0d0887"
             ],
             [
              0.1111111111111111,
              "#46039f"
             ],
             [
              0.2222222222222222,
              "#7201a8"
             ],
             [
              0.3333333333333333,
              "#9c179e"
             ],
             [
              0.4444444444444444,
              "#bd3786"
             ],
             [
              0.5555555555555556,
              "#d8576b"
             ],
             [
              0.6666666666666666,
              "#ed7953"
             ],
             [
              0.7777777777777778,
              "#fb9f3a"
             ],
             [
              0.8888888888888888,
              "#fdca26"
             ],
             [
              1,
              "#f0f921"
             ]
            ],
            "type": "contour"
           }
          ],
          "contourcarpet": [
           {
            "colorbar": {
             "outlinewidth": 0,
             "ticks": ""
            },
            "type": "contourcarpet"
           }
          ],
          "heatmap": [
           {
            "colorbar": {
             "outlinewidth": 0,
             "ticks": ""
            },
            "colorscale": [
             [
              0,
              "#0d0887"
             ],
             [
              0.1111111111111111,
              "#46039f"
             ],
             [
              0.2222222222222222,
              "#7201a8"
             ],
             [
              0.3333333333333333,
              "#9c179e"
             ],
             [
              0.4444444444444444,
              "#bd3786"
             ],
             [
              0.5555555555555556,
              "#d8576b"
             ],
             [
              0.6666666666666666,
              "#ed7953"
             ],
             [
              0.7777777777777778,
              "#fb9f3a"
             ],
             [
              0.8888888888888888,
              "#fdca26"
             ],
             [
              1,
              "#f0f921"
             ]
            ],
            "type": "heatmap"
           }
          ],
          "heatmapgl": [
           {
            "colorbar": {
             "outlinewidth": 0,
             "ticks": ""
            },
            "colorscale": [
             [
              0,
              "#0d0887"
             ],
             [
              0.1111111111111111,
              "#46039f"
             ],
             [
              0.2222222222222222,
              "#7201a8"
             ],
             [
              0.3333333333333333,
              "#9c179e"
             ],
             [
              0.4444444444444444,
              "#bd3786"
             ],
             [
              0.5555555555555556,
              "#d8576b"
             ],
             [
              0.6666666666666666,
              "#ed7953"
             ],
             [
              0.7777777777777778,
              "#fb9f3a"
             ],
             [
              0.8888888888888888,
              "#fdca26"
             ],
             [
              1,
              "#f0f921"
             ]
            ],
            "type": "heatmapgl"
           }
          ],
          "histogram": [
           {
            "marker": {
             "pattern": {
              "fillmode": "overlay",
              "size": 10,
              "solidity": 0.2
             }
            },
            "type": "histogram"
           }
          ],
          "histogram2d": [
           {
            "colorbar": {
             "outlinewidth": 0,
             "ticks": ""
            },
            "colorscale": [
             [
              0,
              "#0d0887"
             ],
             [
              0.1111111111111111,
              "#46039f"
             ],
             [
              0.2222222222222222,
              "#7201a8"
             ],
             [
              0.3333333333333333,
              "#9c179e"
             ],
             [
              0.4444444444444444,
              "#bd3786"
             ],
             [
              0.5555555555555556,
              "#d8576b"
             ],
             [
              0.6666666666666666,
              "#ed7953"
             ],
             [
              0.7777777777777778,
              "#fb9f3a"
             ],
             [
              0.8888888888888888,
              "#fdca26"
             ],
             [
              1,
              "#f0f921"
             ]
            ],
            "type": "histogram2d"
           }
          ],
          "histogram2dcontour": [
           {
            "colorbar": {
             "outlinewidth": 0,
             "ticks": ""
            },
            "colorscale": [
             [
              0,
              "#0d0887"
             ],
             [
              0.1111111111111111,
              "#46039f"
             ],
             [
              0.2222222222222222,
              "#7201a8"
             ],
             [
              0.3333333333333333,
              "#9c179e"
             ],
             [
              0.4444444444444444,
              "#bd3786"
             ],
             [
              0.5555555555555556,
              "#d8576b"
             ],
             [
              0.6666666666666666,
              "#ed7953"
             ],
             [
              0.7777777777777778,
              "#fb9f3a"
             ],
             [
              0.8888888888888888,
              "#fdca26"
             ],
             [
              1,
              "#f0f921"
             ]
            ],
            "type": "histogram2dcontour"
           }
          ],
          "mesh3d": [
           {
            "colorbar": {
             "outlinewidth": 0,
             "ticks": ""
            },
            "type": "mesh3d"
           }
          ],
          "parcoords": [
           {
            "line": {
             "colorbar": {
              "outlinewidth": 0,
              "ticks": ""
             }
            },
            "type": "parcoords"
           }
          ],
          "pie": [
           {
            "automargin": true,
            "type": "pie"
           }
          ],
          "scatter": [
           {
            "fillpattern": {
             "fillmode": "overlay",
             "size": 10,
             "solidity": 0.2
            },
            "type": "scatter"
           }
          ],
          "scatter3d": [
           {
            "line": {
             "colorbar": {
              "outlinewidth": 0,
              "ticks": ""
             }
            },
            "marker": {
             "colorbar": {
              "outlinewidth": 0,
              "ticks": ""
             }
            },
            "type": "scatter3d"
           }
          ],
          "scattercarpet": [
           {
            "marker": {
             "colorbar": {
              "outlinewidth": 0,
              "ticks": ""
             }
            },
            "type": "scattercarpet"
           }
          ],
          "scattergeo": [
           {
            "marker": {
             "colorbar": {
              "outlinewidth": 0,
              "ticks": ""
             }
            },
            "type": "scattergeo"
           }
          ],
          "scattergl": [
           {
            "marker": {
             "colorbar": {
              "outlinewidth": 0,
              "ticks": ""
             }
            },
            "type": "scattergl"
           }
          ],
          "scattermapbox": [
           {
            "marker": {
             "colorbar": {
              "outlinewidth": 0,
              "ticks": ""
             }
            },
            "type": "scattermapbox"
           }
          ],
          "scatterpolar": [
           {
            "marker": {
             "colorbar": {
              "outlinewidth": 0,
              "ticks": ""
             }
            },
            "type": "scatterpolar"
           }
          ],
          "scatterpolargl": [
           {
            "marker": {
             "colorbar": {
              "outlinewidth": 0,
              "ticks": ""
             }
            },
            "type": "scatterpolargl"
           }
          ],
          "scatterternary": [
           {
            "marker": {
             "colorbar": {
              "outlinewidth": 0,
              "ticks": ""
             }
            },
            "type": "scatterternary"
           }
          ],
          "surface": [
           {
            "colorbar": {
             "outlinewidth": 0,
             "ticks": ""
            },
            "colorscale": [
             [
              0,
              "#0d0887"
             ],
             [
              0.1111111111111111,
              "#46039f"
             ],
             [
              0.2222222222222222,
              "#7201a8"
             ],
             [
              0.3333333333333333,
              "#9c179e"
             ],
             [
              0.4444444444444444,
              "#bd3786"
             ],
             [
              0.5555555555555556,
              "#d8576b"
             ],
             [
              0.6666666666666666,
              "#ed7953"
             ],
             [
              0.7777777777777778,
              "#fb9f3a"
             ],
             [
              0.8888888888888888,
              "#fdca26"
             ],
             [
              1,
              "#f0f921"
             ]
            ],
            "type": "surface"
           }
          ],
          "table": [
           {
            "cells": {
             "fill": {
              "color": "#EBF0F8"
             },
             "line": {
              "color": "white"
             }
            },
            "header": {
             "fill": {
              "color": "#C8D4E3"
             },
             "line": {
              "color": "white"
             }
            },
            "type": "table"
           }
          ]
         },
         "layout": {
          "annotationdefaults": {
           "arrowcolor": "#2a3f5f",
           "arrowhead": 0,
           "arrowwidth": 1
          },
          "autotypenumbers": "strict",
          "coloraxis": {
           "colorbar": {
            "outlinewidth": 0,
            "ticks": ""
           }
          },
          "colorscale": {
           "diverging": [
            [
             0,
             "#8e0152"
            ],
            [
             0.1,
             "#c51b7d"
            ],
            [
             0.2,
             "#de77ae"
            ],
            [
             0.3,
             "#f1b6da"
            ],
            [
             0.4,
             "#fde0ef"
            ],
            [
             0.5,
             "#f7f7f7"
            ],
            [
             0.6,
             "#e6f5d0"
            ],
            [
             0.7,
             "#b8e186"
            ],
            [
             0.8,
             "#7fbc41"
            ],
            [
             0.9,
             "#4d9221"
            ],
            [
             1,
             "#276419"
            ]
           ],
           "sequential": [
            [
             0,
             "#0d0887"
            ],
            [
             0.1111111111111111,
             "#46039f"
            ],
            [
             0.2222222222222222,
             "#7201a8"
            ],
            [
             0.3333333333333333,
             "#9c179e"
            ],
            [
             0.4444444444444444,
             "#bd3786"
            ],
            [
             0.5555555555555556,
             "#d8576b"
            ],
            [
             0.6666666666666666,
             "#ed7953"
            ],
            [
             0.7777777777777778,
             "#fb9f3a"
            ],
            [
             0.8888888888888888,
             "#fdca26"
            ],
            [
             1,
             "#f0f921"
            ]
           ],
           "sequentialminus": [
            [
             0,
             "#0d0887"
            ],
            [
             0.1111111111111111,
             "#46039f"
            ],
            [
             0.2222222222222222,
             "#7201a8"
            ],
            [
             0.3333333333333333,
             "#9c179e"
            ],
            [
             0.4444444444444444,
             "#bd3786"
            ],
            [
             0.5555555555555556,
             "#d8576b"
            ],
            [
             0.6666666666666666,
             "#ed7953"
            ],
            [
             0.7777777777777778,
             "#fb9f3a"
            ],
            [
             0.8888888888888888,
             "#fdca26"
            ],
            [
             1,
             "#f0f921"
            ]
           ]
          },
          "colorway": [
           "#636efa",
           "#EF553B",
           "#00cc96",
           "#ab63fa",
           "#FFA15A",
           "#19d3f3",
           "#FF6692",
           "#B6E880",
           "#FF97FF",
           "#FECB52"
          ],
          "font": {
           "color": "#2a3f5f"
          },
          "geo": {
           "bgcolor": "white",
           "lakecolor": "white",
           "landcolor": "#E5ECF6",
           "showlakes": true,
           "showland": true,
           "subunitcolor": "white"
          },
          "hoverlabel": {
           "align": "left"
          },
          "hovermode": "closest",
          "mapbox": {
           "style": "light"
          },
          "paper_bgcolor": "white",
          "plot_bgcolor": "#E5ECF6",
          "polar": {
           "angularaxis": {
            "gridcolor": "white",
            "linecolor": "white",
            "ticks": ""
           },
           "bgcolor": "#E5ECF6",
           "radialaxis": {
            "gridcolor": "white",
            "linecolor": "white",
            "ticks": ""
           }
          },
          "scene": {
           "xaxis": {
            "backgroundcolor": "#E5ECF6",
            "gridcolor": "white",
            "gridwidth": 2,
            "linecolor": "white",
            "showbackground": true,
            "ticks": "",
            "zerolinecolor": "white"
           },
           "yaxis": {
            "backgroundcolor": "#E5ECF6",
            "gridcolor": "white",
            "gridwidth": 2,
            "linecolor": "white",
            "showbackground": true,
            "ticks": "",
            "zerolinecolor": "white"
           },
           "zaxis": {
            "backgroundcolor": "#E5ECF6",
            "gridcolor": "white",
            "gridwidth": 2,
            "linecolor": "white",
            "showbackground": true,
            "ticks": "",
            "zerolinecolor": "white"
           }
          },
          "shapedefaults": {
           "line": {
            "color": "#2a3f5f"
           }
          },
          "ternary": {
           "aaxis": {
            "gridcolor": "white",
            "linecolor": "white",
            "ticks": ""
           },
           "baxis": {
            "gridcolor": "white",
            "linecolor": "white",
            "ticks": ""
           },
           "bgcolor": "#E5ECF6",
           "caxis": {
            "gridcolor": "white",
            "linecolor": "white",
            "ticks": ""
           }
          },
          "title": {
           "x": 0.05
          },
          "xaxis": {
           "automargin": true,
           "gridcolor": "white",
           "linecolor": "white",
           "ticks": "",
           "title": {
            "standoff": 15
           },
           "zerolinecolor": "white",
           "zerolinewidth": 2
          },
          "yaxis": {
           "automargin": true,
           "gridcolor": "white",
           "linecolor": "white",
           "ticks": "",
           "title": {
            "standoff": 15
           },
           "zerolinecolor": "white",
           "zerolinewidth": 2
          }
         }
        },
        "title": {
         "text": "BMI vs Stroke Prediction Categorized by Smoking Status"
        },
        "xaxis": {
         "anchor": "y",
         "categoryarray": [
          "never smoked",
          "smokes",
          "formerly smoked"
         ],
         "categoryorder": "array",
         "domain": [
          0,
          1
         ],
         "title": {
          "text": "Smoking Status"
         }
        },
        "yaxis": {
         "anchor": "x",
         "domain": [
          0,
          1
         ],
         "title": {
          "text": "Stroke Probability"
         }
        }
       }
      }
     },
     "metadata": {},
     "output_type": "display_data"
    }
   ],
   "source": [
    "import plotly.express as px\n",
    "\n",
    "# Combine data\n",
    "bmi_stroke = pd.DataFrame({'BMI': x_test['bmi'], 'Stroke Probability': y_prob, \n",
    "                           'Smoking Status': x_test['smoking_status']})\n",
    "\n",
    "# Plot\n",
    "fig = px.box(bmi_stroke, x='Smoking Status', y='Stroke Probability', color='Smoking Status',\n",
    "             title='BMI vs Stroke Prediction Categorized by Smoking Status')\n",
    "fig.show()\n"
   ]
  },
  {
   "cell_type": "markdown",
   "metadata": {},
   "source": [
    "- ##### **5. Waterfall Plot for Feature Importance in Misclassifications**\n",
    " Visualize the top features that contributed to the misclassification of strokes (False Negatives or False Positives). This waterfall chart dynamically shows the cumulative impact of features"
   ]
  },
  {
   "cell_type": "code",
   "execution_count": 366,
   "metadata": {},
   "outputs": [
    {
     "data": {
      "application/vnd.plotly.v1+json": {
       "config": {
        "plotlyServerURL": "https://plot.ly"
       },
       "data": [
        {
         "decreasing": {
          "marker": {
           "color": "red"
          }
         },
         "increasing": {
          "marker": {
           "color": "green"
          }
         },
         "measure": [
          "relative",
          "relative",
          "relative",
          "relative",
          "relative"
         ],
         "name": "Feature Importance",
         "orientation": "v",
         "totals": {
          "marker": {
           "color": "blue"
          }
         },
         "type": "waterfall",
         "x": [
          "age",
          "avg_glucose_level",
          "bmi",
          "smoking_status",
          "hypertension"
         ],
         "y": [
          0.10830263032133014,
          0.6604581372391366,
          0.9255582024894838,
          0.5646554202890384,
          0.28802375194258933
         ]
        }
       ],
       "layout": {
        "template": {
         "data": {
          "bar": [
           {
            "error_x": {
             "color": "#2a3f5f"
            },
            "error_y": {
             "color": "#2a3f5f"
            },
            "marker": {
             "line": {
              "color": "#E5ECF6",
              "width": 0.5
             },
             "pattern": {
              "fillmode": "overlay",
              "size": 10,
              "solidity": 0.2
             }
            },
            "type": "bar"
           }
          ],
          "barpolar": [
           {
            "marker": {
             "line": {
              "color": "#E5ECF6",
              "width": 0.5
             },
             "pattern": {
              "fillmode": "overlay",
              "size": 10,
              "solidity": 0.2
             }
            },
            "type": "barpolar"
           }
          ],
          "carpet": [
           {
            "aaxis": {
             "endlinecolor": "#2a3f5f",
             "gridcolor": "white",
             "linecolor": "white",
             "minorgridcolor": "white",
             "startlinecolor": "#2a3f5f"
            },
            "baxis": {
             "endlinecolor": "#2a3f5f",
             "gridcolor": "white",
             "linecolor": "white",
             "minorgridcolor": "white",
             "startlinecolor": "#2a3f5f"
            },
            "type": "carpet"
           }
          ],
          "choropleth": [
           {
            "colorbar": {
             "outlinewidth": 0,
             "ticks": ""
            },
            "type": "choropleth"
           }
          ],
          "contour": [
           {
            "colorbar": {
             "outlinewidth": 0,
             "ticks": ""
            },
            "colorscale": [
             [
              0,
              "#0d0887"
             ],
             [
              0.1111111111111111,
              "#46039f"
             ],
             [
              0.2222222222222222,
              "#7201a8"
             ],
             [
              0.3333333333333333,
              "#9c179e"
             ],
             [
              0.4444444444444444,
              "#bd3786"
             ],
             [
              0.5555555555555556,
              "#d8576b"
             ],
             [
              0.6666666666666666,
              "#ed7953"
             ],
             [
              0.7777777777777778,
              "#fb9f3a"
             ],
             [
              0.8888888888888888,
              "#fdca26"
             ],
             [
              1,
              "#f0f921"
             ]
            ],
            "type": "contour"
           }
          ],
          "contourcarpet": [
           {
            "colorbar": {
             "outlinewidth": 0,
             "ticks": ""
            },
            "type": "contourcarpet"
           }
          ],
          "heatmap": [
           {
            "colorbar": {
             "outlinewidth": 0,
             "ticks": ""
            },
            "colorscale": [
             [
              0,
              "#0d0887"
             ],
             [
              0.1111111111111111,
              "#46039f"
             ],
             [
              0.2222222222222222,
              "#7201a8"
             ],
             [
              0.3333333333333333,
              "#9c179e"
             ],
             [
              0.4444444444444444,
              "#bd3786"
             ],
             [
              0.5555555555555556,
              "#d8576b"
             ],
             [
              0.6666666666666666,
              "#ed7953"
             ],
             [
              0.7777777777777778,
              "#fb9f3a"
             ],
             [
              0.8888888888888888,
              "#fdca26"
             ],
             [
              1,
              "#f0f921"
             ]
            ],
            "type": "heatmap"
           }
          ],
          "heatmapgl": [
           {
            "colorbar": {
             "outlinewidth": 0,
             "ticks": ""
            },
            "colorscale": [
             [
              0,
              "#0d0887"
             ],
             [
              0.1111111111111111,
              "#46039f"
             ],
             [
              0.2222222222222222,
              "#7201a8"
             ],
             [
              0.3333333333333333,
              "#9c179e"
             ],
             [
              0.4444444444444444,
              "#bd3786"
             ],
             [
              0.5555555555555556,
              "#d8576b"
             ],
             [
              0.6666666666666666,
              "#ed7953"
             ],
             [
              0.7777777777777778,
              "#fb9f3a"
             ],
             [
              0.8888888888888888,
              "#fdca26"
             ],
             [
              1,
              "#f0f921"
             ]
            ],
            "type": "heatmapgl"
           }
          ],
          "histogram": [
           {
            "marker": {
             "pattern": {
              "fillmode": "overlay",
              "size": 10,
              "solidity": 0.2
             }
            },
            "type": "histogram"
           }
          ],
          "histogram2d": [
           {
            "colorbar": {
             "outlinewidth": 0,
             "ticks": ""
            },
            "colorscale": [
             [
              0,
              "#0d0887"
             ],
             [
              0.1111111111111111,
              "#46039f"
             ],
             [
              0.2222222222222222,
              "#7201a8"
             ],
             [
              0.3333333333333333,
              "#9c179e"
             ],
             [
              0.4444444444444444,
              "#bd3786"
             ],
             [
              0.5555555555555556,
              "#d8576b"
             ],
             [
              0.6666666666666666,
              "#ed7953"
             ],
             [
              0.7777777777777778,
              "#fb9f3a"
             ],
             [
              0.8888888888888888,
              "#fdca26"
             ],
             [
              1,
              "#f0f921"
             ]
            ],
            "type": "histogram2d"
           }
          ],
          "histogram2dcontour": [
           {
            "colorbar": {
             "outlinewidth": 0,
             "ticks": ""
            },
            "colorscale": [
             [
              0,
              "#0d0887"
             ],
             [
              0.1111111111111111,
              "#46039f"
             ],
             [
              0.2222222222222222,
              "#7201a8"
             ],
             [
              0.3333333333333333,
              "#9c179e"
             ],
             [
              0.4444444444444444,
              "#bd3786"
             ],
             [
              0.5555555555555556,
              "#d8576b"
             ],
             [
              0.6666666666666666,
              "#ed7953"
             ],
             [
              0.7777777777777778,
              "#fb9f3a"
             ],
             [
              0.8888888888888888,
              "#fdca26"
             ],
             [
              1,
              "#f0f921"
             ]
            ],
            "type": "histogram2dcontour"
           }
          ],
          "mesh3d": [
           {
            "colorbar": {
             "outlinewidth": 0,
             "ticks": ""
            },
            "type": "mesh3d"
           }
          ],
          "parcoords": [
           {
            "line": {
             "colorbar": {
              "outlinewidth": 0,
              "ticks": ""
             }
            },
            "type": "parcoords"
           }
          ],
          "pie": [
           {
            "automargin": true,
            "type": "pie"
           }
          ],
          "scatter": [
           {
            "fillpattern": {
             "fillmode": "overlay",
             "size": 10,
             "solidity": 0.2
            },
            "type": "scatter"
           }
          ],
          "scatter3d": [
           {
            "line": {
             "colorbar": {
              "outlinewidth": 0,
              "ticks": ""
             }
            },
            "marker": {
             "colorbar": {
              "outlinewidth": 0,
              "ticks": ""
             }
            },
            "type": "scatter3d"
           }
          ],
          "scattercarpet": [
           {
            "marker": {
             "colorbar": {
              "outlinewidth": 0,
              "ticks": ""
             }
            },
            "type": "scattercarpet"
           }
          ],
          "scattergeo": [
           {
            "marker": {
             "colorbar": {
              "outlinewidth": 0,
              "ticks": ""
             }
            },
            "type": "scattergeo"
           }
          ],
          "scattergl": [
           {
            "marker": {
             "colorbar": {
              "outlinewidth": 0,
              "ticks": ""
             }
            },
            "type": "scattergl"
           }
          ],
          "scattermapbox": [
           {
            "marker": {
             "colorbar": {
              "outlinewidth": 0,
              "ticks": ""
             }
            },
            "type": "scattermapbox"
           }
          ],
          "scatterpolar": [
           {
            "marker": {
             "colorbar": {
              "outlinewidth": 0,
              "ticks": ""
             }
            },
            "type": "scatterpolar"
           }
          ],
          "scatterpolargl": [
           {
            "marker": {
             "colorbar": {
              "outlinewidth": 0,
              "ticks": ""
             }
            },
            "type": "scatterpolargl"
           }
          ],
          "scatterternary": [
           {
            "marker": {
             "colorbar": {
              "outlinewidth": 0,
              "ticks": ""
             }
            },
            "type": "scatterternary"
           }
          ],
          "surface": [
           {
            "colorbar": {
             "outlinewidth": 0,
             "ticks": ""
            },
            "colorscale": [
             [
              0,
              "#0d0887"
             ],
             [
              0.1111111111111111,
              "#46039f"
             ],
             [
              0.2222222222222222,
              "#7201a8"
             ],
             [
              0.3333333333333333,
              "#9c179e"
             ],
             [
              0.4444444444444444,
              "#bd3786"
             ],
             [
              0.5555555555555556,
              "#d8576b"
             ],
             [
              0.6666666666666666,
              "#ed7953"
             ],
             [
              0.7777777777777778,
              "#fb9f3a"
             ],
             [
              0.8888888888888888,
              "#fdca26"
             ],
             [
              1,
              "#f0f921"
             ]
            ],
            "type": "surface"
           }
          ],
          "table": [
           {
            "cells": {
             "fill": {
              "color": "#EBF0F8"
             },
             "line": {
              "color": "white"
             }
            },
            "header": {
             "fill": {
              "color": "#C8D4E3"
             },
             "line": {
              "color": "white"
             }
            },
            "type": "table"
           }
          ]
         },
         "layout": {
          "annotationdefaults": {
           "arrowcolor": "#2a3f5f",
           "arrowhead": 0,
           "arrowwidth": 1
          },
          "autotypenumbers": "strict",
          "coloraxis": {
           "colorbar": {
            "outlinewidth": 0,
            "ticks": ""
           }
          },
          "colorscale": {
           "diverging": [
            [
             0,
             "#8e0152"
            ],
            [
             0.1,
             "#c51b7d"
            ],
            [
             0.2,
             "#de77ae"
            ],
            [
             0.3,
             "#f1b6da"
            ],
            [
             0.4,
             "#fde0ef"
            ],
            [
             0.5,
             "#f7f7f7"
            ],
            [
             0.6,
             "#e6f5d0"
            ],
            [
             0.7,
             "#b8e186"
            ],
            [
             0.8,
             "#7fbc41"
            ],
            [
             0.9,
             "#4d9221"
            ],
            [
             1,
             "#276419"
            ]
           ],
           "sequential": [
            [
             0,
             "#0d0887"
            ],
            [
             0.1111111111111111,
             "#46039f"
            ],
            [
             0.2222222222222222,
             "#7201a8"
            ],
            [
             0.3333333333333333,
             "#9c179e"
            ],
            [
             0.4444444444444444,
             "#bd3786"
            ],
            [
             0.5555555555555556,
             "#d8576b"
            ],
            [
             0.6666666666666666,
             "#ed7953"
            ],
            [
             0.7777777777777778,
             "#fb9f3a"
            ],
            [
             0.8888888888888888,
             "#fdca26"
            ],
            [
             1,
             "#f0f921"
            ]
           ],
           "sequentialminus": [
            [
             0,
             "#0d0887"
            ],
            [
             0.1111111111111111,
             "#46039f"
            ],
            [
             0.2222222222222222,
             "#7201a8"
            ],
            [
             0.3333333333333333,
             "#9c179e"
            ],
            [
             0.4444444444444444,
             "#bd3786"
            ],
            [
             0.5555555555555556,
             "#d8576b"
            ],
            [
             0.6666666666666666,
             "#ed7953"
            ],
            [
             0.7777777777777778,
             "#fb9f3a"
            ],
            [
             0.8888888888888888,
             "#fdca26"
            ],
            [
             1,
             "#f0f921"
            ]
           ]
          },
          "colorway": [
           "#636efa",
           "#EF553B",
           "#00cc96",
           "#ab63fa",
           "#FFA15A",
           "#19d3f3",
           "#FF6692",
           "#B6E880",
           "#FF97FF",
           "#FECB52"
          ],
          "font": {
           "color": "#2a3f5f"
          },
          "geo": {
           "bgcolor": "white",
           "lakecolor": "white",
           "landcolor": "#E5ECF6",
           "showlakes": true,
           "showland": true,
           "subunitcolor": "white"
          },
          "hoverlabel": {
           "align": "left"
          },
          "hovermode": "closest",
          "mapbox": {
           "style": "light"
          },
          "paper_bgcolor": "white",
          "plot_bgcolor": "#E5ECF6",
          "polar": {
           "angularaxis": {
            "gridcolor": "white",
            "linecolor": "white",
            "ticks": ""
           },
           "bgcolor": "#E5ECF6",
           "radialaxis": {
            "gridcolor": "white",
            "linecolor": "white",
            "ticks": ""
           }
          },
          "scene": {
           "xaxis": {
            "backgroundcolor": "#E5ECF6",
            "gridcolor": "white",
            "gridwidth": 2,
            "linecolor": "white",
            "showbackground": true,
            "ticks": "",
            "zerolinecolor": "white"
           },
           "yaxis": {
            "backgroundcolor": "#E5ECF6",
            "gridcolor": "white",
            "gridwidth": 2,
            "linecolor": "white",
            "showbackground": true,
            "ticks": "",
            "zerolinecolor": "white"
           },
           "zaxis": {
            "backgroundcolor": "#E5ECF6",
            "gridcolor": "white",
            "gridwidth": 2,
            "linecolor": "white",
            "showbackground": true,
            "ticks": "",
            "zerolinecolor": "white"
           }
          },
          "shapedefaults": {
           "line": {
            "color": "#2a3f5f"
           }
          },
          "ternary": {
           "aaxis": {
            "gridcolor": "white",
            "linecolor": "white",
            "ticks": ""
           },
           "baxis": {
            "gridcolor": "white",
            "linecolor": "white",
            "ticks": ""
           },
           "bgcolor": "#E5ECF6",
           "caxis": {
            "gridcolor": "white",
            "linecolor": "white",
            "ticks": ""
           }
          },
          "title": {
           "x": 0.05
          },
          "xaxis": {
           "automargin": true,
           "gridcolor": "white",
           "linecolor": "white",
           "ticks": "",
           "title": {
            "standoff": 15
           },
           "zerolinecolor": "white",
           "zerolinewidth": 2
          },
          "yaxis": {
           "automargin": true,
           "gridcolor": "white",
           "linecolor": "white",
           "ticks": "",
           "title": {
            "standoff": 15
           },
           "zerolinecolor": "white",
           "zerolinewidth": 2
          }
         }
        },
        "title": {
         "text": "Feature Importance in Misclassifications"
        },
        "xaxis": {
         "title": {
          "text": "Features"
         }
        },
        "yaxis": {
         "title": {
          "text": "Impact"
         }
        }
       }
      }
     },
     "metadata": {},
     "output_type": "display_data"
    }
   ],
   "source": [
    "import plotly.graph_objects as go\n",
    "import numpy as np\n",
    "\n",
    "# Assuming you have calculated feature importances and misclassified points\n",
    "# This is a mock example with feature importances\n",
    "features = ['age', 'avg_glucose_level', 'bmi', 'smoking_status', 'hypertension']\n",
    "importances = np.random.rand(5)  # Replace this with actual feature importances for misclassified cases\n",
    "\n",
    "# Waterfall plot\n",
    "fig = go.Figure(go.Waterfall(\n",
    "    name = \"Feature Importance\",\n",
    "    orientation = \"v\",\n",
    "    measure = [\"relative\"] * len(features),\n",
    "    x = features,\n",
    "    y = importances,\n",
    "    decreasing = {\"marker\":{\"color\":\"red\"}},\n",
    "    increasing = {\"marker\":{\"color\":\"green\"}},\n",
    "    totals = {\"marker\":{\"color\":\"blue\"}}\n",
    "))\n",
    "\n",
    "fig.update_layout(title=\"Feature Importance in Misclassifications\", xaxis_title=\"Features\", yaxis_title=\"Impact\")\n",
    "fig.show()\n"
   ]
  },
  {
   "cell_type": "code",
   "execution_count": 3,
   "metadata": {},
   "outputs": [
    {
     "ename": "NameError",
     "evalue": "name 'features' is not defined",
     "output_type": "error",
     "traceback": [
      "\u001b[1;31m---------------------------------------------------------------------------\u001b[0m",
      "\u001b[1;31mNameError\u001b[0m                                 Traceback (most recent call last)",
      "Cell \u001b[1;32mIn[3], line 1\u001b[0m\n\u001b[1;32m----> 1\u001b[0m \u001b[43mfeatures\u001b[49m\n",
      "\u001b[1;31mNameError\u001b[0m: name 'features' is not defined"
     ]
    }
   ],
   "source": []
  }
 ],
 "metadata": {
  "kernelspec": {
   "display_name": "Python 3",
   "language": "python",
   "name": "python3"
  },
  "language_info": {
   "codemirror_mode": {
    "name": "ipython",
    "version": 3
   },
   "file_extension": ".py",
   "mimetype": "text/x-python",
   "name": "python",
   "nbconvert_exporter": "python",
   "pygments_lexer": "ipython3",
   "version": "3.11.5"
  }
 },
 "nbformat": 4,
 "nbformat_minor": 2
}
